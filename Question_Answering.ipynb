{
 "metadata": {
  "kernelspec": {
   "display_name": "Python 2",
   "language": "python",
   "name": "python2"
  },
  "language_info": {
   "codemirror_mode": {
    "name": "ipython",
    "version": 2
   },
   "file_extension": ".py",
   "mimetype": "text/x-python",
   "name": "python",
   "nbconvert_exporter": "python",
   "pygments_lexer": "ipython2",
   "version": "2.7.9"
  },
  "name": "",
  "signature": "sha256:74ac41eca1f58479176c377acaa7e949949f7821302a98d280f22aa70f3da49f"
 },
 "nbformat": 3,
 "nbformat_minor": 0,
 "worksheets": [
  {
   "cells": [
    {
     "cell_type": "code",
     "collapsed": false,
     "input": [
      "import string\n",
      "import operator\n",
      "import re\n",
      "from nltk.stem import WordNetLemmatizer\n",
      "from nltk.corpus import wordnet as wn\n",
      "from nltk.corpus import wordnet_ic\n",
      "from nltk.corpus import stopwords\n",
      "from nltk.corpus import framenet as fn\n",
      "import xlrd\n",
      "import numpy as np"
     ],
     "language": "python",
     "metadata": {},
     "outputs": [],
     "prompt_number": 2
    },
    {
     "cell_type": "code",
     "collapsed": false,
     "input": [
      "#Read frames file and store in a dict\n",
      "def remove_sym(word):\n",
      "        word = re.sub('[(),\\/;\\'@*%?^&.!\"-:@#$]', '', word)\n",
      "        return word\n",
      "\n",
      "fp = open(\"word_pairs.txt\",\"w\")\n",
      "brown_ic = wordnet_ic.ic('ic-brown.dat')\n",
      "word_pair_dict = {'a':'b'}\n",
      "f_lemma = open('lemmas.txt')\n",
      "lemma_dict = {}\n",
      "for line in f_lemma:\n",
      "    words = line.split()\n",
      "    lemma_dict[remove_sym(words[0])] = remove_sym(words[1]) \n",
      "\n",
      "answerFrameDict = {}\n",
      "with open('frames_questions.txt') as f:\n",
      "    for line in f:\n",
      "        key = int(line.split(\":\")[0].strip())\n",
      "        values = line.split(\":\")[1].split(\";\")\n",
      "        valList = []\n",
      "        #print key, values\n",
      "        for val in values[:-1]:\n",
      "            #print val.split(\"\\t\")\n",
      "            valList.append((val.split(\"\\t\")[0].strip(),val.split(\"\\t\")[1].strip()))\n",
      "        answerFrameDict[key] = valList\n",
      "        \n",
      "corpusFrameDict = {}\n",
      "with open('frames_corpus.txt') as f:\n",
      "    for line in f:\n",
      "        key = int(line.split(\":\")[0].strip())\n",
      "        values = line.split(\":\")[1].split(\";\")\n",
      "        valList = []\n",
      "        #print key, values\n",
      "        for val in values[:-1]:\n",
      "            #print val.split(\"\\t\")\n",
      "            valList.append((val.split(\"\\t\")[0].strip(),val.split(\"\\t\")[1].strip()))\n",
      "        corpusFrameDict[key] = valList"
     ],
     "language": "python",
     "metadata": {},
     "outputs": [],
     "prompt_number": 3
    },
    {
     "cell_type": "code",
     "collapsed": false,
     "input": [
      "workbook = xlrd.open_workbook('108-decomposed-questions.xlsx')\n",
      "worksheet = workbook.sheet_by_index(0)\n",
      "questionList = []\n",
      "answerList = []\n",
      "questionAnswerDict = {}\n",
      "for i in xrange(0, worksheet.nrows, 4):\n",
      "    questionWithOptions = worksheet.cell(i, 2).value\n",
      "    #print questionWithOptions\n",
      "    questionSplit = re.split(\".(A)\",questionWithOptions)\n",
      "    #split2 = re.split(\".\\(B\\)\",questionSplit[2])\n",
      "    questionList.append(questionSplit[0][:-1])\n",
      "    \n",
      "for i in range(0, worksheet.nrows):\n",
      "    answerList.append(worksheet.cell(i, 4).value)"
     ],
     "language": "python",
     "metadata": {},
     "outputs": [],
     "prompt_number": 4
    },
    {
     "cell_type": "code",
     "collapsed": false,
     "input": [
      "textList = []\n",
      "\n",
      "with open('Barrons-Grade-4-Science-sentences.tsv') as f:\n",
      "    for line in f:\n",
      "        text = line.split(\"\\t\")[1]\n",
      "        text = text.strip()\n",
      "        if text[-1] == '.':\n",
      "            text = text[:-1]\n",
      "        textList.append(text)"
     ],
     "language": "python",
     "metadata": {},
     "outputs": [],
     "prompt_number": 5
    },
    {
     "cell_type": "code",
     "collapsed": false,
     "input": [
      "def removeStopWords(sentence):\n",
      "    retList = []\n",
      "    stop = stopwords.words('english')\n",
      "    for punct in string.punctuation:\n",
      "        stop.append(punct)\n",
      "    for i in sentence.split():\n",
      "        if i not in stop:\n",
      "            word = str(i)\n",
      "            if word[-1] == ',':\n",
      "                word = word[:-1]\n",
      "            retList.append(word)\n",
      "    #return [str(i) for i in sentence.split() if i not in stop]\n",
      "    return retList"
     ],
     "language": "python",
     "metadata": {},
     "outputs": [],
     "prompt_number": 6
    },
    {
     "cell_type": "code",
     "collapsed": false,
     "input": [
      "#BOW - Pranneetha\n",
      "\n",
      "def remove_sym(word):\n",
      "        word = re.sub('[(),\\/;\\'@*%?^&.!\"-:@#$]', '', word)\n",
      "        return word\n",
      "\n",
      "fp = open(\"word_pairs.txt\",\"w\")\n",
      "brown_ic = wordnet_ic.ic('ic-brown.dat')\n",
      "word_pair_dict = {'a':'b'}\n",
      "f_lemma = open('lemmas.txt')\n",
      "lemma_dict = {}\n",
      "for line in f_lemma:\n",
      "    words = line.split()\n",
      "    lemma_dict[remove_sym(words[0])] = remove_sym(words[1]) \n",
      "fp_sim = open(\"word_pairs_third.txt\",\"w\")\n",
      "\n",
      "def eng(word):\n",
      "        ans = ''\n",
      "        for i in word:\n",
      "                if ord(i) >= 48 and ord(i) <= 127:\n",
      "                        ans = ans + i\n",
      "        return ans\n",
      "\n",
      "def getBowSimilarityScore(hypothesis_list,text_list):\n",
      "    hypothesis_list = removeStopWords(' '.join(hypothesis_list))\n",
      "    if len(hypothesis_list) == 0:\n",
      "        return 0\n",
      "\n",
      "    text_list = removeStopWords(' '.join(text_list))\n",
      "    if len(text_list) == 0:\n",
      "        return 0\n",
      "\n",
      "\n",
      "    score = 0    \n",
      "    for word_text in text_list:\n",
      "        lemma_text = lemma_dict[remove_sym(word_text)]\n",
      "        lemma_text = eng(lemma_text)\n",
      "        if lemma_text == '':\n",
      "            continue\n",
      "        for word_hypothesis in hypothesis_list:\n",
      "            lemma_hypothesis = lemma_dict[remove_sym(word_hypothesis)]\n",
      "            lemma_hypothesis = eng(lemma_hypothesis)\n",
      "            if lemma_hypothesis == '':\n",
      "                continue\n",
      "            if lemma_text < lemma_hypothesis:\n",
      "                \n",
      "                score += lexical_compare(lemma_text,lemma_hypothesis)\n",
      "                \n",
      "            else:\n",
      "                \n",
      "                score += lexical_compare(lemma_text,lemma_hypothesis)\n",
      "               \n",
      "    return score\n",
      "\n",
      "\n",
      "\n",
      "# In[303]:\n",
      "\n",
      "def get_index(synset1,synset2):\n",
      "    i = 0\n",
      "    A = [(str(synset.name())) for synset in synset1]             \n",
      "    for word in A:\n",
      "        if word.split('.')[1] == str(synset2[0].name()).split('.')[1]:\n",
      "            return i\n",
      "        i +=1\n",
      "    return -1\n",
      "\n",
      "\n",
      "# In[304]:\n",
      "\n",
      "def lexical_compare(lemma_text,lemma_hypothesis):\n",
      "    similarity_score = 0\n",
      "    #brown_ic = wordnet_ic.ic('ic-brown.dat')\n",
      "    if re.search(lemma_text,lemma_hypothesis,re.M|re.I):\n",
      "        return 50\n",
      "    hypo_synset = wn.synsets(lemma_hypothesis)\n",
      "    if len(hypo_synset) == 0:\n",
      "        return 0\n",
      "    posName = str(hypo_synset[0].name()).split(\".\")[1]\n",
      "    if posName == 's':\n",
      "        posName = 'a'\n",
      "    text_synset = wn.synsets(lemma_text,pos=posName)\n",
      " \n",
      "    if len(text_synset) == 0:\n",
      "        return 0\n",
      "  \n",
      "    if len(hypo_synset) > 0 and len(text_synset) > 0:\n",
      "        #print \"Computing similarity between\", hypo_synset[synset_index], \"and\", text_synset[0]\n",
      "        similarity_score = hypo_synset[0].path_similarity(text_synset[0],brown_ic)\n",
      "        if similarity_score != None:\n",
      "            wupSimilarity = hypo_synset[0].wup_similarity(text_synset[0],brown_ic)\n",
      "            if wupSimilarity != None:\n",
      "                similarity_score += wupSimilarity\n",
      "\n",
      "    if similarity_score == None:\n",
      "        similarity_score = 0\n",
      "    return similarity_score\n",
      "\n",
      "def getBowCandidateSentences(questionText,focuswordsList):\n",
      "    textScoreMap = {}\n",
      "    print 'In getCandidate question is ' + questionText\n",
      "    #wordnet_lemmatizer = WordNetLemmatizer()\n",
      "    questionTextWithoutStopWords = list(set(removeStopWords(remove_sym(questionText))))\n",
      "    for i,text in enumerate(textList):\n",
      "        textWithoutStopWords = list(set(removeStopWords(remove_sym(text))))\n",
      "        focusWithoutStopWords = list(set(removeStopWords(remove_sym(' '.join(focuswordsList)))))\n",
      "        focusWithoutStopWords = [lemma_dict[remove_sym(iter_word)] for iter_word in focusWithoutStopWords]\n",
      "        focus_score = 0\n",
      "        if len(list(set(focusWithoutStopWords) & set(textWithoutStopWords))) == len(focusWithoutStopWords):\n",
      "            focus_score = 3*len(focusWithoutStopWords)\n",
      "        #print \"Comparing\", textWithoutStopWords\n",
      "        textWithoutStopWords = [lemma_dict[remove_sym(iter_word)] for iter_word in textWithoutStopWords]\n",
      "        questionWithoutStopWords = [lemma_dict[remove_sym(iter_word)] for iter_word in questionTextWithoutStopWords]\n",
      "        \n",
      "        text_question_similarity = len(list(set(textWithoutStopWords) & set(questionWithoutStopWords)))\n",
      "        textScoreMap[text+\";\"+str(i)] = text_question_similarity + focus_score\n",
      "        #similarityScore = getSimilarityScore(textWithoutStopWords, questionTextWithoutStopWords)\n",
      "        #print \"Similarity Score is\", text_question_similarity\n",
      "        #textScoreMap[text] = similarityScore\n",
      "    sorted_textScoreMap = sorted(textScoreMap.items(), key=operator.itemgetter(1))\n",
      "    sorted_textScoreMap.reverse()\n",
      "    #print sorted_textScoreMap\n",
      "    #print sorted_textScoreMap[:5]\n",
      "    top5SentenceMap = sorted_textScoreMap[:10]\n",
      "    top5Sentences = []\n",
      "    for sentence,value in top5SentenceMap:\n",
      "        top5Sentences.append((sentence,value))\n",
      "    #print top5Sentences\n",
      "    return top5Sentences"
     ],
     "language": "python",
     "metadata": {},
     "outputs": [],
     "prompt_number": 7
    },
    {
     "cell_type": "code",
     "collapsed": false,
     "input": [
      "def getCandidateSentences(questionId):\n",
      "    textScoreMap = {}\n",
      "    #print 'question is ' + questionText\n",
      "    questionFrameTuples = answerFrameDict[questionId]\n",
      "    questionFrames = [questionFrameTuple[0] for questionFrameTuple in questionFrameTuples]\n",
      "    wordnet_lemmatizer = WordNetLemmatizer()\n",
      "    answerStop = list(set(removeStopWords(answerList[questionId])))\n",
      "    #print \"question frames are\", questionFrames\n",
      "    \n",
      "    for i,text in enumerate(textList):\n",
      "        #textWithoutStopWords = list(set(removeStopWords(text)))\n",
      "        #print textWithoutStopWords\n",
      "        #print \"Comparing\", textWithoutStopWords, \"and\", questionTextWithoutStopWords\n",
      "        #if i == 1199:\n",
      "            #break\n",
      "        corpusFrameTuples = corpusFrameDict[i]\n",
      "        corpusFrames = [corpusFrameTuple[0] for corpusFrameTuple in corpusFrameTuples]\n",
      "        #print (text, corpusFrames)\n",
      "        textWithoutStopWords = [wordnet_lemmatizer.lemmatize(iter_word) for iter_word in corpusFrames]\n",
      "        questionWithoutStopWords = [wordnet_lemmatizer.lemmatize(iter_word) for iter_word in questionFrames]\n",
      "        \n",
      "        corpusStop = list(set(removeStopWords(text)))\n",
      "        \n",
      "        bowcorpus = [wordnet_lemmatizer.lemmatize(iter_word) for iter_word in corpusStop]\n",
      "        bowanswer = [wordnet_lemmatizer.lemmatize(iter_word) for iter_word in answerStop]\n",
      "        bow_similarity = len(list(set(bowcorpus) & set(bowanswer)))\n",
      "        \n",
      "        #print \"text without stop words\", textWithoutStopWords\n",
      "        #print \"question without stop words\", questionWithoutStopWords\n",
      "        \n",
      "        num_frame_similarity = len(list(set(textWithoutStopWords) & set(questionWithoutStopWords)))\n",
      "        \n",
      "        frame_relation_similarity = getSimilarityScore2(questionId,i)\n",
      "        \n",
      "        text_question_similarity = 0 * bow_similarity +  num_frame_similarity**3 + frame_relation_similarity\n",
      "        textScoreMap[text+\";\"+str(i)] = text_question_similarity#/len(text)\n",
      "        #text_question_similarity = text_question_similarity + getSimilarityScore(questionId,i)\n",
      "        #textScoreMap[text+\";\"+str(i)] = (float(text_question_similarity)/float(len(text.split()))**0.25)\n",
      "        #if len(corpusFrames) == 0:\n",
      "            #print (text,corpusFrames, text_question_similarity)\n",
      "        #similarityScore = getSimilarityScore(textWithoutStopWords, questionTextWithoutStopWords)\n",
      "        #print \"Similarity Score is\", similarityScore\n",
      "        #textScoreMap[text] = similarityScore\n",
      "    sorted_textScoreMap = sorted(textScoreMap.items(), key=operator.itemgetter(1))\n",
      "    sorted_textScoreMap.reverse()\n",
      "    #print sorted_textScoreMap\n",
      "    #print sorted_textScoreMap[:5]\n",
      "    top5SentenceMap = sorted_textScoreMap[:10]\n",
      "    top5Sentences = []\n",
      "    for sentence,value in top5SentenceMap:\n",
      "        top5Sentences.append((sentence,value))\n",
      "    #print top5Sentences\n",
      "    return top5Sentences"
     ],
     "language": "python",
     "metadata": {},
     "outputs": [],
     "prompt_number": 8
    },
    {
     "cell_type": "code",
     "collapsed": false,
     "input": [
      "def getSimilarityScore(questionId,corpusId):\n",
      "    questionFrames = [questionFrameTuple[0] for questionFrameTuple in answerFrameDict[questionId]]\n",
      "    corpusFrames = [corpusFrameTuple[0] for corpusFrameTuple in corpusFrameDict[corpusId]]\n",
      "    numFramesMatched = 0\n",
      "    for q in questionFrames:\n",
      "        qf = fn.frame(q)\n",
      "        for a in corpusFrames:\n",
      "            a = fn.frame(a)\n",
      "            relations = a.frameRelations\n",
      "            for relation in relations:\n",
      "                if relation['subFrameName'] == q or relation['superFrameName'] == q:\n",
      "                    #print relation\n",
      "                    #print relation.type['name']\n",
      "                    numFramesMatched = numFramesMatched + 1\n",
      "                    break\n",
      "    if ((questionId == 28 or questionId == 29) and corpusId == 986):\n",
      "        print \"rel match\", numFramesMatched\n",
      "    return numFramesMatched\n",
      "    #return float(numFramesMatched)/float(abs(len(corpusFrames)-len(questionFrames))+1)"
     ],
     "language": "python",
     "metadata": {},
     "outputs": [],
     "prompt_number": 9
    },
    {
     "cell_type": "code",
     "collapsed": false,
     "input": [
      "def getSimilarityScore2(questionId,corpusId):\n",
      "    questionFrames = [questionFrameTuple for questionFrameTuple in answerFrameDict[questionId]]\n",
      "    corpusFrames = [corpusFrameTuple for corpusFrameTuple in corpusFrameDict[corpusId]]\n",
      "    \n",
      "    numFramesMatched = 0\n",
      "    qList = []\n",
      "    \n",
      "    for q,wq in questionFrames:\n",
      "        if q in qList:\n",
      "            continue\n",
      "        else:\n",
      "            qList.append(q)\n",
      "        qf = fn.frame(q)\n",
      "        aList = []\n",
      "        for a,wa in corpusFrames:\n",
      "            if a in aList:\n",
      "                continue\n",
      "            else:\n",
      "                aList.append(a)\n",
      "            a = fn.frame(a)\n",
      "            relations = a.frameRelations\n",
      "            for relation in relations:\n",
      "                if relation['subFrameName'] == q or relation['superFrameName'] == q:\n",
      "                    #print relation\n",
      "                    #print relation.type['name']\n",
      "                    numFramesMatched = numFramesMatched + 1\n",
      "                    if wq == wa:\n",
      "                        #print \"words matched\", wq, wa\n",
      "                        numFramesMatched =  numFramesMatched + 4\n",
      "                    else:\n",
      "                        #print \"words not matched\", wq, wa\n",
      "                        numFramesMatched = numFramesMatched - 2\n",
      "                    break\n",
      "                #if a == q:\n",
      "                    #numFramesMatched = numFramesMatched * 1.5\n",
      "                    \n",
      "    #print \"----------question frames---------\"\n",
      "    #print qList\n",
      "        \n",
      "    #print \"-----corpus frames------\",aList,sent\n",
      "\n",
      "    if ((questionId == 28 or questionId == 29) and corpusId == 986):\n",
      "        print \"rel match\", numFramesMatched\n",
      "    #print numFramesMatched\n",
      "    ##print \"End of getSimilarity\"\n",
      "    return numFramesMatched\n",
      "    #return numFramesMatched/len(corpusFrames)+1\n",
      "    #return float(numFramesMatched)/float(abs(len(corpusFrames)-len(questionFrames))+1)"
     ],
     "language": "python",
     "metadata": {},
     "outputs": [],
     "prompt_number": 10
    },
    {
     "cell_type": "code",
     "collapsed": false,
     "input": [
      "rightAnswers = []\n",
      "with open('right_answers') as f:\n",
      "    for line in f:\n",
      "        rightAnswers.append(line.strip())"
     ],
     "language": "python",
     "metadata": {},
     "outputs": [],
     "prompt_number": 11
    },
    {
     "cell_type": "code",
     "collapsed": false,
     "input": [
      "import pickle\n",
      "bowScoreList = []\n",
      "with open('scores_unnorm_wofocus', 'rb') as f:\n",
      "    bowScoreList = pickle.load(f)"
     ],
     "language": "python",
     "metadata": {},
     "outputs": [],
     "prompt_number": 12
    },
    {
     "cell_type": "code",
     "collapsed": false,
     "input": [
      "correctAnswerList = []\n",
      "wordnet_lemmatizer = WordNetLemmatizer()\n",
      "numCorrectPredictions = 0\n",
      "k = 0\n",
      "#k = 44\n",
      "for i in range(0, len(questionList)):\n",
      "#for i in range(32,33):\n",
      "    maxEntailmentScore = 0\n",
      "    bestAnswer = answerList[i*4]\n",
      "    qList = questionList[i].split()\n",
      "    qList = [remove_sym(ar).lower() for ar in qList]\n",
      "    #55,71,95\n",
      "    \n",
      "    if i == 55 or i == 71 or i == 95:\n",
      "        candidateSentences1 = getBowCandidateSentences(answerList[k],list(set(remove_sym(answerList[k]).split()) - set(qList)))\n",
      "        #print list(set(remove_sym(answerList[k].split())) - set(qList))\n",
      "        candidateSentences2 = getBowCandidateSentences(answerList[k+1],list(set(remove_sym(answerList[k+1]).split()) - set(qList)))\n",
      "        candidateSentences3 = getBowCandidateSentences(answerList[k+2],list(set(remove_sym(answerList[k+2]).split()) - set(qList)))\n",
      "        answerCandidateSentences = list(set(candidateSentences1) | set(candidateSentences2) | set(candidateSentences3))\n",
      "        rangeList = range(k,k+3)\n",
      "        k = k + 3\n",
      "    else:\n",
      "        candidateSentences1 = getBowCandidateSentences(answerList[k],list(set(remove_sym(answerList[k]).split()) - set(qList)))\n",
      "        #print list(set(answerList[k].split()) - set(qList))\n",
      "        candidateSentences2 = getBowCandidateSentences(answerList[k+1],list(set(remove_sym(answerList[k+1]).split()) - set(qList)))\n",
      "        candidateSentences3 = getBowCandidateSentences(answerList[k+2],list(set(remove_sym(answerList[k+2]).split()) - set(qList)))\n",
      "        candidateSentences4 = getBowCandidateSentences(answerList[k+3],list(set(remove_sym(answerList[k+3]).split()) - set(qList)))\n",
      "        answerCandidateSentences = list(set(candidateSentences1) | set(candidateSentences2) | set(candidateSentences3) | set(candidateSentences4))\n",
      "        \n",
      "        rangeList = range(k,k+4)\n",
      "        k = k + 4\n",
      "    print answerCandidateSentences\n",
      "    answerScores = []\n",
      "    for j in rangeList:\n",
      "        #answerCandidateSentences = getCandidateSentences(j)\n",
      "        #print \"hi\",answerList[j],qList\n",
      "        focusWords = removeStopWords(' '.join(list(set(remove_sym(answerList[j].lower()).split()) - set(qList))))\n",
      "        #silly fix\n",
      "        if 'f' in focusWords:\n",
      "            focusWords.remove('f')\n",
      "        entailmentScore = 0\n",
      "        decay = 1\n",
      "        #print \"answer candidates are\", answerCandidateSentences\n",
      "        bowanswer = [wordnet_lemmatizer.lemmatize(iter_word) for iter_word in list(set(removeStopWords(answerList[j])))]\n",
      "        \n",
      "        questionFrames = [questionFrameTuple[0] for questionFrameTuple in answerFrameDict[j]]\n",
      "        questionWords = [questionFrameTuple[1].lower() for questionFrameTuple in answerFrameDict[j]]\n",
      "        allFocusPresent = True\n",
      "        for focusWord in focusWords:\n",
      "            #print \"checking for focus \",focusWord\n",
      "            if focusWord.lower() not in questionWords:\n",
      "                allFocusPresent = False\n",
      "                break\n",
      "\n",
      "            \n",
      "        #print \"----------question frames---------\",questionFrames\n",
      "        \n",
      "        for sent in answerCandidateSentences:\n",
      "            CandidatePresent = True\n",
      "            \n",
      "            #entailmentScore = entailmentScore + (decay * getSimilarityScore(j, int(sent[0].split(\";\")[1])))\n",
      "            #print j\n",
      "            frameRelationSimilarity = getSimilarityScore2(j, int(sent[0].split(\";\")[1]))\n",
      "            \n",
      "            for focusWord in focusWords:\n",
      "                #print focusWord, sent\n",
      "                if focusWord.lower() not in sent[0].split(\";\")[0].lower():\n",
      "                    CandidatePresent = False\n",
      "                    break\n",
      "                    \n",
      "            for focusWord in focusWords:\n",
      "                #print \"comparing\", focusWord,sent[0].split(\";\")[0]\n",
      "                if lexical_compare(focusWord,sent[0].split(\";\")[0]) >= 0.7:\n",
      "                    #print \"lexical focus match\", focusWord,sent[0].split(\";\")[0]\n",
      "                    frameRelationSimilarity = frameRelationSimilarity + 1.5\n",
      "                    \n",
      "            #if questionFrames[]\n",
      "            if not allFocusPresent and CandidatePresent:\n",
      "                #print \"not all focus words are present\",focusWords\n",
      "                frameRelationSimilarity = frameRelationSimilarity + 5\n",
      "                \n",
      "            if allFocusPresent and not CandidatePresent:\n",
      "                #print \"focus present and Candidate not present\", focusWords\n",
      "                frameRelationSimilarity = frameRelationSimilarity - 5\n",
      "                \n",
      "            if not allFocusPresent and not CandidatePresent:\n",
      "                #print \"both focus and candidate not present\", focusWords\n",
      "                frameRelationSimilarity = frameRelationSimilarity - 10\n",
      "            #print \"In last cell\",frameRelationSimilarity\n",
      "            #entailmentScore = entailmentScore + decay * sent[1]\n",
      "            \n",
      "            corpusStop = list(set(removeStopWords(sent[0])))\n",
      "        \n",
      "            bowcorpus = [wordnet_lemmatizer.lemmatize(iter_word) for iter_word in corpusStop]\n",
      "            \n",
      "            bowSimilarity = len(list(set(bowcorpus) & set(bowanswer)))            \n",
      "            \n",
      "            corpusFrames = [corpusFrameTuple[0] for corpusFrameTuple in corpusFrameDict[int(sent[0].split(\";\")[1])]]\n",
      "            \n",
      "            #print \"-----corpus frames------\",corpusFrames,sent\n",
      "            \n",
      "            num_frame_similarity = len(list(set(questionFrames) & set(corpusFrames)))\n",
      "            \n",
      "            #bowScore = (bowScore * decay) ** 3\n",
      "            \n",
      "            #newEntailmentScore = 0 * bowSimilarity +  0*num_frame_similarity + frameRelationSimilarity\n",
      "            newEntailmentScore = frameRelationSimilarity\n",
      "            \n",
      "            #newEntailmentScore = newEntailmentScore * decay\n",
      "            \n",
      "            #entailmentScore = entailmentScore + newEntailmentScore\n",
      "            if newEntailmentScore > entailmentScore:\n",
      "                entailmentScore = newEntailmentScore\n",
      "            \n",
      "            #decay = decay * 0.9\n",
      "            \n",
      "            #print \"sentence\" , sent\n",
      "            #decay = decay * 0.01\n",
      "        #if j in range(28,32):\n",
      "            #print answerCandidateSentences\n",
      "        #print \"entailment score for answer\", answerList[j],\"is\", entailmentScore\n",
      "        answerScores.append(entailmentScore)\n",
      "        if entailmentScore > maxEntailmentScore:\n",
      "            maxEntailmentScore = entailmentScore\n",
      "            bestAnswer = answerList[j]\n",
      "    normalizedSemanticScores = []\n",
      "    for score in answerScores:\n",
      "        if max(answerScores) > 0:\n",
      "            normalizedSemanticScores.append((score-np.mean(answerScores)+1)/np.var(answerScores)+1)\n",
      "        else:\n",
      "            normalizedSemanticScores.append(0)\n",
      "    #normalizedSemanticScores = [score/max(answerScores) for score in answerScores]\n",
      "    bowScores = bowScoreList[i]\n",
      "    normalizedBowScores = [(score-np.mean(bowScores)+1)/np.var(bowScores)+1 for score in bowScores]\n",
      "    normalizedTotalScores = [score1 + score2 for score1,score2 in zip(normalizedSemanticScores,normalizedBowScores)]\n",
      "    #normalizedTotalScores = normalizedBowScores\n",
      "    #if np.var(normalizedBowScores) < 0.001:\n",
      "        #normalizedTotalScores = normalizedSemanticScores\n",
      "    bestAnswerIndex = normalizedTotalScores.index(max(normalizedTotalScores))\n",
      "    #print \"range index is\", rangeList[0]\n",
      "    #print \"best answer index is\", bestAnswerIndex\n",
      "    bestAnswer = answerList[rangeList[0] + bestAnswerIndex]\n",
      "    print \"best answer is: ---\\n\", bestAnswer, answerScores,normalizedTotalScores#normalizedSemanticScores, normalizedBowScores, np.var(normalizedSemanticScores), np.var(normalizedBowScores)\n",
      "    print \"---------------------------------------------\"\n",
      "    correctAnswerList.append(bestAnswer)\n",
      "    if bestAnswer == rightAnswers[i]:\n",
      "        numCorrectPredictions = numCorrectPredictions + 1\n",
      "    #if i == 50:\n",
      "        #break"
     ],
     "language": "python",
     "metadata": {},
     "outputs": [
      {
       "output_type": "stream",
       "stream": "stdout",
       "text": [
        "In getCandidate question is if an object is attracted to a magnet , the object is most likely made of metal .\n",
        "In getCandidate question is if an object is attracted to a magnet , the object is most likely made of plastic ."
       ]
      },
      {
       "output_type": "stream",
       "stream": "stdout",
       "text": [
        "\n",
        "In getCandidate question is if an object is attracted to a magnet , the object is most likely made of wood ."
       ]
      },
      {
       "output_type": "stream",
       "stream": "stdout",
       "text": [
        "\n",
        "In getCandidate question is if an object is attracted to a magnet , the object is most likely made of cardboard ."
       ]
      },
      {
       "output_type": "stream",
       "stream": "stdout",
       "text": [
        "\n",
        "[('The different poles of a magnet are attracted to one another;608', 2), ('Fecal wastes are made from unused foods that an animal has eaten;918', 1), ('A magnet is an object that attracts metals;604', 2), ('Think about moving a box across a wood floor;592', 4), ('The distance between two magnets or a magnet and another metal object has an effect on the force of attraction;612', 2), ('Mechanical energy exerted by one object can push or pull another object;544', 1), ('The amount of friction that an object encounters depends on its smoothness;597', 1), ('The heat from the pot is transferred to the metal spoon;539', 4), ('Magnetism can be caused in some kinds of materials by a magnet;546', 1), ('Have you ever put a metal spoon in a pot that is being heated on the stove and then tried to touch the spoon?;537', 4), ('For example, some metal objects allow heat and electricity to transfer better than do plastic or rubber objects;570', 5), ('Humans use wood to build homes, which comes from trees;438', 4), ('The world around us is made up of both living and nonliving things;1', 1), ('A ruler is used to measure the length of a piece of wood;1196', 4), ('Iron and steel are more magnetic than wood or plastic;571', 4), ('The distance between two magnets or a magnet and another metal object has an effect on the force of attraction;612', 6), ('If you were to take two magnets, the north end of one magnet would be attracted to the south end of the other;610', 2), ('A magnet is an object that attracts metals;604', 3), ('Examples of objects that are attracted by magnet are a staple, an iron nail, and a pin;1099', 3)]"
       ]
      },
      {
       "output_type": "stream",
       "stream": "stdout",
       "text": [
        "\n",
        "best answer is: ---\n"
       ]
      },
      {
       "output_type": "stream",
       "stream": "stdout",
       "text": [
        "if an object is attracted to a magnet , the object is most likely made of metal . [11.5, 6.5, 6.5, 0] [2.465509847146925, 2.0581064935554414, 2.0574616481783634, 1.6675834851043239]\n",
        "---------------------------------------------\n",
        "In getCandidate question is heat causes an ice cube to melt .\n",
        "In getCandidate question is sound causes an ice cube to melt ."
       ]
      },
      {
       "output_type": "stream",
       "stream": "stdout",
       "text": [
        "\n",
        "In getCandidate question is mechanical energy causes an ice cube to melt ."
       ]
      },
      {
       "output_type": "stream",
       "stream": "stdout",
       "text": [
        "\n",
        "In getCandidate question is magnetic energy causes an ice cube to melt ."
       ]
      },
      {
       "output_type": "stream",
       "stream": "stdout",
       "text": [
        "\n",
        "[('Mechanical energy changes to heat in bicycle brakes;558', 4), ('Changes in the weather, too much rainfall, and severe cold or heat affect plants and animals;407', 4), ('A magnet detects magnetic properties;852', 4), ('We can get heat energy from the sun;530', 4), ('Humans shiver when it is cold and by doing so we create more heat in an attempt to warm our bodies;206', 4), ('Melting is the opposite of freezing and involves changing water from its solid state (ice) to a liquid state by the addition of heat;783', 5), ('In everyday life different forms of energy interact with matter;549', 1), ('An example of the transfer of chemical energy to electrical energy is between battery and light bulb;1188', 1), ('Using appliances that conserve energy (energy efficient);472', 1), ('The energy transformation that occurs when you ring a door bell is electrical energy to sound;1091', 4), ('Heat, electric, sound, chemical, mechanical, and light are all examples of different forms of energy;528', 5), ('If you were to place a magnet under a piece of paper and sprinkle iron filings on the paper you would be able to see the magnetic field of the magnet;607', 4), ('Iron and steel are more magnetic than wood or plastic;571', 4), ('Playing a guitar is an example of mechanical energy changing to sound energy;1086', 4), ('The space around the magnet is called the magnetic field;606', 4), ('Pounding a fist on a table is an example of mechanical energy changing to to sound energy;1083', 4), ('Heat, electric, sound, chemical, mechanical, and light are all examples of different forms of energy;528', 4), ('A blender is an example of electrical energy changing to mechanical energy;1087', 5), ('Mechanical energy changes to sound in a piano;559', 4), ('The simplest way to observe matter is to use your senses: sight, sound, taste, touch, and hearing;486', 4), ('Mechanical energy changes to sound energy by playing a musical instrument;555', 4), ('Banging a drum is an example of mechanical energy;1082', 5), (\"Clouds can block the Earth's ability to absorb light and heat from the sun and therefore can affect temperature;738\", 4), ('As the distance between the objects increases the magnetic force of attraction decreases;614', 4), ('Freezing involves changing water from its liquid state to its solid state (ice) by the removal of heat;782', 5), ('A car engine is an example of chemical energy changing to mechanical energy;1088', 5), ('This helps to regulate their body heat;217', 4), ('Fossil fuels like oil and natural gas are used to heat our homes and power factories to make items that we purchase;442', 4), ('Chemical energy changes to mechanical energy in a gasoline engine;565', 5), ('In a glass of water that contains ice cubes we find two phases of matter: liquid and solid;1066', 2), ('Electrical energy changes to sound energy in a door buzzer;554', 4), ('Playing a guitar is an example of mechanical energy changing to sound energy;1086', 5), ('Magnetic energy changes to mechanical energy in a magnetic door latch;566', 5), ('Electrical energy changes to mechanical energy in a food mixer;562', 5), ('A snowball melting in your hand is an example of heat energy;1081', 4), ('Physical properties include: color, hardness, odor, sound, taste, texture, and size;495', 4), ('Heat changes to sound in a tea kettle;560', 4), ('Pounding a fist on a table is an example of mechanical energy changing to to sound energy;1083', 5)]"
       ]
      },
      {
       "output_type": "stream",
       "stream": "stdout",
       "text": [
        "\n",
        "best answer is: ---\n"
       ]
      },
      {
       "output_type": "stream",
       "stream": "stdout",
       "text": [
        "heat causes an ice cube to melt . [6.5, 6.5, 6.5, 6.5] [inf, inf, inf, inf]\n",
        "---------------------------------------------\n",
        "In getCandidate question is centimeters can be used to describe the length of a desk .\n",
        "In getCandidate question is degrees Celsius can be used to describe the length of a desk ."
       ]
      },
      {
       "output_type": "stream",
       "stream": "stdout",
       "text": [
        "\n",
        "In getCandidate question is grams can be used to describe the length of a desk ."
       ]
      },
      {
       "output_type": "stream",
       "stream": "stdout",
       "text": [
        "\n",
        "In getCandidate question is liters can be used to describe the length of a desk ."
       ]
      },
      {
       "output_type": "stream",
       "stream": "stdout",
       "text": [
        "\n",
        "[('Water is used to break down and move materials throughout the body;11', 1), ('Precipitation is the term used to describe water (moisture) that falls from the sky;723', 2), ('Temperature is measured in degrees on either the Fahrenheit or Celsius scale;721', 2), ('A meter stick measures length;846', 1), ('A metric ruler can be used to measure the length of a stick;1147', 2), ('A pie graph is often used to show percentages of variables that equal 100;904', 1), ('A graph such as this might be used to show the number of students with different eye color for your entire class;903', 1), ('We can describe the paper in terms of its color (white) and its size (21 centimeters wide and 27 centimeters long);503', 2), ('Precipitation is the term used to describe water falling from the sky;1114', 2), ('Other conditions used to describe the weather include humidity and cloud cover;733', 2), ('A ruler is used to measure the length of a piece of wood;1196', 2), ('A ruler measures length;845', 1)]"
       ]
      },
      {
       "output_type": "stream",
       "stream": "stdout",
       "text": [
        "\n",
        "best answer is: ---\n",
        "degrees Celsius can be used to describe the length of a desk . [16.5, 13.0, 10, 10] [4.0520306827833581, 5.760112562415971, 2.3575004052147657, 2.3575004052147657]\n",
        "---------------------------------------------\n",
        "In getCandidate question is gravity causes a marble to sink to the bottom of a glass of water .\n",
        "In getCandidate question is electricity causes a marble to sink to the bottom of a glass of water ."
       ]
      },
      {
       "output_type": "stream",
       "stream": "stdout",
       "text": [
        "\n",
        "In getCandidate question is magnetism causes a marble to sink to the bottom of a glass of water ."
       ]
      },
      {
       "output_type": "stream",
       "stream": "stdout",
       "text": [
        "\n",
        "In getCandidate question is friction causes a marble to sink to the bottom of a glass of water ."
       ]
      },
      {
       "output_type": "stream",
       "stream": "stdout",
       "text": [
        "\n",
        "[('For example, some metal objects allow heat and electricity to transfer better than do plastic or rubber objects;570', 4), ('The water that falls can be in liquid form, such as rain, or in solid form, such as snow;796', 1), ('The box pushed across the floor will eventually stop because of the force, or friction, the floor has on the box;596', 4), ('Objects being pushed over a smooth surface will move easier due to less friction;1165', 4), ('When an object travels slowly over a bumpy surface and fast over a smooth surface the difference is due to friction;1189', 4), ('Surface waters are heated by the radiation from the sun, which causes the phase change;1133', 2), ('The amount of friction that an object encounters depends on its smoothness;597', 4), ('When two objects slide over one another friction can occur;1098', 4), ('This is because the water vapor in the air came in contact with the cool glass;793', 2), ('The astronaut does not experience gravity while in outer space;1198', 4), ('Another type of force is magnetism;603', 4), ('The water vapor cooled and changed from its gaseous state to a liquid state (droplets) on your glass;794', 2), ('It is gravity that keeps everything from flying away;617', 4), ('The smoother the surface, the less friction against an object, so the faster it will move;598', 4), ('Plants need water, light, air, and food to survive;960', 1), ('When you jump up in the air, you come back down to the ground due to gravity;1158', 4), ('After a few minutes water droplets appeared on the outside of your glass;792', 2), ('In a glass of water that contains ice cubes we find two phases of matter: liquid and solid;1066', 2), ('The force that pulls objects toward the Earth is gravity;1166', 4), ('Water, wind, and gravity are all forces involved in erosion;822', 4), ('Think back to a hot summer day, when you poured yourself a glass of cold water and took it outside;791', 2), ('Eventually, the particles that are being moved by water, wind, and/or gravity will stop moving;830', 5), ('When an object joins two wires and a bulb lights, the object is able to conduct electricity;1169', 4), ('The force identified by a north and south pole is magnetism;1167', 4), ('The force of magnetism decreases as the magnets are pulled apart;1185', 4)]"
       ]
      },
      {
       "output_type": "stream",
       "stream": "stdout",
       "text": [
        "\n",
        "best answer is: ---\n"
       ]
      },
      {
       "output_type": "stream",
       "stream": "stdout",
       "text": [
        "friction causes a marble to sink to the bottom of a glass of water . [6.5, 1.5, 6.5, 6.5] [4.1229938187047113, 4.4973261759918399, 4.1229938187046233, 8.4200880630968342]\n",
        "---------------------------------------------\n",
        "In getCandidate question is rotation of Earth causes day and night .\n",
        "In getCandidate question is revolution of Earth causes day and night ."
       ]
      },
      {
       "output_type": "stream",
       "stream": "stdout",
       "text": [
        "\n",
        "In getCandidate question is rotation of the Moon causes day and night ."
       ]
      },
      {
       "output_type": "stream",
       "stream": "stdout",
       "text": [
        "\n",
        "In getCandidate question is revolution of the Moon causes day and night ."
       ]
      },
      {
       "output_type": "stream",
       "stream": "stdout",
       "text": [
        "\n",
        "[('We measure time on Earth based on both the rotation of the Earth on its axis and its revolution around the sun;654', 8), ('The moon makes a complete orbit around the Earth once every 29 1/2 days;679', 1), (\"If an object is thrown into the air, the force used will only allow it to travel a certain distance before the gravitational attraction between the object and the Earth causes it to fall back down to Earth 's surface;618\", 2), ('It is the rotation of the Earth that makes the sun appear to move through the sky during the day, rising in the east and setting in the west;653', 1), ('The sun, moon, and certain stars can be seen every day and night in our sky;646', 2), ('One complete revolution of the moon around the Earth takes approximately one month;1106', 8), ('This rotation is what results in day and night on Earth;652', 10), ('The Earth makes a complete rotation on its axis once every 24 hours;1100', 8), ('This rotation is what results in day and night on Earth;652', 3), ('The moon makes a complete orbit around the Earth once every 29 1/2 days;679', 2), ('The movement of the moon around the Earth is called revolution;675', 8), ('Earthquakes occur every day all over Earth;833', 1), ('The chemicals from smoking can also cause very serious diseases such as lung cancer;361', 1), ('Earthquakes occur every day all over Earth;833', 2), ('It is the rotation of the Earth that makes the sun appear to move through the sky during the day, rising in the east and setting in the west;653', 2), ('There are a number of different objects, called celestial objects, that appear in the sky each day and night;643', 2), ('It is the rotation of the Earth that makes the sun appear to move through the sky during the day, rising in the east and setting in the west;653', 9), ('The different phases of the moon as seen from Earth are caused by the revolution of the moon around the Earth;1107', 8), ('Our bodies need time to rest and recover from our busy day;383', 1), ('1 day equals 24 hours;658', 1), (\"The rising and setting of the sun as viewed from Earth is the result of the Earth's rotation;1109\", 8), ('This rotation is what results in day and night on Earth;652', 2), (\"Because of the tilt and the Earth's position around the sun during its revolution the Earth experiences four distinct seasons: winter, spring, summer, and fall;666\", 8), ('Surface waters are heated by the radiation from the sun, which causes the phase change;1133', 1)]"
       ]
      },
      {
       "output_type": "stream",
       "stream": "stdout",
       "text": [
        "\n",
        "best answer is: ---\n"
       ]
      },
      {
       "output_type": "stream",
       "stream": "stdout",
       "text": [
        "rotation of Earth causes day and night . [17.0, 13.0, 0, 13.0] [2.1995127332683388, 2.1251841879575495, 1.7306555205851049, 2.0465623057927513]\n",
        "---------------------------------------------\n",
        "In getCandidate question is a student should use a ruler to measure exactly 10 milliliters -LRB- mL -RRB- of water .\n",
        "In getCandidate question is a student should use a graduated cylinder to measure exactly 10 milliliters -LRB- mL -RRB- of water ."
       ]
      },
      {
       "output_type": "stream",
       "stream": "stdout",
       "text": [
        "\n",
        "In getCandidate question is a student should use a thermometer to measure exactly 10 milliliters -LRB- mL -RRB- of water ."
       ]
      },
      {
       "output_type": "stream",
       "stream": "stdout",
       "text": [
        "\n",
        "In getCandidate question is a student should use pan balance to measure exactly 10 milliliters -LRB- mL -RRB- of water ."
       ]
      },
      {
       "output_type": "stream",
       "stream": "stdout",
       "text": [
        "\n",
        "[('A scientist would use a graduated cylinder to measure the volume of a liquid;1072', 2), ('To determine the volume of milk used in a recipe you would use a graduated cylinder;1069', 3), ('A balance measures mass;490', 2), ('The best tool to use to measure temperature is a thermometer;1145', 3), ('To measure the volume of a solid scientists use a ruler;479', 3), ('To determine the volume of a book you would use a ruler;1068', 2), ('A ruler measures length;845', 2), ('The tool that is used to measure the volume of a liquid is a graduated cylinder;1161', 3), ('A thermometer measures temperature;705', 2), ('A scientist would use a graduated cylinder to measure the volume of a liquid;1072', 4), ('A balance measures mass;847', 2), ('A balance measures mass;1076', 2), ('A metric ruler and a balance will measure the size and mass of an object;1148', 2), ('A thermometer is used to measure air temperature;1146', 2), ('To measure mass scientists use a balance;476', 2), ('To measure liquid volume scientists use a graduated cylinder;478', 4), ('A ruler is used to measure the length of a piece of wood;1196', 2), ('To measure mass scientists use a balance;476', 3), ('Plants need water, light, air, and food to survive;960', 1), ('The best tool to use to measure temperature is a thermometer;1145', 2), ('To measure liquid volume scientists use a graduated cylinder;478', 2), ('To measure the volume of a solid scientists use a ruler;479', 2), ('A graduated Cylinder measures volume;492', 2), ('A thermometer measures temperature;849', 2), (\"The best instrument to measure the growth of a plant's stem is a ruler;1150\", 2), ('A thermometer measures temperature;491', 2), ('In a glass of water that contains ice cubes we find two phases of matter: liquid and solid;1066', 1), ('A metric ruler can be used to measure the length of a stick;1147', 2), ('A thermometer is the instrument used to measure temperature;720', 2)]"
       ]
      },
      {
       "output_type": "stream",
       "stream": "stdout",
       "text": [
        "\n",
        "best answer is: ---\n"
       ]
      },
      {
       "output_type": "stream",
       "stream": "stdout",
       "text": [
        "a student should use a graduated cylinder to measure exactly 10 milliliters -LRB- mL -RRB- of water . [5.5, 7.0, 1.5, 0] [2.3512518329903913, 2.6275067695476322, 1.8530425151407104, 1.6674327538855862]\n",
        "---------------------------------------------\n",
        "In getCandidate question is an object 's hardness , taste , and texture are examples of properties .\n",
        "In getCandidate question is an object 's hardness , taste , and texture are examples of processes ."
       ]
      },
      {
       "output_type": "stream",
       "stream": "stdout",
       "text": [
        "\n",
        "In getCandidate question is an object 's hardness , taste , and texture are examples of stages ."
       ]
      },
      {
       "output_type": "stream",
       "stream": "stdout",
       "text": [
        "\n",
        "In getCandidate question is an object 's hardness , taste , and texture are examples of principles ."
       ]
      },
      {
       "output_type": "stream",
       "stream": "stdout",
       "text": [
        "\n",
        "[('An example of the transfer of chemical energy to electrical energy is between battery and light bulb;1188', 1), ('A snowball melting in your hand is an example of heat energy;1081', 1), ('For example, some metal objects allow heat and electricity to transfer better than do plastic or rubber objects;570', 2), ('An example of a chemical property would be rusting;497', 2), ('The sun, stars, moon, planets, and comets are all celestial objects;644', 1), ('The sun is considered the center of our solar system and all objects move around the sun;648', 1), ('The sense of taste is one sense that we typically do not use in a science laboratory or during a science experiment;841', 1), ('Physical properties include: color, hardness, odor, sound, taste, texture, and size;495', 3), ('Mechanical energy exerted by one object can push or pull another object;544', 1), ('The amount of friction that an object encounters depends on its smoothness;597', 1), ('The processes of weathering and erosion change the landscape of the Earth on a daily basis;807', 1), ('Chemical properties are those that involve a change in the object;496', 2), ('Heat energy can be transferred from one object to another object;545', 1), ('Rusting is an example of a chemical property;1073', 2), ('Physical properties are those that can be observed and/or measured without changing the object;494', 2), ('Growth is the process by which plants and animals increase in size;280', 1), ('Scientists often classify or organize different objects based on their physical properties;498', 2), ('The amount of energy transferred during a flow of electrical energy depends on the energy source and the properties of the object;577', 2), ('Chemical changes involve changing the composition of an object, resulting in entirely different properties;508', 2), ('Physical properties include: color, hardness, odor, sound, taste, texture, and size;495', 4), ('Light provides the energy for the entire process of photosynthesis;90', 1)]"
       ]
      },
      {
       "output_type": "stream",
       "stream": "stdout",
       "text": [
        "\n",
        "best answer is: ---\n"
       ]
      },
      {
       "output_type": "stream",
       "stream": "stdout",
       "text": [
        "an object 's hardness , taste , and texture are examples of properties . [13.0, 0.5, 0, 0] [2.426398780376072, 1.9150180145751936, 1.8991868200624678, 1.8974233130708464]\n",
        "---------------------------------------------\n",
        "In getCandidate question is growing thicker fur in the winter helps some animals to find food .\n",
        "In getCandidate question is growing thicker fur in the winter helps some animals to keep warm ."
       ]
      },
      {
       "output_type": "stream",
       "stream": "stdout",
       "text": [
        "\n",
        "In getCandidate question is growing thicker fur in the winter helps some animals to hide from danger ."
       ]
      },
      {
       "output_type": "stream",
       "stream": "stdout",
       "text": [
        "\n",
        "In getCandidate question is growing thicker fur in the winter helps some animals to attract a mate ."
       ]
      },
      {
       "output_type": "stream",
       "stream": "stdout",
       "text": [
        "\n",
        "[('Animals need to move so that they can find a safe place for shelter, find food, and escape predators (enemies);194', 8), ('Animals need to move around to find shelter and food;173', 8), ('Lobsters and crabs protect themselves with their claws, turtles have shells, porcupines have spines, birds use their feathers, and others have fur or scales to help protect them from predators;195', 2), ('Some animals increase body fat in winter to stay warm;987', 3), ('Some animals gather food in preparation for the long winter;220', 3), ('All animals have different structures that have different jobs or functions to help in growth, survival, and reproduction;982', 2), ('If they find new homes, the animals could have difficulty finding food, could be in danger of predators, or might not adapt to the new environment;449', 9), ('Some animals grow thick fur in winter to stay warm;986', 3), ('These smells and sounds can attract other animals so that they can mate or they can help them fight an enemy;202', 10), ('When some animals prepare for the long winters by storing food and going dormant it is called hibernation;1190', 2), ('The body systems work like a machine and each system works to help the animal grow, create energy, and survive;148', 2), ('All animals need to sense their surroundings, respond to environmental changes, know where and how to find food, care for their young, and many other things;176', 9), ('Shivering is shaking in order to keep the body warm;988', 8), ('Some animals grow thicker fur in the winter and shed it in the warmer months;216', 4), (\"Think of a lion's golden fur, which helps it blend into the desert landscape;198\", 2), ('Some animals increase body fat in winter to stay warm;987', 2), ('With the help of animals (insects and birds), rain, and wind, flowers can be pollinated (fertilized ) so that seeds can be formed that will grow into new plants;106', 2), ('Ways that animals respond to changes in their environment, such as seasonal changes include hibernation, migration, growing thick fur, or shivering;983', 3), ('Brushing our teeth removes the food and helps keep them strong;352', 2), ('When some animals prepare for the long winters by storing food and going dormant it is called hibernation;1190', 3), ('Some animals grow thick fur in winter to stay warm;986', 4), ('Body fat is a form of stored energy and helps animals get through long periods of time with little food;219', 3)]"
       ]
      },
      {
       "output_type": "stream",
       "stream": "stdout",
       "text": [
        "\n",
        "rel match 2\n",
        "rel match 2\n",
        "rel match"
       ]
      },
      {
       "output_type": "stream",
       "stream": "stdout",
       "text": [
        " 7\n",
        "rel match 7\n",
        "best answer is: ---\n"
       ]
      },
      {
       "output_type": "stream",
       "stream": "stdout",
       "text": [
        "growing thicker fur in the winter helps some animals to find food . [8.0, 4.5, 3, 7.0] [2.8467493027283362, 2.0545885435472826, 1.5567271260177518, 2.5714967632759529]\n",
        "---------------------------------------------\n",
        "In getCandidate question is Apple trees can live for many years , but bean plants usually live for only a few months . this statement suggests that different plants have different life spans .\n",
        "In getCandidate question is Apple trees can live for many years , but bean plants usually live for only a few months . this statement suggests that plants depend on other plants ."
       ]
      },
      {
       "output_type": "stream",
       "stream": "stdout",
       "text": [
        "\n",
        "In getCandidate question is Apple trees can live for many years , but bean plants usually live for only a few months . this statement suggests that plants produce many offspring ."
       ]
      },
      {
       "output_type": "stream",
       "stream": "stdout",
       "text": [
        "\n",
        "In getCandidate question is Apple trees can live for many years , but bean plants usually live for only a few months . this statement suggests that seasonal changes help plants grow ."
       ]
      },
      {
       "output_type": "stream",
       "stream": "stdout",
       "text": [
        "\n",
        "[('1 year equals 12 months or 365 days;660', 2), ('Examples of animals using plants for shelter are birds building a nest on tree branches and squirrels living inside a tree trunk;941', 2), ('Cutting down too many trees has resulted in many forest animals no longer having homes;439', 2), ('A fruit can be found near the seeds of a plant, usually in the flower;962', 2), ('Humans can live in many different environments;432', 3), ('Other living organisms depend on plants to survive;78', 2), ('An example of a plant responding to a change in its environment is leaves falling off trees in fall;968', 2), ('The average life span of a rabbit is 9 years;273', 3), ('The average life span of an Amazon parrot is 80 years;277', 3), ('When plants reproduce, the offspring has characteristics similar to the parents;113', 2), ('Nutrients from the soil enter the plant through its roots;20', 1), ('With the help of animals (insects and birds), rain, and wind, flowers can be pollinated (fertilized ) so that seeds can be formed that will grow into new plants;106', 3), ('We usually call them babies;61', 1), ('The average life span of a frog is 10 years;274', 3), ('The average life span of a human is 79 years;276', 3), ('As the physical environment changes over time, plants and animals change and so do the relationships within the ecosystem;404', 2), ('Humans can live in many different environments;432', 2), ('The average life span of a turtle is 100 years;278', 3), ('Plants get their nutrients from the soil, which helps them grow and perform photosynthesis;51', 2), ('When organisms are of the same species they can mate and produce an offspring like themselves;323', 2), ('The average life span of a worker ant is 6 months;271', 3), ('An example of a plant responding to a change in its environment is leaves falling off trees in fall;968', 3), ('All living things are able to produce offspring;60', 2), ('All animals depend on plants either as a direct source of food and energy or because plants are food for another animal that they eat;414', 2), ('Humans can help the environment in many ways:;468', 2), ('Water is taken in from the environment through the roots in the ground and is necessary for the plant to produce food;86', 2), ('The length of time from the beginning of the plant to its death is called its life span;133', 3), ('This can be done through the action of different forces including water and plant life;809', 3), ('Some animals live a very different life in the warm weather than in the cold weather;222', 3), ('Other plants develop outgrowths that can grow into adult plants;48', 2)]"
       ]
      },
      {
       "output_type": "stream",
       "stream": "stdout",
       "text": [
        "\n",
        "best answer is: ---\n"
       ]
      },
      {
       "output_type": "stream",
       "stream": "stdout",
       "text": [
        "Apple trees can live for many years , but bean plants usually live for only a few months . this statement suggests that plants produce many offspring . [5.5, 11.5, 18.0, 13.0] [1.7295109746237682, 1.9755875963901692, 2.3428612075225383, 2.1593165995825543]\n",
        "---------------------------------------------\n",
        "In getCandidate question is resting is necessary for humans to maintain good health .\n",
        "In getCandidate question is reading is necessary for humans to maintain good health ."
       ]
      },
      {
       "output_type": "stream",
       "stream": "stdout",
       "text": [
        "\n",
        "In getCandidate question is driving activity is necessary for humans to maintain good health ."
       ]
      },
      {
       "output_type": "stream",
       "stream": "stdout",
       "text": [
        "\n",
        "In getCandidate question is talking activity is necessary for humans to maintain good health ."
       ]
      },
      {
       "output_type": "stream",
       "stream": "stdout",
       "text": [
        "\n",
        "[('Being healthy also includes good health habits;345', 2), ('The way that humans treat the environment has a large effect on the survival of all living and nonliving things;446', 1), ('Air and water are necessary for both plants and animals to survive;911', 1), ('As humans construct new homes and buildings they change the landscape of the nonliving environment;452', 1), ('Brushing your teeth in the morning and before going to bed is another important part of having good health;350', 2), ('In addition to food, shelter, and energy, humans manufacture (produce) goods that make life more comfortable;458', 2), ('Cigarettes are harmful to the human body;1193', 1), ('Energy for humans comes from the foods we eat;521', 1), ('Building shelters, using energy, manufacturing goods, and the various forms of transportation are some of the ways humans have created pollution;462', 2), ('When a new community is built in the desert, humans may bring in plants that are not familiar to that environment;465', 1)]"
       ]
      },
      {
       "output_type": "stream",
       "stream": "stdout",
       "text": [
        "\n",
        "best answer is: ---\n",
        "talking activity is necessary for humans to maintain good health . [0, 5, 0, 5] [1.174908177593438, 3.0495522811172262, 3.0383697205932929, 4.0836594773576227]\n",
        "---------------------------------------------\n",
        "In getCandidate question is a decrease in air temperature from 60 ? F to 35 ? F would most likely cause a person to sweat .\n",
        "In getCandidate question is a decrease in air temperature from 60 ? F to 35 ? F would most likely cause a person to shiver ."
       ]
      },
      {
       "output_type": "stream",
       "stream": "stdout",
       "text": [
        "\n",
        "In getCandidate question is a decrease in air temperature from 60 ? F to 35 ? F would most likely cause a person to feel sleepy ."
       ]
      },
      {
       "output_type": "stream",
       "stream": "stdout",
       "text": [
        "\n",
        "In getCandidate question is a decrease in air temperature from 60 ? F to 35 ? F would most likely cause a person to blink his eyes ."
       ]
      },
      {
       "output_type": "stream",
       "stream": "stdout",
       "text": [
        "\n",
        "[('Once the outside temperature drops below the freezing point of water it is more likely that the precipitation will be in the form of snow;732', 2), ('Often the force we need in order to do the work is too much for one person and we need help;623', 1), ('A southwest wind would bring warm air to New York from the south, but a northeast wind would most likely bring cold, wet winds;714', 3), ('If, however, you were to try and put the two north ends of two different magnets together you would feel the force that causes the magnets to be repelled (pushed away) from one another;611', 2), (\"If an object is thrown into the air, the force used will only allow it to travel a certain distance before the gravitational attraction between the object and the Earth causes it to fall back down to Earth 's surface;618\", 2), ('If, however, you were to try and put the two north ends of two different magnets together you would feel the force that causes the magnets to be repelled (pushed away) from one another;611', 3), ('Living things need food, water, and air to survive;1172', 1), ('A thermometer is used to measure air temperature;1146', 2), ('Plants need water, light, air, and food to survive;960', 1), ('When the humidity reaches 100 percent it is very likely that some form of precipitation will occur, depending on the temperature;735', 2), ('You would feel tired and not want to do anything;519', 2), ('All over the skin there are tiny spots that feel things and transmit texture, temperature, and other characteristics to the brain by way of the nerves;188', 2), ('This could be air temperature at different times of the day or the temperature of water as it is heated;899', 2)]"
       ]
      },
      {
       "output_type": "stream",
       "stream": "stdout",
       "text": [
        "\n",
        "best answer is: ---\n"
       ]
      },
      {
       "output_type": "stream",
       "stream": "stdout",
       "text": [
        "a decrease in air temperature from 60 ? F to 35 ? F would most likely cause a person to feel sleepy . [5, 5, 6.5, 5] [3.4504876671845519, 3.4478166660319984, 7.1305353059633498, 3.4637608188902949]\n",
        "---------------------------------------------\n",
        "In getCandidate question is Some birds fly south before winter each year . this is an example of migration .\n",
        "In getCandidate question is Some birds fly south before winter each year . this is an example of hibernation ."
       ]
      },
      {
       "output_type": "stream",
       "stream": "stdout",
       "text": [
        "\n",
        "In getCandidate question is Some birds fly south before winter each year . this is an example of evaporation ."
       ]
      },
      {
       "output_type": "stream",
       "stream": "stdout",
       "text": [
        "\n",
        "In getCandidate question is Some birds fly south before winter each year . this is an example of germination ."
       ]
      },
      {
       "output_type": "stream",
       "stream": "stdout",
       "text": [
        "\n",
        "[('For example, humans have 46 chromosomes and a fruit fly has only 8 chromosomes;321', 2), ('When some animals prepare for the long winters by storing food and going dormant it is called hibernation;1190', 2), ('Some animals increase body fat in winter to stay warm;987', 2), ('For example, when it is winter in the northern hemisphere the southern hemisphere experiences summer;774', 2), ('Some examples are the frog, beetle, and ladybug;266', 2), ('Some animals gather food in preparation for the long winter;220', 2), ('Some animals prepare for the long winter by going into hibernation;990', 9), ('Some animals prepare for the long winter by going into hibernation;990', 2), ('Some animals grow thick fur in winter to stay warm;986', 2), ('Some animals hibernate during the winter months;223', 2), ('Some animals grow thicker fur in the winter and shed it in the warmer months;216', 2), ('Birds are known for fly ing south in the winter to avoid the cold months;229', 3)]"
       ]
      },
      {
       "output_type": "stream",
       "stream": "stdout",
       "text": [
        "\n",
        "best answer is: ---\n"
       ]
      },
      {
       "output_type": "stream",
       "stream": "stdout",
       "text": [
        "Some birds fly south before winter each year . this is an example of hibernation . [0, 9.5, 0, 0] [21.625920413040134, 36.880656088486084, 28.846369825649798, 28.846369825649798]\n",
        "---------------------------------------------\n",
        "In getCandidate question is living things depend on energy from water .\n",
        "In getCandidate question is living things depend on energy from the Sun ."
       ]
      },
      {
       "output_type": "stream",
       "stream": "stdout",
       "text": [
        "\n",
        "In getCandidate question is living things depend on energy from soil ."
       ]
      },
      {
       "output_type": "stream",
       "stream": "stdout",
       "text": [
        "\n",
        "In getCandidate question is living things depend on energy from the Moon ."
       ]
      },
      {
       "output_type": "stream",
       "stream": "stdout",
       "text": [
        "\n",
        "[('All animals depend on plants either as a direct source of food and energy or because plants are food for another animal that they eat;414', 2), ('Humans have changed their environment by developing communities in areas where living things had to struggle to survive;464', 2), ('Air and water are two nonliving things that all living things need to survive;913', 6), ('Decomposers are living things that break down dead organisms and recycle their nutrients into the soil;426', 2), ('Other living organisms depend on plants to survive;78', 2), ('They researched information to find the best soil, nutrients, and light source needed in order to grow sunflowers;873', 4), ('All living things grow and have a life cycle;41', 2), ('Living things need food, water, and air to survive;1172', 5), ('If the living organism does not get the air, water, food, nutrients, or light it needs to survive it will die;24', 5), ('Plants get their nutrients from the soil, which helps them grow and perform photosynthesis;51', 4), ('The way that humans treat the environment has a large effect on the survival of all living and nonliving things;446', 2), ('This waste, when mixed into the soil, can be very helpful to growing plants;69', 4), ('All living things need air and water to survive;930', 6), ('DNA tells all living things what it should look like;315', 2), ('Air and water are nonliving but are necessary for living things to live and survive;35', 6), ('Nutrients from the soil enter the plant through its roots;20', 4), (\"Producers are living things that change the sun's energy to make their own food;420\", 3), ('Decomposers are living things that break down dead organisms and recycle their nutrients into the soil;426', 6), ('Erosion is the process by which soil and or other Earth materials are moved from one place to another;821', 4), ('The energy from the sun heated the water and caused it to evaporate - change from liquid water to water vapor;788', 5), ('Nutrients are taken in through the roots from the soil and help the plant survive;87', 4), ('Roots secure the plant in the soil and bring in water and nutrients for survival;965', 4), ('Three things that you need to live and survive are air, water, and food;907', 5), ('Roots absorb water and nutrients from the soil into the plant;95', 4), ('Plants depend on the sun for energy, and on the water and soil for nutrients to survive and perform photosynthesis;1050', 6), ('In a glass of water that contains ice cubes we find two phases of matter: liquid and solid;1066', 4), ('Living things need specific resources for survival such as air, food, and water;390', 5), ('Air and water are two nonliving things that all living things need to survive;913', 2), ('The world around us is made up of both living and nonliving things;1', 2)]"
       ]
      },
      {
       "output_type": "stream",
       "stream": "stdout",
       "text": [
        "\n",
        "best answer is: ---\n"
       ]
      },
      {
       "output_type": "stream",
       "stream": "stdout",
       "text": [
        "living things depend on energy from water . [11.5, 11.5, 11.5, 0] [3.0824277261502733, 2.5079519468665037, 2.045753639135242, 1.4064775131468044]\n",
        "---------------------------------------------\n",
        "In getCandidate question is hibernation often helps an animal attract a mate .\n",
        "In getCandidate question is camouflage often helps an animal attract a mate ."
       ]
      },
      {
       "output_type": "stream",
       "stream": "stdout",
       "text": [
        "\n",
        "In getCandidate question is migration often helps an animal attract a mate ."
       ]
      },
      {
       "output_type": "stream",
       "stream": "stdout",
       "text": [
        "\n",
        "In getCandidate question is coloration often helps an animal attract a mate ."
       ]
      },
      {
       "output_type": "stream",
       "stream": "stdout",
       "text": [
        "\n",
        "[('Often the force we need in order to do the work is too much for one person and we need help;623', 1), ('All animals have different structures that have different jobs or functions to help in growth, survival, and reproduction;982', 2), ('We call this camouflage, which helps protect the animal from enemies;197', 6), ('These colors and smells attract birds and insects to visit them and help with the reproduction process;109', 2), ('Ways that animals respond to changes in their environment, such as seasonal changes include hibernation, migration, growing thick fur, or shivering;983', 5), ('To help make more detailed observations scientists often use tools;843', 2), ('We call this camouflage, which helps protect the animal from enemies;197', 2), ('The body systems work like a machine and each system works to help the animal grow, create energy, and survive;148', 2), ('Body fat is a form of stored energy and helps animals get through long periods of time with little food;219', 2), ('When animals move to a warmer climate to avoid the change in seasons, we call this migration;989', 5), ('With the help of animals (insects and birds), rain, and wind, flowers can be pollinated (fertilized ) so that seeds can be formed that will grow into new plants;106', 2), ('All animals have different structures that have different jobs or functions to help with growth, survival, and reproduction;191', 2), ('This is called migration;228', 4), ('Animals that change color or are of a color similar to their environment can camouflage themselves so that they cannot be easily seen;996', 4), ('Some animals prepare for the long winter by going into hibernation;990', 5), ('When some animals prepare for the long winters by storing food and going dormant it is called hibernation;1190', 5), ('These smells and sounds can attract other animals so that they can mate or they can help them fight an enemy;202', 4)]"
       ]
      },
      {
       "output_type": "stream",
       "stream": "stdout",
       "text": [
        "\n",
        "best answer is: ---\n"
       ]
      },
      {
       "output_type": "stream",
       "stream": "stdout",
       "text": [
        "migration often helps an animal attract a mate . [6.5, 11.5, 6.5, 0] [9.9191544741103144, 18.275178400811004, 19.281889978524212, 18.15696144435455]\n",
        "---------------------------------------------\n",
        "In getCandidate question is a decomposer is an organism that recycles nutrients .\n",
        "In getCandidate question is a decomposer is an organism that uses sunlight to make food ."
       ]
      },
      {
       "output_type": "stream",
       "stream": "stdout",
       "text": [
        "\n",
        "In getCandidate question is a decomposer is an organism that eats only plants ."
       ]
      },
      {
       "output_type": "stream",
       "stream": "stdout",
       "text": [
        "\n",
        "In getCandidate question is a decomposer is an organism that preys on other animals ."
       ]
      },
      {
       "output_type": "stream",
       "stream": "stdout",
       "text": [
        "\n",
        "[('Plants get their nutrients from the soil, which helps them grow and perform photosynthesis;51', 1), ('This can be done through the action of different forces including water and plant life;809', 1), ('The digested food then moves into the intestine where the nutrients are absorbed into the blood;152', 1), ('Fecal wastes are made from unused foods that an animal has eaten;918', 1), ('Plants make their own food by a process called photosynthesis;18', 2), ('If the living organism does not get the air, water, food, nutrients, or light it needs to survive it will die;24', 2), ('A primary (1st) consumer eats producers (plants);423', 2), ('Other living organisms depend on plants to survive;78', 2), ('The health, growth, and development of organisms are affected by environmental conditions such as the availability of food, air, water, space, shelter, heat, and sunlight;279', 3), ('Plants need air, water, nutrients, and light to grow and survive;925', 1), ('Leaves make food using water, sunlight, nutrients, and chlorophyll;103', 3), ('Many animals are able to change their body with the seasons;214', 1), ('The stem is the pathway of water and nutrients from the roots to the leaves;949', 1), ('In addition to food, shelter, and energy, humans manufacture (produce) goods that make life more comfortable;458', 2), ('Nutrients from the soil enter the plant through its roots;20', 1), ('The food pyramid shows us which foods make a balanced diet;1044', 2), ('Some animals are born as one type of organism and as they grow they go into a changing stage called metamorphosis;265', 2), (\"Producers are living things that change the sun's energy to make their own food;420\", 2), ('While plants are able to make their own food by photosynthesis they need sunlight and water to do so;391', 3), ('Plants are able to make their own food by a process called photosynthesis;928', 2), ('Examples of animals using plants for shelter are birds building a nest on tree branches and squirrels living inside a tree trunk;941', 1), ('Problems arise when the balance between the organisms and the available resources and space changes;402', 1), ('Plants are the only living organism that can make its own food;76', 3), ('Seeds contain stored food that aids in germination (sprouting) and the growth of new young plants;123', 1), ('Some animals are born as one type of organism and as they grow they go into a changing stage called metamorphosis;42', 2), ('Growth is the process by which plants and animals increase in size;280', 1), ('Some animals (predators) eat other animals (prey);415', 2), ('Other living organisms depend on plants to survive;78', 1), ('While plants are able to make their own food by photosynthesis they need sunlight and water to do so;391', 1), ('When some animals prepare for the long winters by storing food and going dormant it is called hibernation;1190', 1), ('Decomposers are living things that break down dead organisms and recycle their nutrients into the soil;426', 2), ('Many organisms look very similar to other organisms because they may be from the same species;322', 1), ('All animals depend on plants either as a direct source of food and energy or because plants are food for another animal that they eat;414', 1), ('Ecology is the science that studies the relationships between organisms and their environments;386', 1)]"
       ]
      },
      {
       "output_type": "stream",
       "stream": "stdout",
       "text": [
        "\n",
        "best answer is: ---\n"
       ]
      },
      {
       "output_type": "stream",
       "stream": "stdout",
       "text": [
        "a decomposer is an organism that eats only plants . [0, 3.0, 13.0, 0] [1.8999894564673445, 2.0371692867352076, 2.3294468361150482, 1.875964859617814]\n",
        "---------------------------------------------\n",
        "In getCandidate question is a girl eating an apple describes an organism taking in nutrients .\n",
        "In getCandidate question is an insect crawling on a leaf describes an organism taking in nutrients ."
       ]
      },
      {
       "output_type": "stream",
       "stream": "stdout",
       "text": [
        "\n",
        "In getCandidate question is a dog burying a bone describes an organism taking in nutrients ."
       ]
      },
      {
       "output_type": "stream",
       "stream": "stdout",
       "text": [
        "\n",
        "In getCandidate question is a boy planting tomatoes in a garden describes an organism taking in nutrients ."
       ]
      },
      {
       "output_type": "stream",
       "stream": "stdout",
       "text": [
        "\n",
        "[('Plants get their nutrients from the soil, which helps them grow and perform photosynthesis;51', 1), ('The digested food then moves into the intestine where the nutrients are absorbed into the blood;152', 1), ('A dog is living;920', 1), ('If the living organism does not get the air, water, food, nutrients, or light it needs to survive it will die;24', 2), ('Plants need air, water, nutrients, and light to grow and survive;925', 1), ('The stem is the pathway of water and nutrients from the roots to the leaves;949', 1), ('Drinking alcohol and/or taking illicit (not prescribed ) drugs are also very harmful to your body;363', 1), ('The stem is the pathway of water and nutrients from the roots to the leaves;949', 2), ('Growth, taking in nutrients, breathing, and reproduction are the life processes of all living things;1187', 2), ('The stem is the pathway of water and nutrients from roots to leaves and flower;97', 2), ('Large leaves to increase surface area for photosynthesis;127', 1), ('Other living organisms depend on plants to survive;78', 1), ('Examples of plants or plant products include lettuce, oranges, celery, broccoli, carrots, apples, and potatoes;937', 1), ('Decomposers are living things that break down dead organisms and recycle their nutrients into the soil;426', 2), ('Many organisms look very similar to other organisms because they may be from the same species;322', 1), ('The waste leaves the body in the form of feces;68', 1)]"
       ]
      },
      {
       "output_type": "stream",
       "stream": "stdout",
       "text": [
        "\n",
        "best answer is: ---\n"
       ]
      },
      {
       "output_type": "stream",
       "stream": "stdout",
       "text": [
        "a boy planting tomatoes in a garden describes an organism taking in nutrients . [0, 0, 0, 0] [1.3611061503455388, 0.94055521314076251, 0.9532284356084173, 2.61474348674232]\n",
        "---------------------------------------------\n",
        "In getCandidate question is having blue eyes is inherited rather than learned .\n",
        "In getCandidate question is telling a story is inherited rather than learned ."
       ]
      },
      {
       "output_type": "stream",
       "stream": "stdout",
       "text": [
        "\n",
        "In getCandidate question is riding a bicycle is inherited rather than learned ."
       ]
      },
      {
       "output_type": "stream",
       "stream": "stdout",
       "text": [
        "\n",
        "In getCandidate question is saluting the flag is inherited rather than learned ."
       ]
      },
      {
       "output_type": "stream",
       "stream": "stdout",
       "text": [
        "\n",
        "[('When a trait is passed from parent to child we say that it is inherited;297', 1), ('Some traits that can be inherited are color of hair, color of skin, color of eyes, and height;1023', 2), ('A trait could be the color of your hair, skin, and eyes, your height, and the shape of your face, ears, and nose;295', 1), ('In the previous chapter we learned about work and energy;619', 1), (\"Parents' DNA (parents' genes) are where our genes come from and determine hair, eye, and skin color;1039\", 1), ('Mechanical energy changes to heat in bicycle brakes;558', 1), ('Some traits that can be inherited are color of flowers, shape of leaves, shape os seeds, and color of seeds;1025', 1), ('A graph such as this might be used to show the number of students with different eye color for your entire class;903', 1), ('Some traits that can be inherited are shape of face, shape of ears, and shape of nose;1024', 1), ('A pulley is used to raise the flag up the flagpole at your school each day;635', 1), ('Friction is the force that slows down or stops the motion of a bicycle;1094', 1), ('We have also learned that in order to do work an object must move and that a force is a push or pull;621', 1), ('These are called learned or acquired behaviors;340', 1), ('Rolling your tongue is inherited;1035', 1), ('DNA is responsible for telling our body what to look like or can give the body information;1033', 1), ('The eyes take in light through the lenses and transmit the shapes and images through the optic nerve to the brain;186', 1), ('Some traits that can be inherited are color of hair, color of skin, color of eyes, and height;1023', 1), ('Humans developed various means of transportation so that they could live in one place and bring food, energy, and other goods to them rather than living at the site where they are made;460', 1)]"
       ]
      },
      {
       "output_type": "stream",
       "stream": "stdout",
       "text": [
        "\n",
        "best answer is: ---\n"
       ]
      },
      {
       "output_type": "stream",
       "stream": "stdout",
       "text": [
        "having blue eyes is inherited rather than learned . [1.5, 0, 0.5, 0] [7.388187991430323, 3.2846466821303366, 4.6222698696925519, 3.3811786801901]\n",
        "---------------------------------------------\n",
        "In getCandidate question is to protect the fish is the main function of scales on a fish .\n",
        "In getCandidate question is to help the fish breathe is the main function of scales on a fish ."
       ]
      },
      {
       "output_type": "stream",
       "stream": "stdout",
       "text": [
        "\n",
        "In getCandidate question is to help the fish find food is the main function of scales on a fish ."
       ]
      },
      {
       "output_type": "stream",
       "stream": "stdout",
       "text": [
        "\n",
        "In getCandidate question is to attract predators is the main function of scales on a fish ."
       ]
      },
      {
       "output_type": "stream",
       "stream": "stdout",
       "text": [
        "\n",
        "[('Often the force we need in order to do the work is too much for one person and we need help;623', 1), ('All animals have different structures that have different jobs or functions to help in growth, survival, and reproduction;982', 2), ('Each organ system has a specific function that helps the organism to survive;147', 2), ('Lobsters and crabs protect themselves with their claws, turtles have shells, porcupines have spines, birds use their feathers, and others have fur or scales to help protect them from predators;195', 2), ('We call this camouflage, which helps protect the animal from enemies;197', 4), ('A beak helps the bird capture and take in food;243', 2), ('Because fish live in the water and need to breathe, they developed gills;235', 2), ('Brushing our teeth removes the food and helps keep them strong;352', 1), ('Animals need to move around to find shelter and food;173', 2), ('Gloves protect hands/skin from harm;891', 4), ('A fish has a flipper or fin that helps them swim;1000', 2), ('Animals take in food as a nutrient to give them energy and help them grow;50', 2), ('Gills are slits in the sides of their body that allow the fish to get oxygen from the water while swimming;236', 1), ('Lobsters and crabs protect themselves with their claws, turtles have shells, porcupines have spines, birds use their feathers, and others have fur or scales to help protect them from predators;195', 5), ('A defense mechanism is a way in which animals protect themselves;1011', 4), ('Thorns on stems to protect the plant from being eaten;126', 4), ('Birds use their wings, fish use their fins, and others use their legs;193', 1), ('A spring scale measures weight;848', 1), ('All animals have different structures that have different jobs or functions to help in growth, survival, and reproduction;982', 1), ('In the photo below, the cat is considered a predator and the fish is its prey;416', 2), ('All animals have different structures that have different jobs or functions to help with growth, survival, and reproduction;191', 2), (\"The main function of a turtle's shell is to protect the turtle;1154\", 2), (\"The Earth's main source of energy is the sun;1156\", 1), ('Brushing our teeth removes the food and helps keep them strong;352', 2), ('Animals need to move so that they can find a safe place for shelter, find food, and escape predators (enemies);194', 2), (\"The main function of a turtle's shell is to protect the turtle;1154\", 6), ('A fish has a flipper or fin that helps them swim;1000', 1), ('A rabbit, frog, or fish is a prey;1057', 1), ('Leaves and stems develop tough outer coatings to protect the plant from the environment;130', 4), ('This is how they protect themselves;204', 4), ('Some animals protect themselves by sending o ut special sounds or smells, which is another type of defense mechanism;201', 4), ('Because of their size, elephants move very slowly, so having good hearing helps protect them from predators;248', 4)]"
       ]
      },
      {
       "output_type": "stream",
       "stream": "stdout",
       "text": [
        "\n",
        "best answer is: ---\n"
       ]
      },
      {
       "output_type": "stream",
       "stream": "stdout",
       "text": [
        "to protect the fish is the main function of scales on a fish . [16.5, 6.5, 5, 0] [2.3191368326898996, 1.9704906149130696, 2.0399983753762028, 1.790806146159917]\n",
        "---------------------------------------------\n",
        "In getCandidate question is a bird migrating south is an example of an animal adapting to a change in the environment .\n",
        "In getCandidate question is a frog eating an insect is an example of an animal adapting to a change in the environment ."
       ]
      },
      {
       "output_type": "stream",
       "stream": "stdout",
       "text": [
        "\n",
        "In getCandidate question is a rabbit feeding its young is an example of an animal adapting to a change in the environment ."
       ]
      },
      {
       "output_type": "stream",
       "stream": "stdout",
       "text": [
        "\n",
        "In getCandidate question is a squirrel climbing a tree is an example of an animal adapting to a change in the environment ."
       ]
      },
      {
       "output_type": "stream",
       "stream": "stdout",
       "text": [
        "\n",
        "[('As the physical environment changes over time, plants and animals change and so do the relationships within the ecosystem;404', 3), ('Examples of animals using plants for shelter are birds building a nest on tree branches and squirrels living inside a tree trunk;941', 2), ('Ways that animals respond to changes in their environment, such as seasonal changes include hibernation, migration, growing thick fur, or shivering;983', 3), ('As humans construct new homes and buildings they change the landscape of the nonliving environment;452', 2), ('The tadpole swims and the frog matures to a land animal;1009', 2), ('Plants also take in carbon dioxide from the environment and return oxygen to the air for animals to use;392', 2), ('Many animals are able to change their body with the seasons;214', 2), ('An example of a plant responding to a change in its environment is leaves falling off trees in fall;968', 4), ('Water animals produce very large numbers of eggs because there are very few young that survive;1059', 2), ('Tadpoles change into frogs, caterpillars change into butterflies, and mealworms turn into beetles;43', 2), ('When there are environmental changes, some plants and animals survive, reproduce, and increase in number, while others die or move to new locations;408', 2), ('Some examples are the frog, beetle, and ladybug;266', 2), ('Examples of animals using plants for shelter are birds building a nest on tree branches and squirrels living inside a tree trunk;941', 3), ('An example of a plant responding to a change in its environment is leaves falling off trees in fall;968', 3), ('Animals that change color or are of a color similar to their environment can camouflage themselves so that they cannot be easily seen;996', 2), ('All animals need to sense their surroundings, respond to environmental changes, know where and how to find food, care for their young, and many other things;176', 3), ('Harm to the environment can be caused when animals are displaced and the landscape is changed;1065', 2)]"
       ]
      },
      {
       "output_type": "stream",
       "stream": "stdout",
       "text": [
        "\n",
        "best answer is: ---\n"
       ]
      },
      {
       "output_type": "stream",
       "stream": "stdout",
       "text": [
        "a squirrel climbing a tree is an example of an animal adapting to a change in the environment . [0, 0, 0, 1.5] [3.3240923664844653, 3.3899353746089513, 3.5867387277817873, 7.2826931757605076]\n",
        "---------------------------------------------\n",
        "In getCandidate question is animals get energy for growth and repair from food .\n",
        "In getCandidate question is animals get energy for growth and repair from water ."
       ]
      },
      {
       "output_type": "stream",
       "stream": "stdout",
       "text": [
        "\n",
        "In getCandidate question is animals get energy for growth and repair from air ."
       ]
      },
      {
       "output_type": "stream",
       "stream": "stdout",
       "text": [
        "\n",
        "In getCandidate question is animals get energy for growth and repair from soil ."
       ]
      },
      {
       "output_type": "stream",
       "stream": "stdout",
       "text": [
        "\n",
        "[('Plants get their nutrients from the soil, which helps them grow and perform photosynthesis;51', 5), ('Living things need specific resources for survival such as air, food, and water;390', 4), ('All animals get rid of this solid waste after passing food through their digestive system;67', 6), (\"Producers are living things that change the sun's energy to make their own food;420\", 5), ('Plants also take in carbon dioxide from the environment and return oxygen to the air for animals to use;392', 5), ('Differences in air pressure over the surface of the Earth result in wind;707', 4), ('As they grow their bones get longer and bigger, they grow more hair, and are able to take care of themselves by getting food, shelter, and water;40', 5), ('This waste, when mixed into the soil, can be very helpful to growing plants;69', 4), ('The environment that animals with gills live in is water;999', 5), ('Plants provide animals with food and gases (oxygen) that their bodies need to grow, breathe, and make energy;79', 6), ('Plants need water, light, air, and food to survive;960', 4), ('If the living organism does not get the air, water, food, nutrients, or light it needs to survive it will die;24', 5), (\"The sun's energy is transferred on Earth from plants to animals through the food chain;395\", 6), ('Body fat is a form of stored energy and helps animals get through long periods of time with little food;219', 7), ('The seeds can also be distributed in a variety of ways that can include wind, water, and animals;122', 5), ('Air and water are necessary for both plants and animals to survive;911', 5), ('Roots absorb water and nutrients from the soil into the plant;95', 4), ('Gills are slits in the sides of their body that allow the fish to get oxygen from the water while swimming;236', 5), ('Nutrients from the soil enter the plant through its roots;20', 4), ('All animals depend on plants either as a direct source of food and energy or because plants are food for another animal that they eat;414', 6), ('Humans are dependent upon the environment for food, shelter, and energy;431', 5), ('Animals take in air by breathing;7', 4), ('When some animals prepare for the long winters by storing food and going dormant it is called hibernation;1190', 5), ('Decomposers are living things that break down dead organisms and recycle their nutrients into the soil;426', 4), ('Roots secure the plant in the soil and bring in water and nutrients for survival;965', 4), ('Because the lungs have to work harder to remove the chemicals, the body has to work harder to get the air needed to survive;360', 5), ('Erosion is the process by which soil and or other Earth materials are moved from one place to another;821', 4), ('The energy from the sun heated the water and caused it to evaporate - change from liquid water to water vapor;788', 5), ('Nutrients are taken in through the roots from the soil and help the plant survive;87', 4), ('All animals need to take in food, water, and nutrients (vitamins and minerals) to survive;149', 5), ('Plants depend on the sun for energy, and on the water and soil for nutrients to survive and perform photosynthesis;1050', 5), ('Living things need food, water, and air to survive;1172', 4), ('After we inhale the air it moves through a tube called the trachea to the lungs;160', 4), ('The health, growth, and development of organisms are affected by environmental conditions such as the availability of food, air, water, space, shelter, heat, and sunlight;279', 5), ('In addition to food, shelter, and energy, humans manufacture (produce) goods that make life more comfortable;458', 5), ('They researched information to find the best soil, nutrients, and light source needed in order to grow sunflowers;873', 4), ('Seeds contain stored food that aids in germination (sprouting) and the growth of new young plants;123', 5)]"
       ]
      },
      {
       "output_type": "stream",
       "stream": "stdout",
       "text": [
        "\n",
        "best answer is: ---\n"
       ]
      },
      {
       "output_type": "stream",
       "stream": "stdout",
       "text": [
        "animals get energy for growth and repair from food . [11.5, 10.5, 11.5, 9.5] [4.6300968641245559, 3.0681649938707554, 4.5193585105002869, 1.6096188436286583]\n",
        "---------------------------------------------\n",
        "In getCandidate question is A dog opens its mouth and lets its tongue hang out . A human 's body produces sweat . these are two ways that organisms may adjust to hot temperatures .\n",
        "In getCandidate question is A dog opens its mouth and lets its tongue hang out . A human 's body produces sweat . these are two ways that organisms may adjust to a shortage of drinking water ."
       ]
      },
      {
       "output_type": "stream",
       "stream": "stdout",
       "text": [
        "\n",
        "In getCandidate question is A dog opens its mouth and lets its tongue hang out . A human 's body produces sweat . these are two ways that organisms may adjust to a shortage of food ."
       ]
      },
      {
       "output_type": "stream",
       "stream": "stdout",
       "text": [
        "\n",
        "In getCandidate question is A dog opens its mouth and lets its tongue hang out . A human 's body produces sweat . these are two ways that organisms may adjust to cold temperatures ."
       ]
      },
      {
       "output_type": "stream",
       "stream": "stdout",
       "text": [
        "\n",
        "[('Cigarettes are harmful to the human body;1193', 2), ('In addition to food, shelter, and energy, humans manufacture (produce) goods that make life more comfortable;458', 2), ('A thermometer measures temperature;705', 2), ('During ingestion food is taken into the body;154', 2), ('Many organisms look very similar to other organisms because they may be from the same species;322', 2), ('The way that humans treat the environment has a large effect on the survival of all living and nonliving things;446', 2), (\"You may have had a pet or witnessed some of the following organisms' life cycles;264\", 2), ('A defense mechanism is a way in which animals protect themselves;1011', 2), ('The MyPyramid is an easy way to plan the foods you are going to eat;376', 2), ('They take food into their mouth, where the teeth and tongue break up the food into smaller pieces so t hat it can be swallowed;150', 3), ('When a new community is built in the desert, humans may bring in plants that are not familiar to that environment;465', 2), ('A dog is living;920', 2), ('In the hot weather our bodies sweat (perspiration), bringing water to our skin;207', 3), ('In addition to food, shelter, and energy, humans manufacture (produce) goods that make life more comfortable;458', 3), ('In a glass of water that contains ice cubes we find two phases of matter: liquid and solid;1066', 2), ('Energy for humans comes from the foods we eat;521', 2), ('A thermometer measures temperature;491', 2), ('Air and water are two nonliving things that all living things need to survive;913', 2)]"
       ]
      },
      {
       "output_type": "stream",
       "stream": "stdout",
       "text": [
        "\n",
        "best answer is: ---\n"
       ]
      },
      {
       "output_type": "stream",
       "stream": "stdout",
       "text": [
        "A dog opens its mouth and lets its tongue hang out . A human 's body produces sweat . these are two ways that organisms may adjust to a shortage of drinking water . [0, 3.0, 3.0, 0] [1.740917209832533, 3.1523571625475162, 3.1440642957722393, 1.745612850857353]\n",
        "---------------------------------------------\n",
        "In getCandidate question is winter season is a season of the year during which a rabbit 's fur would be thickest .\n",
        "In getCandidate question is summer season is a season of the year during which a rabbit 's fur would be thickest ."
       ]
      },
      {
       "output_type": "stream",
       "stream": "stdout",
       "text": [
        "\n",
        "In getCandidate question is spring season is a season of the year during which a rabbit 's fur would be thickest ."
       ]
      },
      {
       "output_type": "stream",
       "stream": "stdout",
       "text": [
        "\n",
        "In getCandidate question is fall is a season of the year during which a rabbit 's fur would be thickest ."
       ]
      },
      {
       "output_type": "stream",
       "stream": "stdout",
       "text": [
        "\n",
        "[(\"A bear's fur would be thickest during winter;1015\", 3), ('The water that falls can be in liquid form, such as rain, or in solid form, such as snow;796', 1), ('Dogs cannot have kittens and rabbits cannot have guppies;335', 1), ('A bear would hibernate during the winter season;1157', 2), ('Hibernation is going into a dormant state for the winter;984', 1), (\"Because of the tilt and the Earth's position around the sun during its revolution the Earth experiences four distinct seasons: winter, spring, summer, and fall;666\", 2), (\"A bear's fur would be thickest during winter;1015\", 4), ('rabbits have rabbits;329', 1), ('A bear would hibernate during the winter season;1157', 3), ('A spring scale measures weight;848', 1), ('For example, if you fall and get a deep cut that leaves a scar, you would not pass the scar to your offspring;337', 2), ('Because of the tilt and position of the Earth around the sun at different times of the year the two hemispheres experience opposite seasons;773', 2), ('Some animals grow thick fur in winter to stay warm;986', 2), ('Many animals are able to change their body with the seasons;214', 1), ('A scientist would use a graduated cylinder to measure the volume of a liquid;1072', 1), ('Some animals grow thicker fur in the winter and shed it in the warmer months;216', 2), ('In the northern hemisphere, where New York State is located, the seasons are divided as follows:;667', 1), ('When some animals prepare for the long winters by storing food and going dormant it is called hibernation;1190', 1), ('The average life span of a rabbit is 9 years;273', 2)]"
       ]
      },
      {
       "output_type": "stream",
       "stream": "stdout",
       "text": [
        "\n",
        "best answer is: ---\n"
       ]
      },
      {
       "output_type": "stream",
       "stream": "stdout",
       "text": [
        "winter season is a season of the year during which a rabbit 's fur would be thickest . [1.5, 0, 0, 0] [7.1212269240090773, 3.456403075770595, 3.456403075770595, 3.456403075770595]\n",
        "---------------------------------------------\n",
        "In getCandidate question is a bat flying at night is preparing for a seasonal change in the environment .\n",
        "In getCandidate question is a squirrel storing nuts is preparing for a seasonal change in the environment ."
       ]
      },
      {
       "output_type": "stream",
       "stream": "stdout",
       "text": [
        "\n",
        "In getCandidate question is a deer drinking water is preparing for a seasonal change in the environment ."
       ]
      },
      {
       "output_type": "stream",
       "stream": "stdout",
       "text": [
        "\n",
        "In getCandidate question is an owl eating a mouse is preparing for a seasonal change in the environment ."
       ]
      },
      {
       "output_type": "stream",
       "stream": "stdout",
       "text": [
        "\n",
        "[('Behavior is the way that organisms respond to changes in their environment or to a stimulus;205', 2), ('Ways that animals respond to changes in their environment, such as seasonal changes include hibernation, migration, growing thick fur, or shivering;983', 3), ('As humans construct new homes and buildings they change the landscape of the nonliving environment;452', 2), ('Tadpoles change into frogs, caterpillars change into butterflies, and mealworms turn into beetles;43', 1), ('An example of a plant responding to a change in its environment is leaves falling off trees in fall;968', 2), ('These changes (adaptations) depend on the environment;231', 2), ('Surface waters are heated by the radiation from the sun, which causes the phase change;1133', 2), ('The processes of weathering and erosion change the landscape of the Earth on a daily basis;807', 1), ('When water vapor changes to liquid water it is called condensation;1130', 2), ('As the physical environment changes over time, plants and animals change and so do the relationships within the ecosystem;404', 2), ('Examples of animals using plants for shelter are birds building a nest on tree branches and squirrels living inside a tree trunk;941', 1), ('When liquid water changes to water vapor it is called evaporation;1129', 2), ('Many animals are able to change their body with the seasons;214', 1), ('Animals that change color or are of a color similar to their environment can camouflage themselves so that they cannot be easily seen;996', 2), ('Evaporation is defined as the change of water from its liquid phase to its gaseous phase;1126', 2), ('When some animals prepare for the long winters by storing food and going dormant it is called hibernation;1190', 1), ('The energy from the sun heated the water and caused it to evaporate - change from liquid water to water vapor;788', 2)]"
       ]
      },
      {
       "output_type": "stream",
       "stream": "stdout",
       "text": [
        "\n",
        "best answer is: ---\n"
       ]
      },
      {
       "output_type": "stream",
       "stream": "stdout",
       "text": [
        "a deer drinking water is preparing for a seasonal change in the environment . [0, 0, 1.5, 0] [3.9974011327847041, 2.8495668723394099, 7.7177746134189498, 4.0448661761911922]\n",
        "---------------------------------------------\n",
        "In getCandidate question is an example of a poor health habit is eating candy instead of lunch .\n",
        "In getCandidate question is an example of a poor health habit is handwashing after using the bathroom ."
       ]
      },
      {
       "output_type": "stream",
       "stream": "stdout",
       "text": [
        "\n",
        "In getCandidate question is an example of a poor health habit is playing on a soccer team ."
       ]
      },
      {
       "output_type": "stream",
       "stream": "stdout",
       "text": [
        "\n",
        "In getCandidate question is an example of a poor health habit is taking a bath or shower regularly ."
       ]
      },
      {
       "output_type": "stream",
       "stream": "stdout",
       "text": [
        "\n",
        "[('For example, when it is winter in the northern hemisphere the southern hemisphere experiences summer;774', 1), ('Being healthy also includes good health habits;345', 2), ('Eating candy for diner is an example of a poor health habit;1164', 4), ('An example of the transfer of chemical energy to electrical energy is between battery and light bulb;1188', 1), ('A snowball melting in your hand is an example of heat energy;1081', 1), ('For example, a pie graph can be used to show the percentage of students in each grade in a high school;905', 1), ('Eating candy for dinner is an example of a poor health habit;1045', 5), ('Examples of animals using plants for shelter are birds building a nest on tree branches and squirrels living inside a tree trunk;941', 1), ('Eating candy for diner is an example of a poor health habit;1164', 5), ('Heat, electric, sound, chemical, mechanical, and light are all examples of different forms of energy;528', 1), ('Drinking alcohol and/or taking illicit (not prescribed ) drugs are also very harmful to your body;363', 1), ('Eating candy for dinner is an example of a poor health habit;1045', 4), ('A car engine is an example of chemical energy changing to mechanical energy;1088', 1), ('Using your eyes to see that a banana is yellow is an example of using your senses to make an observation;1075', 2), ('The body needs to be cleaned regularly to prevent germs and bacteria from growing and making us sick;349', 1), ('Some examples are the frog, beetle, and ladybug;266', 1)]"
       ]
      },
      {
       "output_type": "stream",
       "stream": "stdout",
       "text": [
        "\n",
        "best answer is: ---\n"
       ]
      },
      {
       "output_type": "stream",
       "stream": "stdout",
       "text": [
        "an example of a poor health habit is eating candy instead of lunch . [12.0, 10, 10, 10] [5.373355982547996, 2.6532013675542223, 2.6544441654814728, 2.6544133934796283]\n",
        "---------------------------------------------\n",
        "In getCandidate question is water is usually found in nature as a liquid , solid , and gas .\n",
        "In getCandidate question is glass is usually found in nature as a liquid , solid , and gas ."
       ]
      },
      {
       "output_type": "stream",
       "stream": "stdout",
       "text": [
        "\n",
        "In getCandidate question is rock is usually found in nature as a liquid , solid , and gas ."
       ]
      },
      {
       "output_type": "stream",
       "stream": "stdout",
       "text": [
        "\n",
        "In getCandidate question is metal is usually found in nature as a liquid , solid , and gas ."
       ]
      },
      {
       "output_type": "stream",
       "stream": "stdout",
       "text": [
        "\n",
        "[('In a glass of water that contains ice cubes we find two phases of matter: liquid and solid;1066', 6), ('Freezing involves changing water from its liquid state to its solid state (ice) by the removal of heat;782', 6), ('Pollution is found in the air, on the land, and in the water;463', 5), ('A rock is not a living thing;1179', 4), ('The water vapor cooled and changed from its gaseous state to a liquid state (droplets) on your glass;794', 5), ('When the water freezes, it expands, making the crack even larger, and in some cases, breaks the rock;812', 4), ('This is because the water vapor in the air came in contact with the cool glass;793', 4), ('After a few minutes water droplets appeared on the outside of your glass;792', 4), ('Light energy can move through glass much better than through paper;573', 4), ('Students set up an experiment in which they exposed some sunflower seeds to rock music and some to no music;875', 4), ('If you give that rock a push and it begins to move down the hill, the potential energy is changed to kinetic energy, allowing the rock to move;526', 4), ('The water that falls can be in liquid form, such as rain, or in solid form, such as snow;796', 6), ('In a glass of water that contains ice cubes we find two phases of matter: liquid and solid;1066', 2), ('Have you ever put a metal spoon in a pot that is being heated on the stove and then tried to touch the spoon?;537', 4), ('Weathering of rock and landforms can also take place through the action of running water and waves;817', 4), ('The distance between two magnets or a magnet and another metal object has an effect on the force of attraction;612', 4), ('The water that falls can be in liquid form, such as rain, or in solid form, such as snow;796', 2), ('When water vapor changes to liquid water it is called condensation;1130', 5), ('Water exists in three phases: solid, liquid, and gas;776', 3), ('For example, some metal objects allow heat and electricity to transfer better than do plastic or rubber objects;570', 4), ('Melting is the opposite of freezing and involves changing water from its solid state (ice) to a liquid state by the addition of heat;783', 6), ('A rock at the top of a hill that is standing still has potential energy;525', 4), ('The hot liquid rock on the surface is called lava;837', 5), ('Water is found in nature as a solid, liquid, and gas;1173', 5), ('Water in the liquid phase is called water;778', 5), ('When liquid water changes to water vapor it is called evaporation;1129', 5), ('Matter exists in three phases: solid, liquid, and gas;482', 3), ('A rock is considered a nonliving thing;28', 4), ('Think back to a hot summer day, when you poured yourself a glass of cold water and took it outside;791', 4), ('The phases of matter are solid, liquid, gas;1182', 3), ('Snow is solid water falling from the sky;727', 5), ('Data was put into a chart and the students concluded that the sunflower plants that were exposed to rock music were taller than the plants that were not exposed to any music;877', 4), ('The heat from the pot is transferred to the metal spoon;539', 4)]"
       ]
      },
      {
       "output_type": "stream",
       "stream": "stdout",
       "text": [
        "\n",
        "best answer is: ---\n"
       ]
      },
      {
       "output_type": "stream",
       "stream": "stdout",
       "text": [
        "water is usually found in nature as a liquid , solid , and gas . [11.5, 0.5, 11.5, 6.5] [2.3269903302235866, 1.6838134400124924, 2.2172259589600012, 1.9758252282854796]\n",
        "---------------------------------------------\n",
        "In getCandidate question is A student is growing some plants for an experiment . She notices small white spots on the leaves . she should use a balance to get a better look at the spots .\n",
        "In getCandidate question is A student is growing some plants for an experiment . She notices small white spots on the leaves . she should use a hand lens to get a better look at the spots ."
       ]
      },
      {
       "output_type": "stream",
       "stream": "stdout",
       "text": [
        "\n",
        "In getCandidate question is A student is growing some plants for an experiment . She notices small white spots on the leaves . she should use a thermometer to get a better look at the spots ."
       ]
      },
      {
       "output_type": "stream",
       "stream": "stdout",
       "text": [
        "\n",
        "In getCandidate question is A student is growing some plants for an experiment . She notices small white spots on the leaves . she should use a graduated cylinder to get a better look at the spots ."
       ]
      },
      {
       "output_type": "stream",
       "stream": "stdout",
       "text": [
        "\n",
        "[('Animals can use plants for shelter;940', 2), ('A scientist would use a graduated cylinder to measure the volume of a liquid;1072', 2), ('A fruit can be found near the seeds of a plant, usually in the flower;962', 2), (\"When we get a good night's sleep we are able to better concentrate in school and find it easier to complete our work;385\", 2), ('A scientist would use a graduated cylinder to measure the volume of a liquid;1072', 4), ('The leaves contain chlorophyll and are able to move toward the sun to collect light for the plant to perform photosynthesis;952', 2), ('The leaves are the part of the plant that is responsible for making food;1186', 2), ('A seed growing into a plant is a form of reproduction;929', 3), ('A hand lens used to view objects in more detail;851', 3), ('A snowball melting in your hand is an example of heat energy;1081', 2), ('A graph such as this might be used to show the number of students with different eye color for your entire class;903', 2), ('Animals can use plants for food;938', 2), ('The sense of taste is one sense that we typically do not use in a science laboratory or during a science experiment;841', 2), ('To determine the volume of milk used in a recipe you would use a graduated cylinder;1069', 3), ('To measure liquid volume scientists use a graduated cylinder;478', 3)]"
       ]
      },
      {
       "output_type": "stream",
       "stream": "stdout",
       "text": [
        "\n",
        "best answer is: ---\n"
       ]
      },
      {
       "output_type": "stream",
       "stream": "stdout",
       "text": [
        "A student is growing some plants for an experiment . She notices small white spots on the leaves . she should use a hand lens to get a better look at the spots . [0, 11.0, 0, 16.0] [2.1020566923249602, 3.6319836512371584, 1.5515707063055086, 2.6141638158053566]\n",
        "---------------------------------------------\n",
        "In getCandidate question is increasing the temperature is one way to change water from a liquid to a solid .\n",
        "In getCandidate question is decreasing the temperature is one way to change water from a liquid to a solid ."
       ]
      },
      {
       "output_type": "stream",
       "stream": "stdout",
       "text": [
        "\n",
        "In getCandidate question is increasing the mass is one way to change water from a liquid to a solid ."
       ]
      },
      {
       "output_type": "stream",
       "stream": "stdout",
       "text": [
        "\n",
        "In getCandidate question is decreasing the mass is one way to change water from a liquid to a solid ."
       ]
      },
      {
       "output_type": "stream",
       "stream": "stdout",
       "text": [
        "\n",
        "[('The energy from the sun heated the water and caused it to evaporate - change from liquid water to water vapor;788', 3), ('The water that falls can be in liquid form, such as rain, or in solid form, such as snow;796', 3), ('To change an object from a solid to a liquid you must increase the temperature;1174', 3), ('Evaporation is defined as the change of water from its liquid phase to its gaseous phase;1126', 3), ('When liquid water changes to water vapor it is called evaporation;1129', 3), ('When water vapor changes to liquid water it is called condensation;1130', 3), ('In a glass of water that contains ice cubes we find two phases of matter: liquid and solid;1066', 3), ('Surface waters are heated by the radiation from the sun, which causes the phase change;1133', 2), ('Freezing involves changing water from its liquid state to its solid state (ice) by the removal of heat;782', 3), ('Melting is the opposite of freezing and involves changing water from its solid state (ice) to a liquid state by the addition of heat;783', 3), ('To change an object from a solid to a liquid you must increase the temperature;1174', 4)]"
       ]
      },
      {
       "output_type": "stream",
       "stream": "stdout",
       "text": [
        "\n",
        "best answer is: ---\n",
        "decreasing the temperature is one way to change water from a liquid to a solid . [3.5, 9.5, 4, 3] [1.9863399197867997, 2.8590671925140727, 1.9471909538722487, 1.8017364084177032]\n",
        "---------------------------------------------\n",
        "In getCandidate question is when a person speaks into a telephone , sound energy is changed mostly into electrical energy .\n",
        "In getCandidate question is when a person speaks into a telephone , sound energy is changed mostly into chemical energy ."
       ]
      },
      {
       "output_type": "stream",
       "stream": "stdout",
       "text": [
        "\n",
        "In getCandidate question is when a person speaks into a telephone , sound energy is changed mostly into heat ."
       ]
      },
      {
       "output_type": "stream",
       "stream": "stdout",
       "text": [
        "\n",
        "In getCandidate question is when a person speaks into a telephone , sound energy is changed mostly into light ."
       ]
      },
      {
       "output_type": "stream",
       "stream": "stdout",
       "text": [
        "\n",
        "[('The urinary system is responsible for getting rid of chemical waste and water;980', 4), ('The energy transformation that occurs when you ring a door bell is electrical energy to sound;1091', 6), (\"We are able to see the moon in the sky because the sun's light is reflected off of the moon;1102\", 4), ('A complete circuit allows electrical energy to flow;576', 5), ('The ashes are chemically different from the paper so this is considered a chemical change;514', 4), ('The amount of energy transferred during a flow of electrical energy depends on the energy source and the properties of the object;577', 5), ('Just as we can describe physical and chemical properties of matter we can describe the physical and chemical changes to matter;499', 4), ('Plants need water, light, air, and food to survive;960', 4), ('Plants need light to survive;932', 4), ('Chemical energy is energy that is released when a chemical reaction takes place;533', 5), ('A simple circuit generally involves a battery, or other source of electrons, wires through which the energy can flow, and the object that needs the energy to work, such as a light bulb;580', 5), ('A snowball melting in your hand is an example of heat energy;1081', 5), ('A battery is an example of chemical energy changing to electrical energy;1085', 5), ('The leaves contain chlorophyll and are able to move toward the sun to collect light for the plant to perform photosynthesis;952', 4), ('After the blood carries nutrients and oxygen throughout the body we need to get rid of the chemical waste;171', 4), ('A blender is an example of electrical energy changing to mechanical energy;1087', 5), ('Sound waves and light energy are similar because they move energy from one place to another;1168', 5), ('A thermometer is used to measure heat energy;1176', 5), ('Heat, electric, sound, chemical, mechanical, and light are all examples of different forms of energy;528', 6), ('Mechanical energy changes to heat in bicycle brakes;558', 5), ('Liquid water is changed to water vapor by adding heat;1122', 5), ('When you turn on your television, electrical energy is transferred into sound and light energy;1175', 6), ('Rusting is an example of a chemical property;1073', 4), ('Light energy changes to electrical energy in a solar calculator;552', 5), ('A car engine is an example of chemical energy changing to mechanical energy;1088', 5), ('Light energy is energy that is given off from a light source such as the sun or a light bulb;535', 5), ('This helps to regulate their body heat;217', 4), ('Chemical energy changes to electrical energy in a battery;564', 5), ('Drying clothes in a clothes dryer is an example of electrical energy changing to heat energy;1084', 5), ('Water can easily be changed from one phase to another by the addition or removal of heat;780', 5), ('We can get heat energy from the sun;530', 5), ('Water vapor is changed to liquid water by removing heat;1123', 5), ('Light changes to electrical energy in solar path lights;567', 5), ('Fossil fuels like oil and natural gas are used to heat our homes and power factories to make items that we purchase;442', 4), ('An example of the transfer of chemical energy to electrical energy is between battery and light bulb;1188', 5)]"
       ]
      },
      {
       "output_type": "stream",
       "stream": "stdout",
       "text": [
        "\n",
        "best answer is: ---\n"
       ]
      },
      {
       "output_type": "stream",
       "stream": "stdout",
       "text": [
        "when a person speaks into a telephone , sound energy is changed mostly into heat . [10.5, 11.5, 11.5, 11.5] [2.6749464420878093, 9.2613767102531561, 9.5054903039028034, 9.2726165753062855]\n",
        "---------------------------------------------\n",
        "In getCandidate question is A car skids along the road and smoke appears to be coming from under the tires . the heat that produces the smoke is caused by friction .\n",
        "In getCandidate question is A car skids along the road and smoke appears to be coming from under the tires . the heat that produces the smoke is caused by sound ."
       ]
      },
      {
       "output_type": "stream",
       "stream": "stdout",
       "text": [
        "\n",
        "In getCandidate question is A car skids along the road and smoke appears to be coming from under the tires . the heat that produces the smoke is caused by light ."
       ]
      },
      {
       "output_type": "stream",
       "stream": "stdout",
       "text": [
        "\n",
        "In getCandidate question is A car skids along the road and smoke appears to be coming from under the tires . the heat that produces the smoke is caused by magnetism ."
       ]
      },
      {
       "output_type": "stream",
       "stream": "stdout",
       "text": [
        "\n",
        "[('The full moon appears in our sky as a completely lit circle of light;1108', 2), ('A dog is living;920', 1), ('A simple circuit generally involves a battery, or other source of electrons, wires through which the energy can flow, and the object that needs the energy to work, such as a light bulb;580', 8), ('A flood can be caused by heavy rain;1112', 2), ('A car engine is an example of chemical energy changing to mechanical energy;1088', 2), ('A nonliving thing does not need anything to exist;30', 1), ('Magnetism can be caused in some kinds of materials by a magnet;546', 1), ('A spring scale measures weight;848', 1), ('A snowball melting in your hand is an example of heat energy;1081', 2), ('In addition to food, shelter, and energy, humans manufacture (produce) goods that make life more comfortable;458', 1), ('Plants need water, light, air, and food to survive;960', 1), ('A rock is not a living thing;1179', 1), (\"Clouds can block the Earth's ability to absorb light and heat from the sun and therefore can affect temperature;738\", 2), ('A thermometer is used to measure heat energy;1176', 2)]"
       ]
      },
      {
       "output_type": "stream",
       "stream": "stdout",
       "text": [
        "\n",
        "best answer is: ---\n"
       ]
      },
      {
       "output_type": "stream",
       "stream": "stdout",
       "text": [
        "A car skids along the road and smoke appears to be coming from under the tires . the heat that produces the smoke is caused by light . [0, 0, 11.5, 11.5] [1.8249630018514382, 1.8267995920538405, 2.3092368088269764, 2.1737580105532452]\n",
        "---------------------------------------------\n",
        "In getCandidate question is that a shovel is used to move dirt from one place to another is an example in which a thermometer could be used to show that heat energy is being transferred .\n",
        "In getCandidate question is that a ball is thrown into the air is an example in which a thermometer could be used to show that heat energy is being transferred ."
       ]
      },
      {
       "output_type": "stream",
       "stream": "stdout",
       "text": [
        "\n",
        "In getCandidate question is that a stove is used to boil water in a pan is an example in which a thermometer could be used to show that heat energy is being transferred ."
       ]
      },
      {
       "output_type": "stream",
       "stream": "stdout",
       "text": [
        "\n",
        "In getCandidate question is that a piano is played by striking the keys is an example in which a thermometer could be used to show that heat energy is being transferred ."
       ]
      },
      {
       "output_type": "stream",
       "stream": "stdout",
       "text": [
        "\n",
        "[('A pie graph is often used to show percentages of variables that equal 100;904', 2), ('A thermometer is used to measure heat energy;1176', 4), ('A snowball melting in your hand is an example of heat energy;1081', 3), ('Drying clothes in a clothes dryer is an example of electrical energy changing to heat energy;1084', 3), ('Heat energy can be transferred from one object to another object;545', 2), ('Much of this interaction results in energy changing from one form to another;550', 3), ('Humans developed various means of transportation so that they could live in one place and bring food, energy, and other goods to them rather than living at the site where they are made;460', 4), ('Erosion is the process by which soil and or other Earth materials are moved from one place to another;821', 3), ('For example, a pie graph can be used to show the percentage of students in each grade in a high school;905', 3), ('Energy can be transferred from one place to another and one object to another;536', 4), ('Mechanical energy exerted by one object can push or pull another object;544', 3), ('A thermometer is used to measure air temperature;1146', 3), ('An example of the transfer of chemical energy to electrical energy is between battery and light bulb;1188', 2), (\"If an object is thrown into the air, the force used will only allow it to travel a certain distance before the gravitational attraction between the object and the Earth causes it to fall back down to Earth 's surface;618\", 3), ('Precipitation is the term used to describe water falling from the sky;1114', 2), ('A ball rolling down a hill is an example of kinetic energy;1089', 3), ('Sound waves and light energy are similar because they move energy from one place to another;1168', 5), ('A graph such as this might be used to show the number of students with different eye color for your entire class;903', 2), ('Mechanical energy changes to sound in a piano;559', 2), ('Heat energy can be transferred from one object to another object;545', 4), ('Mechanical energy changes to heat in bicycle brakes;558', 2), ('This could be air temperature at different times of the day or the temperature of water as it is heated;899', 2)]"
       ]
      },
      {
       "output_type": "stream",
       "stream": "stdout",
       "text": [
        "\n",
        "best answer is: ---\n"
       ]
      },
      {
       "output_type": "stream",
       "stream": "stdout",
       "text": [
        "that a shovel is used to move dirt from one place to another is an example in which a thermometer could be used to show that heat energy is being transferred . [11.0, 11.0, 4, 9] [2.4713131983458738, 2.3721218435444564, 1.520904346672046, 2.1312478759109124]\n",
        "---------------------------------------------\n",
        "In getCandidate question is When a baby shakes a rattle , it makes a noise . mechanical energy was changed to sound energy .\n",
        "In getCandidate question is When a baby shakes a rattle , it makes a noise . electrical energy was changed to sound energy ."
       ]
      },
      {
       "output_type": "stream",
       "stream": "stdout",
       "text": [
        "\n",
        "In getCandidate question is When a baby shakes a rattle , it makes a noise . heat was changed to sound energy ."
       ]
      },
      {
       "output_type": "stream",
       "stream": "stdout",
       "text": [
        "\n",
        "In getCandidate question is When a baby shakes a rattle , it makes a noise . light was changed to sound energy ."
       ]
      },
      {
       "output_type": "stream",
       "stream": "stdout",
       "text": [
        "\n",
        "[('When an object joins two wires and a bulb lights, the object is able to conduct electricity;1169', 2), ('Pounding a fist on a table is an example of mechanical energy changing to to sound energy;1083', 3), ('Playing a guitar is an example of mechanical energy changing to sound energy;1086', 3), ('Oxygen allows the animal to make and use energy, which it needs to survive;9', 2), ('The energy transformation that occurs when you ring a door bell is electrical energy to sound;1091', 2), ('When all the wires are attached, the bulb will give off light;585', 8), ('When you turn on your television, electrical energy is transferred into sound and light energy;1175', 3), ('In addition to food, shelter, and energy, humans manufacture (produce) goods that make life more comfortable;458', 2), ('A car engine is an example of chemical energy changing to mechanical energy;1088', 2), ('When one of the wires is not attached, as in the diagram below, the circuit will not be complete and the bulb will not give off light;586', 8), ('Heat, electric, sound, chemical, mechanical, and light are all examples of different forms of energy;528', 2), (\"Producers are living things that change the sun's energy to make their own food;420\", 2), ('When you turn on your television, electrical energy is transferred into sound and light energy;1175', 10), ('An example of the transfer of chemical energy to electrical energy is between battery and light bulb;1188', 2), ('Plants provide animals with food and gases (oxygen) that their bodies need to grow, breathe, and make energy;79', 2), ('The energy transformation that occurs when you ring a door bell is electrical energy to sound;1091', 3), ('A snowball melting in your hand is an example of heat energy;1081', 2), ('Mechanical energy changes to sound in a piano;559', 2), ('Heat, electric, sound, chemical, mechanical, and light are all examples of different forms of energy;528', 3), ('Light energy changes to electrical energy in a solar calculator;552', 2), ('Fossil fuels like oil and natural gas are used to heat our homes and power factories to make items that we purchase;442', 2), ('Mechanical energy changes to heat in bicycle brakes;558', 2)]"
       ]
      },
      {
       "output_type": "stream",
       "stream": "stdout",
       "text": [
        "\n",
        "best answer is: ---\n"
       ]
      },
      {
       "output_type": "stream",
       "stream": "stdout",
       "text": [
        "When a baby shakes a rattle , it makes a noise . light was changed to sound energy . [11.5, 10.5, 6.5, 11.5] [2.5386927649336024, 2.4006468652578214, 1.3705385400725403, 2.6404318133690978]\n",
        "---------------------------------------------\n",
        "In getCandidate question is A ball is tossed up in the air and it comes back down . the ball comes back down because of gravity .\n",
        "In getCandidate question is A ball is tossed up in the air and it comes back down . the ball comes back down because of erosion ."
       ]
      },
      {
       "output_type": "stream",
       "stream": "stdout",
       "text": [
        "\n",
        "In getCandidate question is A ball is tossed up in the air and it comes back down . the ball comes back down because of magnetism ."
       ]
      },
      {
       "output_type": "stream",
       "stream": "stdout",
       "text": [
        "\n",
        "In getCandidate question is A ball is tossed up in the air and it comes back down . the ball comes back down because of friction ."
       ]
      },
      {
       "output_type": "stream",
       "stream": "stdout",
       "text": [
        "\n",
        "[('A barometer is used to measure air pressure;1113', 2), ('A dog is living;920', 1), (\"If an object is thrown into the air, the force used will only allow it to travel a certain distance before the gravitational attraction between the object and the Earth causes it to fall back down to Earth 's surface;618\", 2), ('When you jump up in the air, you come back down to the ground due to gravity;1158', 3), ('A solar eclipse occurs when the moon comes between the sun and the Earth;694', 2), ('A barometer measures air pressure;702', 2), ('A lunar eclipse occurs when the Earth comes between the sun and a full moon;692', 2), ('A ball rolling down a hill is an example of kinetic energy;1089', 2), ('A southwest wind would bring warm air to New York from the south, but a northeast wind would most likely bring cold, wet winds;714', 2), ('A thermometer is used to measure air temperature;1146', 2), ('When you jump up in the air, you come back down to the ground due to gravity;1158', 4), ('Weathering, erosion, and deposition result from the interactions between air, land, and water;806', 2)]"
       ]
      },
      {
       "output_type": "stream",
       "stream": "stdout",
       "text": [
        "\n",
        "best answer is: ---\n"
       ]
      },
      {
       "output_type": "stream",
       "stream": "stdout",
       "text": [
        "A ball is tossed up in the air and it comes back down . the ball comes back down because of gravity . [25.5, 10.5, 9, 9] [32.956772278442848, 27.917300352173676, 32.615687007125018, 20.051523154441693]\n",
        "---------------------------------------------\n",
        "In getCandidate question is a simple machine that helps move a flag up a flagpole is a pulley .\n",
        "In getCandidate question is a simple machine that helps move a flag up a flagpole is a lever ."
       ]
      },
      {
       "output_type": "stream",
       "stream": "stdout",
       "text": [
        "\n",
        "In getCandidate question is a simple machine that helps move a flag up a flagpole is an inclined plane ."
       ]
      },
      {
       "output_type": "stream",
       "stream": "stdout",
       "text": [
        "\n",
        "In getCandidate question is a simple machine that helps move a flag up a flagpole is a bar magnet ."
       ]
      },
      {
       "output_type": "stream",
       "stream": "stdout",
       "text": [
        "\n",
        "[('Birds have wings to help them move;992', 2), ('Fish have fins to help them move;993', 2), ('A pulley is composed of a wheel with a piece of rope or chain around it;632', 4), ('A pulley is a simple machine that moves a sail up the mast of a ship;1170', 7), ('Dogs have legs to help them move;991', 2), ('Because of their size, elephants move very slowly, so having good hearing helps protect them from predators;248', 2), ('The seesaw in a playground is also considered a lever;629', 4), ('The body systems work like a machine and each system works to help the animal grow, create energy, and survive;148', 2), ('The diaphragm is a muscle that moves up and down as we inhale and exhale and helps the lungs take in and let out air;165', 2), ('A pulley is used to raise the flag up the flagpole at your school each day;635', 6), ('The lever can assist in moving an object that is too heavy such as a big weight, or can assist in opening an object such as a paint can;628', 4), ('A ramp is a simple machine known as an inclined plane;1159', 10), ('A wheelchair ramp into your school is an example of an inclined plane;631', 8), ('The seesaw in a playground is an example of a lever;1095', 4), ('A pulley is used to raise the flag up the flagpole at your school each day;635', 2), ('A screw is another type of inclined plane that is wrapped around a cylinder;641', 8), ('An inclined plane is a ramp that extends from one level to another;630', 8), ('Magnetism can be caused in some kinds of materials by a magnet;546', 1), ('A lever is a flat structure that is placed on a fixed point;627', 4), ('A ramp is a simple machine known as an inclined plane;1159', 2), ('A pulley is a simple machine that moves a sail up the mast of a ship;1170', 3), ('A wedge is a type of inclined plane that can be forced into another object;639', 8)]"
       ]
      },
      {
       "output_type": "stream",
       "stream": "stdout",
       "text": [
        "\n",
        "best answer is: ---\n"
       ]
      },
      {
       "output_type": "stream",
       "stream": "stdout",
       "text": [
        "a simple machine that helps move a flag up a flagpole is an inclined plane . [10.5, 6.5, 18.0, 0] [2.1144850271923943, 1.9236850349904193, 2.2835562365863864, 1.7801790133293318]\n",
        "---------------------------------------------\n",
        "In getCandidate question is sleet and hail are forms of precipitation .\n",
        "In getCandidate question is sleet and hail are forms of clouds ."
       ]
      },
      {
       "output_type": "stream",
       "stream": "stdout",
       "text": [
        "\n",
        "In getCandidate question is sleet and hail are forms of evaporation ."
       ]
      },
      {
       "output_type": "stream",
       "stream": "stdout",
       "text": [
        "\n",
        "In getCandidate question is sleet and hail are forms of energy ."
       ]
      },
      {
       "output_type": "stream",
       "stream": "stdout",
       "text": [
        "\n",
        "[('Building shelters, using energy, manufacturing goods, and the various forms of transportation are some of the ways humans have created pollution;462', 5), ('Different forms of precipitation include:;724', 5), ('Water from the oceans enters the atmosphere through evaporation;1132', 4), ('Much of this interaction results in energy changing from one form to another;550', 5), ('The water that falls can be in liquid form, such as rain, or in solid form, such as snow;796', 1), ('In everyday life different forms of energy interact with matter;549', 1), ('Body fat is a form of stored energy and helps animals get through long periods of time with little food;219', 5), ('Fog is not a form of precipitation;1128', 5), ('Once the outside temperature drops below the freezing point of water it is more likely that the precipitation will be in the form of snow;732', 5), ('Much of this interaction results in energy changing from one form to another;550', 1), ('The waste leaves the body in the form of feces;68', 1), ('Examples of precipitation include rain, snow, sleet, and hail;797', 6), ('When liquid water changes to water vapor it is called evaporation;1129', 4), ('Fog is not a form of precipitation;1128', 1), ('Creating new clean forms of energy to conserve fossil fuels;473', 5), ('Hail is a form of precipitation;1180', 5), ('When the humidity reaches 100 percent it is very likely that some form of precipitation will occur, depending on the temperature;735', 5), ('Liquid water changing to water vapor is evaporation;1119', 4), ('An example of the transfer of chemical energy to electrical energy is between battery and light bulb;1188', 4), ('Other conditions used to describe the weather include humidity and cloud cover;733', 4), ('Hail is a form of precipitation;1180', 1), ('Snow is a form of precipitation;1115', 5), ('Examples of some forms of energy transfer are:;543', 5), ('Humans can help save their environment by recycling, planting trees, preventing litter, limiting use of cars, creating new forms of energy, and conserving energy;1063', 5), ('When the molecules become too heavy to stay in the air they fall to the ground in the form of precipitation;1135', 5), ('Snow and rain are forms of precipitation;1153', 5), ('Electricity is one form of energy;574', 5), ('Heat, electric, sound, chemical, mechanical, and light are all examples of different forms of energy;528', 5), ('Different forms of precipitation include:;724', 1), ('Some offspring are born as one form and change over time into an adult form;63', 1), ('Examples of precipitation include rain, snow, sleet, and hail;797', 2), ('In everyday life different forms of energy interact with matter;549', 5), ('Sometimes the precipitation happens too quickly and the ground cannot absorb all of the water;802', 4)]"
       ]
      },
      {
       "output_type": "stream",
       "stream": "stdout",
       "text": [
        "\n",
        "best answer is: ---\n"
       ]
      },
      {
       "output_type": "stream",
       "stream": "stdout",
       "text": [
        "sleet and hail are forms of energy . [5.5, 0, 6.5, 6.5] [2.3447086282900891, 1.476580248883526, 2.3622016033046171, 2.3744677645808476]\n",
        "---------------------------------------------\n",
        "In getCandidate question is the movement of soil by wind or water is called erosion .\n",
        "In getCandidate question is the movement of soil by wind or water is called evaporation ."
       ]
      },
      {
       "output_type": "stream",
       "stream": "stdout",
       "text": [
        "\n",
        "In getCandidate question is the movement of soil by wind or water is called condensation ."
       ]
      },
      {
       "output_type": "stream",
       "stream": "stdout",
       "text": [
        "\n",
        "In getCandidate question is the movement of soil by wind or water is called friction ."
       ]
      },
      {
       "output_type": "stream",
       "stream": "stdout",
       "text": [
        "\n",
        "[('Ice changing to liquid water is called melting;1118', 2), ('Examples of erosion include:;823', 4), ('Water from the oceans enters the atmosphere through evaporation;1132', 4), ('Roots secure the plant in the soil and bring in water and nutrients for survival;965', 2), ('When two objects slide over one another friction can occur;1098', 4), ('When water vapor changes to liquid water it is called condensation;1130', 6), ('Rocks are weathered, broken down, and then carried away through the action of erosion;829', 4), ('Objects being pushed over a smooth surface will move easier due to less friction;1165', 4), ('Water, wind, and gravity are all forces involved in erosion;822', 5), ('When water vapor changes to liquid water it is called condensation;1130', 2), ('Water in the liquid phase is called water;778', 2), ('Liquid water changing to water vapor is evaporation;1119', 5), ('Weathering, erosion, and deposition result from the interactions between air, land, and water;806', 5), ('Water vapor changing to liquid water is condensation;1120', 5), ('Roots absorb water and nutrients from the soil into the plant;95', 2), ('The amount of friction that an object encounters depends on its smoothness;597', 4), ('When liquid water changes to water vapor it is called evaporation;1129', 2), ('The box pushed across the floor will eventually stop because of the force, or friction, the floor has on the box;596', 4), ('The smoother the surface, the less friction against an object, so the faster it will move;598', 4), ('The processes of weathering and erosion change the landscape of the Earth on a daily basis;807', 4), ('The water cycle involves movement of water between air and land;1127', 2), ('When liquid water changes to water vapor it is called evaporation;1129', 6), ('When an object travels slowly over a bumpy surface and fast over a smooth surface the difference is due to friction;1189', 4), ('The processes of weathering and erosion work together over time;828', 4), ('Seeds can be spread by wind, water, birds, and insects;957', 2), ('Water in the gaseous phase is often called water vapor or steam;779', 2)]"
       ]
      },
      {
       "output_type": "stream",
       "stream": "stdout",
       "text": [
        "\n",
        "best answer is: ---\n"
       ]
      },
      {
       "output_type": "stream",
       "stream": "stdout",
       "text": [
        "the movement of soil by wind or water is called condensation . [11.5, 16.5, 10.5, 6.5] [2.557392794565347, 4.0546382681571105, 4.5358942544743961, 1.499403838067193]\n",
        "---------------------------------------------\n",
        "In getCandidate question is a graduated cylinder is used to measure the volume of a liquid .\n",
        "In getCandidate question is a balance is used to measure the volume of a liquid ."
       ]
      },
      {
       "output_type": "stream",
       "stream": "stdout",
       "text": [
        "\n",
        "In getCandidate question is a ruler is used to measure the volume of a liquid ."
       ]
      },
      {
       "output_type": "stream",
       "stream": "stdout",
       "text": [
        "\n",
        "In getCandidate question is a thermometer is used to measure the volume of a liquid ."
       ]
      },
      {
       "output_type": "stream",
       "stream": "stdout",
       "text": [
        "\n",
        "[('To measure mass scientists use a balance;476', 5), ('To determine the volume of a book you would use a ruler;1068', 5), ('A rain gauge is used to measure rainfall;715', 2), ('A ruler measures length;489', 5), ('To determine the volume of milk used in a recipe you would use a graduated cylinder;1069', 10), ('A thermometer measures temperature;849', 5), ('A thermometer is used to measure heat energy;1176', 6), ('A metric ruler can be used to measure the length of a stick;1147', 6), ('A thermometer measures temperature;491', 5), ('A balance measures mass;1076', 5), ('A scientist would use a graduated cylinder to measure the volume of a liquid;1072', 11), ('A thermometer is the instrument used to measure temperature;720', 6), ('The tool that is used to measure the volume of a liquid is a graduated cylinder;1161', 12), ('To measure liquid volume scientists use a graduated cylinder;478', 3), ('A thermometer is used to measure air temperature;1146', 6), ('A graduated Cylinder measures volume;492', 3), ('A metric ruler can be used to measure the length of a stick;1147', 2), ('A balance measures mass;847', 5), ('The best tool to use to measure temperature is a thermometer;1145', 5), ('A metric ruler and a balance will measure the size and mass of an object;1148', 5), ('A ruler is used to measure the length of a piece of wood;1196', 6), ('To measure the volume of a solid scientists use a ruler;479', 6), ('A scientist would use a graduated cylinder to measure the volume of a liquid;1072', 3), (\"The best instrument to measure the growth of a plant's stem is a ruler;1150\", 5), ('The tool that is used to measure the volume of a liquid is a graduated cylinder;1161', 4), ('A ruler measures length;845', 5), ('A ruler is used to measure the length of a piece of wood;1196', 2), ('To measure the volume of a solid scientists use a ruler;479', 2), ('Problems arise when the balance between the organisms and the available resources and space changes;402', 4), ('A balance measures mass;490', 5), ('A thermometer measures temperature;705', 5), ('A balance is used to determine the mass of an object;1140', 5), ('To measure liquid volume scientists use a graduated cylinder;478', 11), ('A thermometer is the instrument used to measure temperature;720', 2)]"
       ]
      },
      {
       "output_type": "stream",
       "stream": "stdout",
       "text": [
        "\n",
        "best answer is: ---\n"
       ]
      },
      {
       "output_type": "stream",
       "stream": "stdout",
       "text": [
        "a graduated cylinder is used to measure the volume of a liquid . [33.0, 10.5, 16.5, 16.5] [2.2525544040442114, 1.8788601820190491, 1.9639238130016161, 1.9638023190640057]\n",
        "---------------------------------------------\n",
        "In getCandidate question is a student should use a measuring cup to compare the masses of two small rocks .\n",
        "In getCandidate question is a student should use a hand lens to compare the masses of two small rocks ."
       ]
      },
      {
       "output_type": "stream",
       "stream": "stdout",
       "text": [
        "\n",
        "In getCandidate question is a student should use a balance to compare the masses of two small rocks ."
       ]
      },
      {
       "output_type": "stream",
       "stream": "stdout",
       "text": [
        "\n",
        "In getCandidate question is a student should use a ruler to compare the masses of two small rocks ."
       ]
      },
      {
       "output_type": "stream",
       "stream": "stdout",
       "text": [
        "\n",
        "[('The Earth is divided into two halves or hemispheres, the equator being the dividing line;662', 1), ('To determine the volume of a book you would use a ruler;1068', 5), ('A balance measures mass;847', 5), ('A metric ruler can be used to measure the length of a stick;1147', 4), (\"The best instrument to measure the growth of a plant's stem is a ruler;1150\", 4), ('A ruler measures length;845', 4), ('A balance measures mass;1076', 5), ('In a glass of water that contains ice cubes we find two phases of matter: liquid and solid;1066', 1), ('The sense of taste is one sense that we typically do not use in a science laboratory or during a science experiment;841', 1), ('Air and water are two nonliving things that all living things need to survive;913', 1), ('A graph such as this might be used to show the number of students with different eye color for your entire class;903', 1), ('To measure mass scientists use a balance;476', 6), ('A ruler measures length;489', 4), ('A metric ruler and a balance will measure the size and mass of an object;1148', 5), ('To measure mass scientists use a balance;476', 2), ('Weathering is the process that breaks down rocks into small pieces;1137', 2), ('A ruler is used to measure the length of a piece of wood;1196', 4), ('As the rocks break, they can be further broken down through continued weathering, eventually becoming very small pieces that combine with other Earth materials to create soil;815', 2), ('A scientist would use a graduated cylinder to measure the volume of a liquid;1072', 1), ('Problems arise when the balance between the organisms and the available resources and space changes;402', 4), ('A balance measures mass;490', 5), ('A hand lens used to view objects in more detail;851', 8), ('A balance is used to determine the mass of an object;1140', 5), ('Weathering is a process that breaks rocks and other surface materials into small pieces;808', 2), ('To measure the volume of a solid scientists use a ruler;479', 5)]"
       ]
      },
      {
       "output_type": "stream",
       "stream": "stdout",
       "text": [
        "\n",
        "best answer is: ---\n"
       ]
      },
      {
       "output_type": "stream",
       "stream": "stdout",
       "text": [
        "a student should use a hand lens to compare the masses of two small rocks . [0, 12.0, 10.5, 11.5] [1.6475080933380832, 2.2629341105681653, 2.1850220646892176, 2.0865504431801667]\n",
        "---------------------------------------------\n",
        "In getCandidate question is a metal fork is the best conductor of electricity .\n",
        "In getCandidate question is a plastic spoon is the best conductor of electricity ."
       ]
      },
      {
       "output_type": "stream",
       "stream": "stdout",
       "text": [
        "\n",
        "In getCandidate question is a rubber boot is the best conductor of electricity ."
       ]
      },
      {
       "output_type": "stream",
       "stream": "stdout",
       "text": [
        "\n",
        "In getCandidate question is a wooden bat is the best conductor of electricity ."
       ]
      },
      {
       "output_type": "stream",
       "stream": "stdout",
       "text": [
        "\n",
        "[('For example, some metal objects allow heat and electricity to transfer better than do plastic or rubber objects;570', 2), ('This makes them the best type of animal to live in the desert;238', 1), ('The best way to do this, in addition to eating healthfully, exercising, and getting rest is to avoid (do not take or try) harmful substances;357', 1), ('The distance between two magnets or a magnet and another metal object has an effect on the force of attraction;612', 1), ('If you were to put a wooden spoon in the same pot and then tried to touch it, the wooden spoon would not be hot;540', 1), ('Roots grow underground;93', 0), ('Iron and steel are more magnetic than wood or plastic;571', 1), (\"The best instrument to measure the growth of a plant's stem is a ruler;1150\", 1), ('The saying, \"survival of the fittest\", means that those who are best adapted will survive over those who are not;233', 1), ('When an object joins two wires and a bulb lights, the object is able to conduct electricity;1169', 1), ('Recycling and reusing papers, plastics, and metals to reduce the amount of waste in landfills;471', 1), ('For example, some metal objects allow heat and electricity to transfer better than do plastic or rubber objects;570', 1), ('Have you ever put a metal spoon in a pot that is being heated on the stove and then tried to touch the spoon?;537', 1), ('A magnet is an object that attracts metals;604', 1), ('They researched information to find the best soil, nutrients, and light source needed in order to grow sunflowers;873', 1), ('The best tool to use to measure temperature is a thermometer;1145', 1), ('Your body is like a very delicate machine that needs to be cared for to work and feel its best;343', 1)]"
       ]
      },
      {
       "output_type": "stream",
       "stream": "stdout",
       "text": [
        "\n",
        "best answer is: ---\n"
       ]
      },
      {
       "output_type": "stream",
       "stream": "stdout",
       "text": [
        "a metal fork is the best conductor of electricity . [0, 0, 0, 0] [1.027134074907835, 1.0266670031304146, 1.0264598650367551, 0.9271760664759674]\n",
        "---------------------------------------------\n",
        "In getCandidate question is a puddle drying in the sun is the best example of evaporation .\n",
        "In getCandidate question is a sponge soaking up water is the best example of evaporation ."
       ]
      },
      {
       "output_type": "stream",
       "stream": "stdout",
       "text": [
        "\n",
        "In getCandidate question is an ice cube melting is the best example of evaporation ."
       ]
      },
      {
       "output_type": "stream",
       "stream": "stdout",
       "text": [
        "\n",
        "In getCandidate question is raindrops freezing is the best example of evaporation ."
       ]
      },
      {
       "output_type": "stream",
       "stream": "stdout",
       "text": [
        "\n",
        "[('For example, when it is winter in the northern hemisphere the southern hemisphere experiences summer;774', 1), ('When liquid water changes to water vapor it is called evaporation;1129', 1), ('The water that falls can be in liquid form, such as rain, or in solid form, such as snow;796', 1), ('It is the rotation of the Earth that makes the sun appear to move through the sky during the day, rising in the east and setting in the west;653', 1), ('An example of the transfer of chemical energy to electrical energy is between battery and light bulb;1188', 1), ('A snowball melting in your hand is an example of heat energy;1081', 1), ('The sun, stars, moon, planets, and comets are all celestial objects;644', 1), ('For example, a pie graph can be used to show the percentage of students in each grade in a high school;905', 1), ('Precipitation is the term used to describe water falling from the sky;1114', 1), ('In a glass of water that contains ice cubes we find two phases of matter: liquid and solid;1066', 1), ('The sun is the ultimate source of energy for all life and physical cycles on Earth;394', 1), ('A car engine is an example of chemical energy changing to mechanical energy;1088', 1), ('Living things need specific resources for survival such as air, food, and water;390', 1), ('Liquid water changing to water vapor is evaporation;1119', 2), (\"We are able to see the moon in the sky because the sun's light is reflected off of the moon;1102\", 1), ('Living things need food, water, and air to survive;1172', 1), ('Water in the solid phase is often called ice;777', 1), ('A solar eclipse occurs when the moon comes between the sun and the Earth;694', 1), ('Sleet is freezing rain falling from the sky;726', 1), ('Ice changing to liquid water is called melting;1118', 1), ('Adaptation examples can include: roses have thorns for protection, cactus hold water to survive in the desert, and palm trees have wide leaves to absorb extra sunlight;959', 2), ('When liquid water changes to water vapor it is called evaporation;1129', 2), ('Heat, electric, sound, chemical, mechanical, and light are all examples of different forms of energy;528', 1), ('Plants need water, light, air, and food to survive;960', 1), ('In a glass of water that contains ice cubes we find two phases of matter: liquid and solid;1066', 2), ('Surface waters are heated by the radiation from the sun, which causes the phase change;1133', 1), ('A snowball melting in your hand is an example of heat energy;1081', 2), ('The leaves contain chlorophyll and are able to move toward the sun to collect light for the plant to perform photosynthesis;952', 1), ('The sun is considered the center of our solar system and all objects move around the sun;648', 1), ('Rain can occur anytime during the year as long as the outside temperature is above the freezing point of water;731', 1), ('We see different planets throughout the year because of the motion of the Earth and the movement of the planets around the sun;647', 1), ('Some examples are the frog, beetle, and ladybug;266', 1)]"
       ]
      },
      {
       "output_type": "stream",
       "stream": "stdout",
       "text": [
        "\n",
        "best answer is: ---\n"
       ]
      },
      {
       "output_type": "stream",
       "stream": "stdout",
       "text": [
        "a sponge soaking up water is the best example of evaporation . [0, 1.5, 1.5, 0] [2.4722383431953667, 5.1448076351795109, 5.1279880930679083, 2.3733159857775044]\n",
        "---------------------------------------------\n",
        "In getCandidate question is A marble is dropped in a glass of water . gravity pulls the marble to the bottom of the glass .\n",
        "In getCandidate question is A marble is dropped in a glass of water . magnetism pulls the marble to the bottom of the glass ."
       ]
      },
      {
       "output_type": "stream",
       "stream": "stdout",
       "text": [
        "\n",
        "In getCandidate question is A marble is dropped in a glass of water . electricity pulls the marble to the bottom of the glass ."
       ]
      },
      {
       "output_type": "stream",
       "stream": "stdout",
       "text": [
        "\n",
        "In getCandidate question is A marble is dropped in a glass of water . friction pulls the marble to the bottom of the glass ."
       ]
      },
      {
       "output_type": "stream",
       "stream": "stdout",
       "text": [
        "\n",
        "[('A dog is living;920', 1), ('Eventually, the particles that are being moved by water, wind, and/or gravity will stop moving;830', 2), ('A force is a push or pull;587', 2), ('A hurricane can exist for many days as it moves across water and land;749', 2), ('This is because the water vapor in the air came in contact with the cool glass;793', 2), ('The water vapor cooled and changed from its gaseous state to a liquid state (droplets) on your glass;794', 2), ('After a few minutes water droplets appeared on the outside of your glass;792', 2), ('In a glass of water that contains ice cubes we find two phases of matter: liquid and solid;1066', 2), ('The force that pulls objects toward the Earth is gravity;1166', 2), ('A push or a pull is called a force;1097', 2), ('Think back to a hot summer day, when you poured yourself a glass of cold water and took it outside;791', 2), ('A plant that lives in the desert might have a large root system to find water deep within the ground;963', 2)]"
       ]
      },
      {
       "output_type": "stream",
       "stream": "stdout",
       "text": [
        "\n",
        "best answer is: ---\n"
       ]
      },
      {
       "output_type": "stream",
       "stream": "stdout",
       "text": [
        "A marble is dropped in a glass of water . electricity pulls the marble to the bottom of the glass . [10.5, 0, 0, 0] [56.627195378429484, 56.119258870492978, 74.821075952929803, 66.462457971000092]\n",
        "---------------------------------------------\n",
        "In getCandidate question is sense of smell helps a fox find food .\n",
        "In getCandidate question is pointed teeth helps a fox find food ."
       ]
      },
      {
       "output_type": "stream",
       "stream": "stdout",
       "text": [
        "\n",
        "In getCandidate question is a thick fur helps a fox find food ."
       ]
      },
      {
       "output_type": "stream",
       "stream": "stdout",
       "text": [
        "\n",
        "In getCandidate question is a long tail helps a fox find food ."
       ]
      },
      {
       "output_type": "stream",
       "stream": "stdout",
       "text": [
        "\n",
        "[('They take food into their mouth, where the teeth and tongue break up the food into smaller pieces so t hat it can be swallowed;150', 2), ('Birds have wings that are long and angled to help them fly;1001', 2), ('Lobsters and crabs protect themselves with their claws, turtles have shells, porcupines have spines, birds use their feathers, and others have fur or scales to help protect them from predators;195', 2), ('Brushing our teeth removes the food and helps keep them strong;352', 3), ('These colors and smells attract birds and insects to visit them and help with the reproduction process;109', 2), ('A beak helps the bird capture and take in food;243', 2), ('Animals take in food as a nutrient to give them energy and help them grow;50', 2), ('Some animals grow thick fur in winter to stay warm;986', 8), ('Animals need to move around to find shelter and food;173', 2), ('Elephants have long trunks that enable them to grab food and drink water;246', 2), ('When some animals prepare for the long winters by storing food and going dormant it is called hibernation;1190', 2), ('All animals need to sense their surroundings, respond to environmental changes, know where and how to find food, care for their young, and many other things;176', 3), ('All animals need to sense their surroundings, respond to environmental changes, know where and how to find food, care for their young, and many other things;176', 2), ('Body fat is a form of stored energy and helps animals get through long periods of time with little food;219', 2), ('If they find new homes, the animals could have difficulty finding food, could be in danger of predators, or might not adapt to the new environment;449', 2), (\"Think of a lion's golden fur, which helps it blend into the desert landscape;198\", 2), ('Tiny hairs and nerves in our nose sense different smells and send them to the brain so that we can decide if it is a familiar scent or a new one;190', 2), ('Some animals gather food in preparation for the long winter;220', 2), ('Brushing our teeth removes the food and helps keep them strong;352', 2), ('Animals need to move so that they can find a safe place for shelter, find food, and escape predators (enemies);194', 2), (\"You can observe an orange's odor with your sense of smell;1142\", 8), ('Ways that animals respond to changes in their environment, such as seasonal changes include hibernation, migration, growing thick fur, or shivering;983', 8), ('Our teeth build up food throughout the day and overnight while we sleep;351', 2), ('Body fat is a form of stored energy and helps animals get through long periods of time with little food;219', 3)]"
       ]
      },
      {
       "output_type": "stream",
       "stream": "stdout",
       "text": [
        "\n",
        "best answer is: ---\n"
       ]
      },
      {
       "output_type": "stream",
       "stream": "stdout",
       "text": [
        "sense of smell helps a fox find food . [13.0, 1.5, 13.0, 6.5] [2.7644292249027629, 1.5006280431452146, 2.222039068055301, 1.9999570393717694]\n",
        "---------------------------------------------\n",
        "In getCandidate question is growth causes the leaves of a plant to become larger .\n",
        "In getCandidate question is germination causes the leaves of a plant to become larger ."
       ]
      },
      {
       "output_type": "stream",
       "stream": "stdout",
       "text": [
        "\n",
        "In getCandidate question is repair causes the leaves of a plant to become larger ."
       ]
      },
      {
       "output_type": "stream",
       "stream": "stdout",
       "text": [
        "\n",
        "In getCandidate question is decomposition causes the leaves of a plant to become larger ."
       ]
      },
      {
       "output_type": "stream",
       "stream": "stdout",
       "text": [
        "\n",
        "[('They help in plant growth;427', 5), ('Animals that eat plants for food may in turn become food for other animals;417', 2), ('Inherited traits for a plant are flower color, leaf shape, seed shape and color, and overall plant height;306', 2), ('While we sleep our body gives the cells time to grow and repair;384', 4), ('An example of a plant responding to a change in its environment is leaves falling off trees in fall;968', 2), ('All animals have different structures that have different jobs or functions to help with growth, survival, and reproduction;191', 4), ('All living things have specific patterns of reproduction, growth, and development that are called stages in its life cycle;261', 4), ('Photosynthesis takes place in the leaves of the plant;1178', 2), ('The process by which a plant increases in size is known as growth;971', 5), ('The leaves contain chlorophyll and are able to move toward the sun to collect light for the plant to perform photosynthesis;952', 2), ('The leaves are the part of the plant that is responsible for making food;1186', 2), ('The leaves of the plant absorb sunlight;947', 2), ('Nutrients are necessary for growth and energy;13', 4), ('The leaves of the plants take in carbon dioxide from the environment;84', 2), ('All living things are constantly going through some form of growth and repair;281', 4), ('Each kind of plant goes through its own stages of growth and development, which includes seed, young plant (or seedling), and mature plant;134', 5), ('There are four major parts of a plant: roots, stem, leaves, and flower;91', 2), (\"The best instrument to measure the growth of a plant's stem is a ruler;1150\", 5), ('It is important to take in the proper foods and nutrients everyday so that your body. can grow, have energy, and repair itself;368', 4), ('This healing is done by the body growing new bone cells to repair the break;287', 4), ('Seeds contain stored food that aids in germination (sprouting) and the growth of new young plants;123', 5), ('All animals have different structures that have different jobs or functions to help in growth, survival, and reproduction;982', 4), ('The leaves of the plant absorb carbon dioxide;945', 2)]"
       ]
      },
      {
       "output_type": "stream",
       "stream": "stdout",
       "text": [
        "\n",
        "best answer is: ---\n"
       ]
      },
      {
       "output_type": "stream",
       "stream": "stdout",
       "text": [
        "growth causes the leaves of a plant to become larger . [11.5, 5.5, 6.5, 0] [3.2823738907404847, 3.0948464059581062, 2.2992988692719374, 1.1627484155090191]\n",
        "---------------------------------------------\n",
        "In getCandidate question is a turtle eating worms is an example of taking in nutrients .\n",
        "In getCandidate question is a turtle eating worms is an example of reproducing ."
       ]
      },
      {
       "output_type": "stream",
       "stream": "stdout",
       "text": [
        "\n",
        "In getCandidate question is a turtle eating worms is an example of breathing ."
       ]
      },
      {
       "output_type": "stream",
       "stream": "stdout",
       "text": [
        "\n",
        "In getCandidate question is a turtle eating worms is an example of eliminating waste ."
       ]
      },
      {
       "output_type": "stream",
       "stream": "stdout",
       "text": [
        "\n",
        "[('For example, when it is winter in the northern hemisphere the southern hemisphere experiences summer;774', 1), ('Plants get their nutrients from the soil, which helps them grow and perform photosynthesis;51', 1), ('The digested food then moves into the intestine where the nutrients are absorbed into the blood;152', 1), ('Fecal wastes are made from unused foods that an animal has eaten;918', 1), ('The average life span of a turtle is 100 years;278', 1), (\"The main function of a turtle's shell is to protect the turtle;1154\", 1), ('An example of the transfer of chemical energy to electrical energy is between battery and light bulb;1188', 1), ('A snowball melting in your hand is an example of heat energy;1081', 1), ('Plants need air, water, nutrients, and light to grow and survive;925', 1), ('For example, a pie graph can be used to show the percentage of students in each grade in a high school;905', 1), ('All organisms have variations, and because of these variations, individuals of a species may have an advantage in surviving and reproducing;249', 4), ('Decomposers are living things that break down dead organisms and recycle their nutrients into the soil;426', 1), ('The stem is the pathway of water and nutrients from the roots to the leaves;949', 1), ('Recycling and reusing papers, plastics, and metals to reduce the amount of waste in landfills;471', 1), ('All living things do some type of breathing;53', 4), ('Animals get rid of their gaseous waste by exhaling carbon dioxide through their mouth and nose;70', 1), ('We do this by breathing;158', 4), ('The waste leaves the body in the form of feces;68', 1), ('Growth, taking in nutrients, breathing, and reproduction are the life processes of all living things;1187', 2), ('Animals take in air by breathing;7', 4), ('The urinary system is responsible for getting rid of chemical waste and water;980', 1), ('Growth, taking in nutrients, breathing, and reproduction are the life processes of all living things;1187', 4), ('Heat, electric, sound, chemical, mechanical, and light are all examples of different forms of energy;528', 1), ('Drinking alcohol and/or taking illicit (not prescribed ) drugs are also very harmful to your body;363', 1), ('A car engine is an example of chemical energy changing to mechanical energy;1088', 1), ('Some examples are the frog, beetle, and ladybug;266', 1), ('The respiratory system is responsible for breathing;973', 4)]"
       ]
      },
      {
       "output_type": "stream",
       "stream": "stdout",
       "text": [
        "\n",
        "best answer is: ---\n"
       ]
      },
      {
       "output_type": "stream",
       "stream": "stdout",
       "text": [
        "a turtle eating worms is an example of taking in nutrients . [13.0, 6.5, 6.5, 0] [2.9515670116296953, 1.7076799110261289, 2.1361079794616669, 1.8336123174343282]\n",
        "---------------------------------------------\n",
        "In getCandidate question is the main function of a duck 's webbed feet is to help the duck protect itself .\n",
        "In getCandidate question is the main function of a duck 's webbed feet is to help the duck find a mate ."
       ]
      },
      {
       "output_type": "stream",
       "stream": "stdout",
       "text": [
        "\n",
        "In getCandidate question is the main function of a duck 's webbed feet is to help the duck swim in water ."
       ]
      },
      {
       "output_type": "stream",
       "stream": "stdout",
       "text": [
        "\n",
        "In getCandidate question is the main function of a duck 's webbed feet is to help the duck make noise ."
       ]
      },
      {
       "output_type": "stream",
       "stream": "stdout",
       "text": [
        "\n",
        "[('Often the force we need in order to do the work is too much for one person and we need help;623', 1), ('All animals have different structures that have different jobs or functions to help in growth, survival, and reproduction;982', 2), ('The water that falls can be in liquid form, such as rain, or in solid form, such as snow;796', 1), ('Plants get their nutrients from the soil, which helps them grow and perform photosynthesis;51', 1), ('Brushing our teeth removes the food and helps keep them strong;352', 1), ('To help make more detailed observations scientists often use tools;843', 2), ('In a glass of water that contains ice cubes we find two phases of matter: liquid and solid;1066', 1), ('Gloves protect hands/skin from harm;891', 4), ('A fish has a flipper or fin that helps them swim;1000', 2), ('We call this camouflage, which helps protect the animal from enemies;197', 5), ('Lobsters and crabs protect themselves with their claws, turtles have shells, porcupines have spines, birds use their feathers, and others have fur or scales to help protect them from predators;195', 5), ('This helps to regulate their body heat;217', 1), ('A defense mechanism is a way in which animals protect themselves;1011', 4), ('Thorns on stems to protect the plant from being eaten;126', 4), ('Leaves and stems develop tough outer coatings to protect the plant from the environment;130', 4), ('All animals have different structures that have different jobs or functions to help with growth, survival, and reproduction;191', 2), (\"The main function of a turtle's shell is to protect the turtle;1154\", 2), ('In addition to food, shelter, and energy, humans manufacture (produce) goods that make life more comfortable;458', 1), ('Each organ system has a specific function that helps the organism to survive;147', 2), ('Plants need water, light, air, and food to survive;960', 1), ('Because of their size, elephants move very slowly, so having good hearing helps protect them from predators;248', 5), (\"The main function of a turtle's shell is to protect the turtle;1154\", 6), ('These smells and sounds can attract other animals so that they can mate or they can help them fight an enemy;202', 2), ('Frogs are able to swim with the help of a tail during the tadpole phase;1006', 2), ('This is how they protect themselves;204', 4), ('Some animals protect themselves by sending o ut special sounds or smells, which is another type of defense mechanism;201', 4)]"
       ]
      },
      {
       "output_type": "stream",
       "stream": "stdout",
       "text": [
        "\n",
        "best answer is: ---\n"
       ]
      },
      {
       "output_type": "stream",
       "stream": "stdout",
       "text": [
        "the main function of a duck 's webbed feet is to help the duck protect itself . [16.5, 5, 5.5, 6.5] [2.5124969225647975, 1.861360194204392, 1.8887230693280894, 1.930140856499363]\n",
        "---------------------------------------------\n",
        "In getCandidate question is one way animals usually respond to a sudden drop in temperature is by shivering .\n",
        "In getCandidate question is one way animals usually respond to a sudden drop in temperature is by sweating ."
       ]
      },
      {
       "output_type": "stream",
       "stream": "stdout",
       "text": [
        "\n",
        "In getCandidate question is one way animals usually respond to a sudden drop in temperature is by salivating ."
       ]
      },
      {
       "output_type": "stream",
       "stream": "stdout",
       "text": [
        "\n",
        "In getCandidate question is one way animals usually respond to a sudden drop in temperature is by blinking ."
       ]
      },
      {
       "output_type": "stream",
       "stream": "stdout",
       "text": [
        "\n",
        "[('Behavior is the way that organisms respond to changes in their environment or to a stimulus;205', 2), ('Once the outside temperature drops below the freezing point of water it is more likely that the precipitation will be in the form of snow;732', 2), ('Ways that animals respond to changes in their environment, such as seasonal changes include hibernation, migration, growing thick fur, or shivering;983', 2), ('Moving to a warmer climate in the cold months is another way some animals deal with changes in the weather;227', 2), ('Plants and animals interact in a number of ways that affect their survival;396', 2), ('Ways that animals respond to changes in their environment, such as seasonal changes include hibernation, migration, growing thick fur, or shivering;983', 6), ('The seeds can also be distributed in a variety of ways that can include wind, water, and animals;122', 2), ('Some animals are born as one type of organism and as they grow they go into a changing stage called metamorphosis;265', 2), ('A defense mechanism is a way in which animals protect themselves;1011', 2), ('All over the skin there are tiny spots that feel things and transmit texture, temperature, and other characteristics to the brain by way of the nerves;188', 2), ('He or she usually gives the temperature, sky conditions, and precipitation;741', 2)]"
       ]
      },
      {
       "output_type": "stream",
       "stream": "stdout",
       "text": [
        "\n",
        "best answer is: ---\n"
       ]
      },
      {
       "output_type": "stream",
       "stream": "stdout",
       "text": [
        "one way animals usually respond to a sudden drop in temperature is by shivering . [9.5, 0, 0, 5] [2.519818132673818, 1.8115916432207912, 1.8028948878893725, 2.1293034362927785]\n",
        "---------------------------------------------\n",
        "In getCandidate question is A student puts two identical plants in the same type and amount of soil . She gives them the same amount of water . She puts one of these plants near a sunny window and the other in a dark room . this experiment tests how the plants respond to light .\n",
        "In getCandidate question is A student puts two identical plants in the same type and amount of soil . She gives them the same amount of water . She puts one of these plants near a sunny window and the other in a dark room . this experiment tests how the plants respond to soil ."
       ]
      },
      {
       "output_type": "stream",
       "stream": "stdout",
       "text": [
        "\n",
        "In getCandidate question is A student puts two identical plants in the same type and amount of soil . She gives them the same amount of water . She puts one of these plants near a sunny window and the other in a dark room . this experiment tests how the plants respond to water ."
       ]
      },
      {
       "output_type": "stream",
       "stream": "stdout",
       "text": [
        "\n",
        "In getCandidate question is A student puts two identical plants in the same type and amount of soil . She gives them the same amount of water . She puts one of these plants near a sunny window and the other in a dark room . this experiment tests how the plants respond to air ."
       ]
      },
      {
       "output_type": "stream",
       "stream": "stdout",
       "text": [
        "\n",
        "[('If, however, you were to try and put the two north ends of two different magnets together you would feel the force that causes the magnets to be repelled (pushed away) from one another;611', 3), ('Roots secure the plant in the soil and bring in water and nutrients for survival;965', 3), ('When one of the wires is not attached, as in the diagram below, the circuit will not be complete and the bulb will not give off light;586', 3), ('Roots absorb water and nutrients from the soil into the plant;95', 3), ('A fruit can be found near the seeds of a plant, usually in the flower;962', 3), ('When plants make food, they give off oxygen and water;943', 3), ('The type of air that plants take in and use is carbon dioxide;16', 3), ('Data was put into a chart and the students concluded that the sunflower plants that were exposed to rock music were taller than the plants that were not exposed to any music;877', 3), ('Nutrients from the soil enter the plant through its roots;20', 2), ('In a glass of water that contains ice cubes we find two phases of matter: liquid and solid;1066', 2), ('A plant that lives in the desert might have a large root system to find water deep within the ground;963', 3), ('Photosynthesis is a process by which plants make their own food and give off oxygen and water that they are not using;80', 3)]"
       ]
      },
      {
       "output_type": "stream",
       "stream": "stdout",
       "text": [
        "\n",
        "best answer is: ---\n"
       ]
      },
      {
       "output_type": "stream",
       "stream": "stdout",
       "text": [
        "A student puts two identical plants in the same type and amount of soil . She gives them the same amount of water . She puts one of these plants near a sunny window and the other in a dark room . this experiment tests how the plants respond to air . [10.5, 10, 10, 16.5] [2.0037428667900956, 1.8657458239821474, 1.8657458239821474, 2.7989945706508967]\n",
        "---------------------------------------------\n",
        "In getCandidate question is polluting most often has a harmful effect on the environment .\n",
        "In getCandidate question is growing most often has a harmful effect on the environment ."
       ]
      },
      {
       "output_type": "stream",
       "stream": "stdout",
       "text": [
        "\n",
        "In getCandidate question is planting most often has a harmful effect on the environment ."
       ]
      },
      {
       "output_type": "stream",
       "stream": "stdout",
       "text": [
        "\n",
        "In getCandidate question is breathing most often has a harmful effect on the environment ."
       ]
      },
      {
       "output_type": "stream",
       "stream": "stdout",
       "text": [
        "\n",
        "[('Humans have also changed the environment by cultivating (growing) crops and raising animals;454', 5), ('The type of environment they live in and various environment al factors can have a direct effect on organisms;268', 2), ('This is their way of growing and changing;44', 4), ('Humans have changed their environment by developing communities in areas where living things had to struggle to survive;464', 1), ('Plants can also break down rocks by the action of their roots, which are constantly growing to secure the plant and seek water;814', 4), ('This is why you need to wash your hands often to remove any harmful germs;348', 2), ('Cigarettes are harmful to the human body;1193', 1), ('Ways that animals respond to changes in their environment, such as seasonal changes include hibernation, migration, growing thick fur, or shivering;983', 5), ('This happens because your body is always growing and making new skin cells;290', 4), ('All living things do some type of breathing;53', 4), ('Water in the gaseous phase is often called water vapor or steam;779', 1), ('The way that humans treat the environment has a large effect on the survival of all living and nonliving things;446', 2), ('These storms/conditions can have a harmful effect on the areas involved;759', 2), ('We do this by breathing;158', 4), ('Building homes, stores, factories, growing food crops, and pollution are some causes of ecosystem failure;403', 4), ('Humans can help save their environment by recycling, planting trees, preventing litter, limiting use of cars, creating new forms of energy, and conserving energy;1063', 5), ('Humans are dependent upon the environment for food, shelter, and energy;431', 1), ('When young the overall body is growing and developing;282', 4), ('Growth, taking in nutrients, breathing, and reproduction are the life processes of all living things;1187', 4), ('This waste, when mixed into the soil, can be very helpful to growing plants;69', 4), ('The respiratory system is responsible for breathing;973', 4), ('This healing is done by the body growing new bone cells to repair the break;287', 4), ('Plants also take in carbon dioxide from the environment and return oxygen to the air for animals to use;392', 1), ('Animals take in air by breathing;7', 4), ('The body needs to be cleaned regularly to prevent germs and bacteria from growing and making us sick;349', 4), ('When a new community is built in the desert, humans may bring in plants that are not familiar to that environment;465', 1)]"
       ]
      },
      {
       "output_type": "stream",
       "stream": "stdout",
       "text": [
        "\n",
        "best answer is: ---\n"
       ]
      },
      {
       "output_type": "stream",
       "stream": "stdout",
       "text": [
        "planting most often has a harmful effect on the environment . [0, 6.5, 6.5, 6.5] [1.293465114881553, 2.4595211013294476, 2.6897133593422646, 2.2516996167289669]\n",
        "---------------------------------------------\n",
        "In getCandidate question is in New York State , the shortest period of daylight occurs during December .\n",
        "In getCandidate question is in New York State , the shortest period of daylight occurs during March ."
       ]
      },
      {
       "output_type": "stream",
       "stream": "stdout",
       "text": [
        "\n",
        "In getCandidate question is in New York State , the shortest period of daylight occurs during September ."
       ]
      },
      {
       "output_type": "stream",
       "stream": "stdout",
       "text": [
        "\n",
        "In getCandidate question is in New York State , the shortest period of daylight occurs during June ."
       ]
      },
      {
       "output_type": "stream",
       "stream": "stdout",
       "text": [
        "\n",
        "[('The shortest period of daylight hours occurs at the beginning of Winter;771', 4), ('A mountain is a nonliving thing that occurs in nature;912', 1), ('Spring lasts from March 20 to June 19;669', 1), ('A southwest wind would bring warm air to New York from the south, but a northeast wind would most likely bring cold, wet winds;714', 2), ('A solar eclipse occurs when the moon comes between the sun and the Earth;694', 1), ('The longest period of daylight hours occurs at the beginning of Summer;767', 3), ('The shortest number of daylight hours in New York State occurs during December;1103', 6), ('Each season that occurs in New York state experiences specific climate conditions;763', 3), ('The shortest number of daylight hours in New York State occurs during December;1103', 19), ('The Grand Canyon in Arizona was created by the flow of the Colorado River over a long period of time;819', 1), ('Fall lasts from September 22 to December 22;671', 1), ('In the northern hemisphere, where New York State is located, the seasons are divided as follows:;667', 3)]"
       ]
      },
      {
       "output_type": "stream",
       "stream": "stdout",
       "text": [
        "\n",
        "best answer is: ---\n",
        "in New York State , the shortest period of daylight occurs during December . [25.5, 13, 13, 13] [2.4386620241909638, 1.9031013808252175, 1.901897924684872, 1.901897924684872]\n",
        "---------------------------------------------\n",
        "In getCandidate question is in New York State , the longest period of daylight occurs during March .\n",
        "In getCandidate question is in New York State , the longest period of daylight occurs during June ."
       ]
      },
      {
       "output_type": "stream",
       "stream": "stdout",
       "text": [
        "\n",
        "In getCandidate question is in New York State , the longest period of daylight occurs during December ."
       ]
      },
      {
       "output_type": "stream",
       "stream": "stdout",
       "text": [
        "\n",
        "In getCandidate question is in New York State , the longest period of daylight occurs during September ."
       ]
      },
      {
       "output_type": "stream",
       "stream": "stdout",
       "text": [
        "\n",
        "[('The shortest number of daylight hours in New York State occurs during December;1103', 5), ('A mountain is a nonliving thing that occurs in nature;912', 1), ('The shortest number of daylight hours in New York State occurs during December;1103', 18), ('Spring lasts from March 20 to June 19;669', 1), ('A southwest wind would bring warm air to New York from the south, but a northeast wind would most likely bring cold, wet winds;714', 2), ('A solar eclipse occurs when the moon comes between the sun and the Earth;694', 1), ('The Grand Canyon in Arizona was created by the flow of the Colorado River over a long period of time;819', 1), ('Each season that occurs in New York state experiences specific climate conditions;763', 3), ('The longest period of daylight hours occurs at the beginning of Summer;767', 4), ('The shortest period of daylight hours occurs at the beginning of Winter;771', 3), ('Fall lasts from September 22 to December 22;671', 1), ('In the northern hemisphere, where New York State is located, the seasons are divided as follows:;667', 3)]"
       ]
      },
      {
       "output_type": "stream",
       "stream": "stdout",
       "text": [
        "\n",
        "best answer is: ---\n",
        "in New York State , the longest period of daylight occurs during December . [7, 7, 19.5, 7] [1.9031013808252175, 1.901897924684872, 2.4386620241909638, 1.901897924684872]\n",
        "---------------------------------------------\n",
        "In getCandidate question is sleet , rain , snow , and hail are forms of precipitation .\n",
        "In getCandidate question is sleet , rain , snow , and hail are forms of evaporation ."
       ]
      },
      {
       "output_type": "stream",
       "stream": "stdout",
       "text": [
        "\n",
        "In getCandidate question is sleet , rain , snow , and hail are forms of groundwater ."
       ]
      },
      {
       "output_type": "stream",
       "stream": "stdout",
       "text": [
        "\n",
        "In getCandidate question is sleet , rain , snow , and hail are forms of erosion ."
       ]
      },
      {
       "output_type": "stream",
       "stream": "stdout",
       "text": [
        "\n",
        "[('Once the outside temperature drops below the freezing point of water it is more likely that the precipitation will be in the form of snow;732', 2), ('The water that falls can be in liquid form, such as rain, or in solid form, such as snow;796', 3), ('Different forms of precipitation include:;724', 5), ('Examples of erosion include:;823', 4), ('Water from the oceans enters the atmosphere through evaporation;1132', 4), ('In everyday life different forms of energy interact with matter;549', 1), ('Examples of precipitation include rain, snow, sleet, and hail;797', 4), ('Fog is not a form of precipitation;1128', 5), ('Rocks are weathered, broken down, and then carried away through the action of erosion;829', 4), ('When the ground absorbs the water and it settles below the surface it is called groundwater;805', 4), ('Snow and rain are forms of precipitation;1153', 6), ('When liquid water changes to water vapor it is called evaporation;1129', 4), ('Fog is not a form of precipitation;1128', 1), ('Sleet is freezing rain falling from the sky;726', 1), ('Hail is a form of precipitation;1180', 5), ('When the humidity reaches 100 percent it is very likely that some form of precipitation will occur, depending on the temperature;735', 5), ('Examples of precipitation include rain, snow, sleet, and hail;797', 8), ('Weathering, erosion, and deposition result from the interactions between air, land, and water;806', 4), ('Snow and rain are forms of precipitation;1153', 2), ('Liquid water changing to water vapor is evaporation;1119', 4), ('Snow is a form of precipitation;1115', 5), ('When the molecules become too heavy to stay in the air they fall to the ground in the form of precipitation;1135', 5), ('The processes of weathering and erosion change the landscape of the Earth on a daily basis;807', 4), ('Imagine the puddles that form on your street after a heavy rain;785', 2), ('Once the outside temperature drops below the freezing point of water it is more likely that the precipitation will be in the form of snow;732', 6), ('Different forms of precipitation include:;724', 1), ('Water, wind, and gravity are all forces involved in erosion;822', 4), ('The processes of weathering and erosion work together over time;828', 4), ('Sometimes the precipitation happens too quickly and the ground cannot absorb all of the water;802', 4)]"
       ]
      },
      {
       "output_type": "stream",
       "stream": "stdout",
       "text": [
        "\n",
        "best answer is: ---\n"
       ]
      },
      {
       "output_type": "stream",
       "stream": "stdout",
       "text": [
        "sleet , rain , snow , and hail are forms of precipitation . [6.5, 6.5, 6.5, 6.5] [inf, inf, inf, inf]\n",
        "---------------------------------------------\n",
        "In getCandidate question is water freezing is an example of a liquid changing to a solid .\n",
        "In getCandidate question is water freezing is an example of a solid changing to a liquid ."
       ]
      },
      {
       "output_type": "stream",
       "stream": "stdout",
       "text": [
        "\n",
        "In getCandidate question is water freezing is an example of a gas changing to a liquid ."
       ]
      },
      {
       "output_type": "stream",
       "stream": "stdout",
       "text": [
        "\n",
        "In getCandidate question is water freezing is an example of a gas changing to a solid ."
       ]
      },
      {
       "output_type": "stream",
       "stream": "stdout",
       "text": [
        "\n",
        "[('Ice changing to liquid water is called melting;1118', 2), ('The water that falls can be in liquid form, such as rain, or in solid form, such as snow;796', 3), ('Snow is solid water falling from the sky;727', 2), ('Water vapor changing to liquid water is condensation;1120', 3), ('Freezing involves changing water from its liquid state to its solid state (ice) by the removal of heat;782', 13), ('Melting is the opposite of freezing and involves changing water from its solid state (ice) to a liquid state by the addition of heat;783', 14), ('In a glass of water that contains ice cubes we find two phases of matter: liquid and solid;1066', 3), ('Freezing involves changing water from its liquid state to its solid state (ice) by the removal of heat;782', 3), ('Water in the liquid phase is called water;778', 2), ('Ice changing to liquid water is called melting;1118', 3), ('Water is found in nature as a solid, liquid, and gas;1173', 2), ('The water that falls can be in liquid form, such as rain, or in solid form, such as snow;796', 2), ('Melting is the opposite of freezing and involves changing water from its solid state (ice) to a liquid state by the addition of heat;783', 4), ('Liquid water changing to ice is called freezing;1121', 3), ('Condensation involves changing water from its gaseous state (vapor) to its liquid state;790', 3), ('Rain can occur anytime during the year as long as the outside temperature is above the freezing point of water;731', 2), ('In a glass of water that contains ice cubes we find two phases of matter: liquid and solid;1066', 2), ('Matter exists in three phases: solid, liquid, and gas;482', 2), ('Evaporation involves changing water from its liquid state to a gaseous state (vapor);784', 3)]"
       ]
      },
      {
       "output_type": "stream",
       "stream": "stdout",
       "text": [
        "\n",
        "best answer is: ---\n"
       ]
      },
      {
       "output_type": "stream",
       "stream": "stdout",
       "text": [
        "water freezing is an example of a liquid changing to a solid . [14.5, 14.5, 8.5, 8.0] [2.4627533280939202, 2.4627533280939202, 1.7695840279851023, 1.7196331907151468]\n",
        "---------------------------------------------\n",
        "In getCandidate question is heat is needed to change water from a liquid to a gas .\n",
        "In getCandidate question is chemical energy is needed to change water from a liquid to a gas ."
       ]
      },
      {
       "output_type": "stream",
       "stream": "stdout",
       "text": [
        "\n",
        "In getCandidate question is sound is needed to change water from a liquid to a gas ."
       ]
      },
      {
       "output_type": "stream",
       "stream": "stdout",
       "text": [
        "\n",
        "In getCandidate question is mechanical energy is needed to change water from a liquid to a gas ."
       ]
      },
      {
       "output_type": "stream",
       "stream": "stdout",
       "text": [
        "\n",
        "[('Freezing involves changing water from its liquid state to its solid state (ice) by the removal of heat;782', 6), ('Changes in the weather, too much rainfall, and severe cold or heat affect plants and animals;407', 4), ('A car engine is an example of chemical energy changing to mechanical energy;1088', 5), ('Chemical energy is energy that is released when a chemical reaction takes place;533', 5), ('The ashes are chemically different from the paper so this is considered a chemical change;514', 5), ('The energy from the sun heated the water and caused it to evaporate - change from liquid water to water vapor;788', 4), ('Magnetic energy changes to mechanical energy in a magnetic door latch;566', 6), ('Water vapor is changed to liquid water by removing heat;1123', 6), ('Banging a drum is an example of mechanical energy;1082', 5), ('Just as we can describe physical and chemical properties of matter we can describe the physical and chemical changes to matter;499', 5), ('The blood takes the chemical waste and excess water to the kidneys where it is collected and sent to the bladder until the body excretes it as urine;172', 5), ('A battery is an example of chemical energy changing to electrical energy;1085', 5), ('Pounding a fist on a table is an example of mechanical energy changing to to sound energy;1083', 4), ('Fossil fuels like oil and natural gas are used to heat our homes and power factories to make items that we purchase;442', 5), ('The urinary system is responsible for getting rid of chemical waste and water;980', 5), ('A blender is an example of electrical energy changing to mechanical energy;1087', 5), ('Heat changes to sound in a tea kettle;560', 5), ('Electrical energy changes to mechanical energy in a food mixer;562', 6), ('Mechanical energy changes to heat in bicycle brakes;558', 5), ('Liquid water is changed to water vapor by adding heat;1122', 5), ('Pounding a fist on a table is an example of mechanical energy changing to to sound energy;1083', 5), ('Chemical energy changes to mechanical energy in a gasoline engine;565', 6), ('Mechanical energy changes to sound energy by playing a musical instrument;555', 5), ('Mechanical energy changes to sound energy by clapping your hands together;553', 5), ('Melting is the opposite of freezing and involves changing water from its solid state (ice) to a liquid state by the addition of heat;783', 6), ('Electrical energy changes to sound in a radio speaker;563', 5), ('This helps to regulate their body heat;217', 4), ('Heat, electric, sound, chemical, mechanical, and light are all examples of different forms of energy;528', 4), ('Electrical energy changes to sound energy in a door buzzer;554', 5), ('Melting of ice is a physical change, not a chemical change;1077', 5), ('The energy transformation that occurs when you ring a door bell is electrical energy to sound;1091', 4), ('Playing a guitar is an example of mechanical energy changing to sound energy;1086', 5), ('The health, growth, and development of organisms are affected by environmental conditions such as the availability of food, air, water, space, shelter, heat, and sunlight;279', 5), ('Heat, electric, sound, chemical, mechanical, and light are all examples of different forms of energy;528', 5), ('A snowball melting in your hand is an example of heat energy;1081', 4), ('Physical properties include: color, hardness, odor, sound, taste, texture, and size;495', 4), ('Mechanical energy changes to sound in a piano;559', 5), ('An example of the transfer of chemical energy to electrical energy is between battery and light bulb;1188', 5)]"
       ]
      },
      {
       "output_type": "stream",
       "stream": "stdout",
       "text": [
        "\n",
        "best answer is: ---\n"
       ]
      },
      {
       "output_type": "stream",
       "stream": "stdout",
       "text": [
        "chemical energy is needed to change water from a liquid to a gas . [10.5, 11.5, 6.5, 6.5] [2.6154782123628895, 2.7047567041828566, 1.7279003534166741, 1.7322303361254845]\n",
        "---------------------------------------------\n",
        "In getCandidate question is a person does use mechanical energy to pedal a bicycle .\n",
        "In getCandidate question is a person does use electrical energy to pedal a bicycle ."
       ]
      },
      {
       "output_type": "stream",
       "stream": "stdout",
       "text": [
        "\n",
        "In getCandidate question is a person does use sound to pedal a bicycle ."
       ]
      },
      {
       "output_type": "stream",
       "stream": "stdout",
       "text": [
        "\n",
        "In getCandidate question is a person does use light to pedal a bicycle ."
       ]
      },
      {
       "output_type": "stream",
       "stream": "stdout",
       "text": [
        "\n",
        "[('The simplest way to observe matter is to use your senses: sight, sound, taste, touch, and hearing;486', 5), ('If the living organism does not get the air, water, food, nutrients, or light it needs to survive it will die;24', 4), ('The energy transformation that occurs when you ring a door bell is electrical energy to sound;1091', 5), (\"We are able to see the moon in the sky because the sun's light is reflected off of the moon;1102\", 4), ('The amount of energy transferred during a flow of electrical energy depends on the energy source and the properties of the object;577', 5), ('Oxygen allows the animal to make and use energy, which it needs to survive;9', 2), ('When you turn on your television, electrical energy is transferred into sound and light energy;1175', 5), ('An example of the transfer of chemical energy to electrical energy is between battery and light bulb;1188', 5), ('A complete circuit allows electrical energy to flow;576', 5), ('The leaves contain chlorophyll and are able to move toward the sun to collect light for the plant to perform photosynthesis;952', 4), ('Heat, electric, sound, chemical, mechanical, and light are all examples of different forms of energy;528', 5), ('The moon does not give off its own light;676', 4), ('Plants need air, water, nutrients, and light to grow and survive;925', 4), ('Plants need water, light, air, and food to survive;960', 4), ('Playing a guitar is an example of mechanical energy changing to sound energy;1086', 4), ('Pounding a fist on a table is an example of mechanical energy changing to to sound energy;1083', 4), ('Heat, electric, sound, chemical, mechanical, and light are all examples of different forms of energy;528', 4), ('A blender is an example of electrical energy changing to mechanical energy;1087', 5), ('Mechanical energy changes to sound in a piano;559', 4), ('Plants need light to survive;932', 4), ('Banging a drum is an example of mechanical energy;1082', 5), ('An example of the transfer of chemical energy to electrical energy is between battery and light bulb;1188', 4), ('Plants need air, water, nutrients, and light to live and survive;14', 4), ('Light energy changes to electrical energy in a solar calculator;552', 5), ('A car engine is an example of chemical energy changing to mechanical energy;1088', 5), ('Chemical energy changes to electrical energy in a battery;564', 5), ('Drying clothes in a clothes dryer is an example of electrical energy changing to heat energy;1084', 5), ('Chemical energy changes to mechanical energy in a gasoline engine;565', 5), ('Magnetic energy changes to mechanical energy in a magnetic door latch;566', 5), ('Electrical energy changes to sound energy in a door buzzer;554', 4), ('Playing a guitar is an example of mechanical energy changing to sound energy;1086', 5), ('Heat changes to sound in a tea kettle;560', 4), ('Electrical energy changes to mechanical energy in a food mixer;562', 5), ('Pounding a fist on a table is an example of mechanical energy changing to to sound energy;1083', 5), ('Light changes to electrical energy in solar path lights;567', 5), ('Physical properties include: color, hardness, odor, sound, taste, texture, and size;495', 4), ('The energy transformation that occurs when you ring a door bell is electrical energy to sound;1091', 4), ('Mechanical energy changes to sound energy by playing a musical instrument;555', 4)]"
       ]
      },
      {
       "output_type": "stream",
       "stream": "stdout",
       "text": [
        "\n",
        "best answer is: ---\n"
       ]
      },
      {
       "output_type": "stream",
       "stream": "stdout",
       "text": [
        "a person does use sound to pedal a bicycle . [6.5, 1.5, 11.5, 11.5] [2.0870858537633605, 1.6895925287587543, 2.2365573692082559, 2.2332417445919028]\n",
        "---------------------------------------------\n",
        "In getCandidate question is an iron nail is the best conductor of electricity .\n",
        "In getCandidate question is a rubber eraser is the best conductor of electricity ."
       ]
      },
      {
       "output_type": "stream",
       "stream": "stdout",
       "text": [
        "\n",
        "In getCandidate question is a plastic spoon is the best conductor of electricity ."
       ]
      },
      {
       "output_type": "stream",
       "stream": "stdout",
       "text": [
        "\n",
        "In getCandidate question is a wax crayon is the best conductor of electricity ."
       ]
      },
      {
       "output_type": "stream",
       "stream": "stdout",
       "text": [
        "\n",
        "[('Skiers and surfers often apply wax to their skis and boards in order to make them smoother so they will glide along the surface of the snow or water faster;599', 1), ('This is proven by how their hair and nails continue to grow and need to be maintained;285', 1), ('We can color the paper using crayons or markers;506', 1), ('For example, some metal objects allow heat and electricity to transfer better than do plastic or rubber objects;570', 2), ('This makes them the best type of animal to live in the desert;238', 1), ('The best way to do this, in addition to eating healthfully, exercising, and getting rest is to avoid (do not take or try) harmful substances;357', 1), ('If you were to put a wooden spoon in the same pot and then tried to touch it, the wooden spoon would not be hot;540', 1), ('Roots grow underground;93', 0), ('Iron and steel are more magnetic than wood or plastic;571', 1), (\"The best instrument to measure the growth of a plant's stem is a ruler;1150\", 1), ('The saying, \"survival of the fittest\", means that those who are best adapted will survive over those who are not;233', 1), ('When an object joins two wires and a bulb lights, the object is able to conduct electricity;1169', 1), ('Examples of objects that are attracted by magnet are a staple, an iron nail, and a pin;1099', 8), ('Recycling and reusing papers, plastics, and metals to reduce the amount of waste in landfills;471', 1), ('Have you ever put a metal spoon in a pot that is being heated on the stove and then tried to touch the spoon?;537', 1), ('They researched information to find the best soil, nutrients, and light source needed in order to grow sunflowers;873', 1), ('The best tool to use to measure temperature is a thermometer;1145', 1), ('Your body is like a very delicate machine that needs to be cared for to work and feel its best;343', 1)]"
       ]
      },
      {
       "output_type": "stream",
       "stream": "stdout",
       "text": [
        "\n",
        "best answer is: ---\n"
       ]
      },
      {
       "output_type": "stream",
       "stream": "stdout",
       "text": [
        "an iron nail is the best conductor of electricity . [12.0, 0, 0, 0] [2.3961549757808163, 1.9633670563035355, 1.9650249340402666, 1.8353635535277211]\n",
        "---------------------------------------------\n",
        "In getCandidate question is Base your answers on the information below . One hot , summer day it rained very heavily . After the rain , a plastic pan on a picnic table had 2 cm of rainwater in it . Four hours later , all the rainwater in the pan was gone . evaporation caused the rainwater in the pan to disappear as it sat outside in the hot air .\n",
        "In getCandidate question is Base your answers on the information below . One hot , summer day it rained very heavily . After the rain , a plastic pan on a picnic table had 2 cm of rainwater in it . Four hours later , all the rainwater in the pan was gone . precipitation caused the rainwater in the pan to disappear as it sat outside in the hot air ."
       ]
      },
      {
       "output_type": "stream",
       "stream": "stdout",
       "text": [
        "\n",
        "In getCandidate question is Base your answers on the information below . One hot , summer day it rained very heavily . After the rain , a plastic pan on a picnic table had 2 cm of rainwater in it . Four hours later , all the rainwater in the pan was gone . erosion caused the rainwater in the pan to disappear as it sat outside in the hot air ."
       ]
      },
      {
       "output_type": "stream",
       "stream": "stdout",
       "text": [
        "\n",
        "In getCandidate question is Base your answers on the information below . One hot , summer day it rained very heavily . After the rain , a plastic pan on a picnic table had 2 cm of rainwater in it . Four hours later , all the rainwater in the pan was gone . condensation caused the rainwater in the pan to disappear as it sat outside in the hot air ."
       ]
      },
      {
       "output_type": "stream",
       "stream": "stdout",
       "text": [
        "\n",
        "[('Most severe thunderstorms occur in summer when air is hot and moist;754', 3), ('One hypothesis was that \"Rock music caused sunflowers to grow faster than no music\";874', 2), ('After we inhale the air it moves through a tube called the trachea to the lungs;160', 2), ('1 day equals 24 hours;658', 2), ('Hurricanes have very high winds, over 74 miles per hour, and rain;747', 2), ('After a few minutes water droplets appeared on the outside of your glass;792', 2), ('Think back to a hot summer day, when you poured yourself a glass of cold water and took it outside;791', 4), ('After a few hours or days those puddles disappear;786', 4), ('Temperature is a measure of how hot or cold the air is;719', 2), ('This could be air temperature at different times of the day or the temperature of water as it is heated;899', 2)]"
       ]
      },
      {
       "output_type": "stream",
       "stream": "stdout",
       "text": [
        "\n",
        "best answer is: ---\n"
       ]
      },
      {
       "output_type": "stream",
       "stream": "stdout",
       "text": [
        "Base your answers on the information below . One hot , summer day it rained very heavily . After the rain , a plastic pan on a picnic table had 2 cm of rainwater in it . Four hours later , all the rainwater in the pan was gone . precipitation caused the rainwater in the pan to disappear as it sat outside in the hot air . [3.5, 3.5, 4.5, 4.5] [13.880196536015029, 22.675057873880284, 17.880196536015028, 21.340833723767176]\n",
        "---------------------------------------------\n",
        "In getCandidate question is Base your answers on the information below . One hot , summer day it rained very heavily . After the rain , a plastic pan on a picnic table had 2 cm of rainwater in it . Four hours later , all the rainwater in the pan was gone . if the day were cool instead of hot , the rainwater in the pan would have disappeared in the same amount of time .\n",
        "In getCandidate question is Base your answers on the information below . One hot , summer day it rained very heavily . After the rain , a plastic pan on a picnic table had 2 cm of rainwater in it . Four hours later , all the rainwater in the pan was gone . if the day were cool instead of hot , the rainwater in the pan would have disappeared slower ."
       ]
      },
      {
       "output_type": "stream",
       "stream": "stdout",
       "text": [
        "\n",
        "In getCandidate question is Base your answers on the information below . One hot , summer day it rained very heavily . After the rain , a plastic pan on a picnic table had 2 cm of rainwater in it . Four hours later , all the rainwater in the pan was gone . if the day were cool instead of hot , the rainwater in the pan would have disappeared faster ."
       ]
      },
      {
       "output_type": "stream",
       "stream": "stdout",
       "text": [
        "\n",
        "[('One way to change the paper would be to burn it;512', 2), ('If you were to put a wooden spoon in the same pot and then tried to touch it, the wooden spoon would not be hot;540', 2), ('After a few hours or days those puddles disappear;786', 3), ('Hurricanes have very high winds, over 74 miles per hour, and rain;747', 2), ('1 day equals 24 hours;658', 2), ('One hypothesis was that \"Rock music caused sunflowers to grow faster than no music\";874', 2), ('Recycling and reusing papers, plastics, and metals to reduce the amount of waste in landfills;471', 2), ('Our bodies need time to rest and recover from our busy day;383', 2), ('The amount of rain that falls can be important in areas that need rainwater for everyday use, especially farmers who need rainwater for their crops;716', 2), ('Think back to a hot summer day, when you poured yourself a glass of cold water and took it outside;791', 3), ('Most severe thunderstorms occur in summer when air is hot and moist;754', 2), ('In addition to the information that we can obtain from graphs, data tables also provide us with a great deal of information;906', 2), ('Organisms reproduce an equal amount of genetic information (DNA) from the mother and father;307', 2), ('The amount of rain that falls can be important in areas that need rainwater for everyday use, especially farmers who need rainwater for their crops;716', 3), ('The rate at which rain falls can be measured in inches per hour;718', 2), ('The amount of daylight hours increases throughout Spring;764', 2)]"
       ]
      },
      {
       "output_type": "stream",
       "stream": "stdout",
       "text": [
        "\n",
        "best answer is: ---\n"
       ]
      },
      {
       "output_type": "stream",
       "stream": "stdout",
       "text": [
        "Base your answers on the information below . One hot , summer day it rained very heavily . After the rain , a plastic pan on a picnic table had 2 cm of rainwater in it . Four hours later , all the rainwater in the pan was gone . if the day were cool instead of hot , the rainwater in the pan would have disappeared faster . [1.5, 0, 2] [3.8462856617763843, 1.7693597491475337, 4.5385905183783022]\n",
        "---------------------------------------------\n",
        "In getCandidate question is a human offspring can inherit long hair .\n",
        "In getCandidate question is a human offspring can inherit a facial scar ."
       ]
      },
      {
       "output_type": "stream",
       "stream": "stdout",
       "text": [
        "\n",
        "In getCandidate question is a human offspring can inherit a broken leg ."
       ]
      },
      {
       "output_type": "stream",
       "stream": "stdout",
       "text": [
        "\n",
        "In getCandidate question is a human offspring can inherit blue eyes ."
       ]
      },
      {
       "output_type": "stream",
       "stream": "stdout",
       "text": [
        "\n",
        "[('The way that humans treat the environment has a large effect on the survival of all living and nonliving things;446', 1), ('An offspring grows up to look like its parents;325', 1), ('As humans build homes, stores, and communities they displace the animals that live in those areas;447', 1), ('Energy for humans comes from the foods we eat;521', 1), ('A graph such as this might be used to show the number of students with different eye color for your entire class;903', 1), ('Some traits that can be inherited are color of hair, color of skin, color of eyes, and height;1023', 1), ('For example, if you fall and get a deep cut that leaves a scar, you would not pass the scar to your offspring;337', 2), ('In addition to food, shelter, and energy, humans manufacture (produce) goods that make life more comfortable;458', 1), ('As humans construct new homes and buildings they change the landscape of the nonliving environment;452', 1), ('Dogs have legs to help them move;991', 1), ('The Grand Canyon in Arizona was created by the flow of the Colorado River over a long period of time;819', 1), ('The major stages in the life cycle of humans are: Baby, toddler, child, teenager, adult, and elderly;1004', 1), ('Cigarettes are harmful to the human body;1193', 1), ('When some animals prepare for the long winters by storing food and going dormant it is called hibernation;1190', 1), ('When a new community is built in the desert, humans may bring in plants that are not familiar to that environment;465', 1)]"
       ]
      },
      {
       "output_type": "stream",
       "stream": "stdout",
       "text": [
        "\n",
        "best answer is: ---\n"
       ]
      },
      {
       "output_type": "stream",
       "stream": "stdout",
       "text": [
        "a human offspring can inherit a facial scar . [1.5, 1.5, 0, 0.5] [5.8769120284926633, 5.8817093221352152, 2.218407736245616, 3.5130145076756616]\n",
        "---------------------------------------------\n",
        "In getCandidate question is A duck 's feathers are covered with a natural oil that keeps the duck dry . this is a special feature ducks have that helps them adapt to their environment .\n",
        "In getCandidate question is A duck 's feathers are covered with a natural oil that keeps the duck dry . this is a special feature ducks have that helps them attract a mate ."
       ]
      },
      {
       "output_type": "stream",
       "stream": "stdout",
       "text": [
        "\n",
        "In getCandidate question is A duck 's feathers are covered with a natural oil that keeps the duck dry . this is a special feature ducks have that helps them search for food ."
       ]
      },
      {
       "output_type": "stream",
       "stream": "stdout",
       "text": [
        "\n",
        "In getCandidate question is A duck 's feathers are covered with a natural oil that keeps the duck dry . this is a special feature ducks have that helps them feed their young ."
       ]
      },
      {
       "output_type": "stream",
       "stream": "stdout",
       "text": [
        "\n",
        "[('Often the force we need in order to do the work is too much for one person and we need help;623', 1), ('Humans depend on natural and constructed environments;445', 2), ('Lobsters and crabs protect themselves with their claws, turtles have shells, porcupines have spines, birds use their feathers, and others have fur or scales to help protect them from predators;195', 2), ('These smells and sounds can attract other animals so that they can mate or they can help them fight an enemy;202', 3), ('Brushing our teeth removes the food and helps keep them strong;352', 3), ('These colors and smells attract birds and insects to visit them and help with the reproduction process;109', 2), ('Humans can help save their environment by recycling, planting trees, preventing litter, limiting use of cars, creating new forms of energy, and conserving energy;1063', 2), ('A beak helps the bird capture and take in food;243', 2), ('Animals take in food as a nutrient to give them energy and help them grow;50', 2), ('If they find new homes, the animals could have difficulty finding food, could be in danger of predators, or might not adapt to the new environment;449', 2), ('A fish has a flipper or fin that helps them swim;1000', 2), ('Body fat is a form of stored energy and helps animals get through long periods of time with little food;219', 2), ('A plant in a food chain is called the producer;1163', 2), ('A dog is living;920', 1), ('A spring scale measures weight;848', 1), ('Each part of the pyramid represents the proper amounts of each type of food that will help you stay healthy;377', 2), ('Seeds contain stored food that aids in germination (sprouting) and the growth of new young plants;123', 1), ('Brushing our teeth removes the food and helps keep them strong;352', 2), ('A beak helps the bird capture and take in food;243', 3), ('Humans can help the environment in many ways:;468', 2), ('Fossil fuels like oil and natural gas are used to heat our homes and power factories to make items that we purchase;442', 2), ('A nonliving thing does not need anything to exist;30', 1)]"
       ]
      },
      {
       "output_type": "stream",
       "stream": "stdout",
       "text": [
        "\n",
        "best answer is: ---\n"
       ]
      },
      {
       "output_type": "stream",
       "stream": "stdout",
       "text": [
        "A duck 's feathers are covered with a natural oil that keeps the duck dry . this is a special feature ducks have that helps them search for food . [8.0, 7.0, 6.5, 0.5] [2.1498663190674163, 2.0851153626090082, 2.7367959420320802, 2.0155916802295284]\n",
        "---------------------------------------------\n",
        "In getCandidate question is the functions of a plant 's roots are to support the plant and make food .\n",
        "In getCandidate question is the functions of a plant 's roots are to support the plant and take in water and nutrients ."
       ]
      },
      {
       "output_type": "stream",
       "stream": "stdout",
       "text": [
        "\n",
        "In getCandidate question is the functions of a plant 's roots are to support the plant and aid in germination ."
       ]
      },
      {
       "output_type": "stream",
       "stream": "stdout",
       "text": [
        "\n",
        "In getCandidate question is the functions of a plant 's roots are to support the plant and produce fruit ."
       ]
      },
      {
       "output_type": "stream",
       "stream": "stdout",
       "text": [
        "\n",
        "[('Plants are able to make their own food by a process called photosynthesis;928', 8), ('When plants make food, they give off oxygen and water;943', 9), ('Chlorophyll is used for photosynthesis, the process by which plants make food;77', 9), ('Roots absorb water and nutrients from the soil into the plant;95', 3), ('A fruit can be found near the seeds of a plant, usually in the flower;962', 2), ('Water is used by the plant to move materials up from the roots to make food;19', 10), ('The stem supports and holds up the plant;98', 2), ('The roots of the plant take in (absorb) water;946', 4), ('The process that plants use to make food is photosynthesis;942', 9), ('The stem is the pathway of water and nutrients from the roots to the leaves;949', 3), ('Water is taken in from the environment through the roots in the ground and is necessary for the plant to produce food;86', 3), ('The stem is the pathway of water and nutrients from roots to leaves and flower;97', 3), ('Plants can also break down rocks by the action of their roots, which are constantly growing to secure the plant and seek water;814', 2), ('Plants make their own food by a process called photosynthesis;18', 8), ('A plant that lives in the desert might have a large root system to find water deep within the ground;963', 3), ('The stem also supports the plant;950', 2), ('When a fruit is moved by an animal or falls to the ground and breaks open the seeds can fall out and grow into new plants;958', 2), ('Photosynthesis is a process by which plants make their own food and give off oxygen and water that they are not using;80', 9), ('The roots of the plant take in water and nutrients;1160', 2), ('Photosynthesis is the process by which plants make their own food;52', 9), ('In addition to food, shelter, and energy, humans manufacture (produce) goods that make life more comfortable;458', 8), ('The roots of the plant take in water and nutrients;1160', 5), ('For there to be enough food, farmers plant and harvest grain, wheat, corn, fruits, and vegetables;456', 2), ('Roots secure the plant in the soil and bring in water and nutrients for survival;965', 3), ('Seeds contain stored food that aids in germination (sprouting) and the growth of new young plants;123', 3), ('All animals need to take in food, water, and nutrients (vitamins and minerals) to survive;149', 3), ('While plants are able to make their own food by photosynthesis they need sunlight and water to do so;391', 9), ('Water is used by the plant to move materials up from the roots to make food;19', 2), ('Water is taken in from the environment through the roots in the ground and is necessary for the plant to produce food;86', 2), ('The two functions of the roots are to anchor and absorb;948', 2), ('Nutrients from the soil enter the plant through its roots;20', 2), ('Nutrients are taken in through the roots from the soil and help the plant survive;87', 2), ('Plants can also break down rocks by the action of their roots, which are constantly growing to secure the plant and seek water;814', 3)]"
       ]
      },
      {
       "output_type": "stream",
       "stream": "stdout",
       "text": [
        "\n",
        "best answer is: ---\n"
       ]
      },
      {
       "output_type": "stream",
       "stream": "stdout",
       "text": [
        "the functions of a plant 's roots are to support the plant and take in water and nutrients . [13.0, 19.5, 7.0, 6.5] [2.098942817049358, 2.3651919011162912, 1.849679693509084, 1.8327357434273739]\n",
        "---------------------------------------------\n",
        "In getCandidate question is a carrot is a fruit .\n",
        "In getCandidate question is a pumpkin is a fruit ."
       ]
      },
      {
       "output_type": "stream",
       "stream": "stdout",
       "text": [
        "\n",
        "In getCandidate question is a potato is a fruit ."
       ]
      },
      {
       "output_type": "stream",
       "stream": "stdout",
       "text": [
        "\n",
        "In getCandidate question is an onion is a fruit ."
       ]
      },
      {
       "output_type": "stream",
       "stream": "stdout",
       "text": [
        "\n",
        "[('Some fruits have a few seeds, like an apple;119', 1), ('A fruit can be found near the seeds of a plant, usually in the flower;962', 1), ('Examples of some common fruits are apples, oranges, peaches, watermelon, cantaloupe, and grapefruit;955', 1), ('For there to be enough food, farmers plant and harvest grain, wheat, corn, fruits, and vegetables;456', 1), ('Some fruits have many little seeds, like a kiwi;120', 1), ('The average life span of a fruit fly is 72 hours;270', 1), ('For example, humans have 46 chromosomes and a fruit fly has only 8 chromosomes;321', 1), ('Examples of plants or plant products include lettuce, oranges, celery, broccoli, carrots, apples, and potatoes;937', 1), ('Plants reproduce by producing flowers and fruits that have seeds;46', 1), ('If the seed surroundings swell up they can form a fruit;116', 1), ('When a fruit is moved by an animal or falls to the ground and breaks open the seeds can fall out and grow into new plants;958', 1)]"
       ]
      },
      {
       "output_type": "stream",
       "stream": "stdout",
       "text": [
        "\n",
        "best answer is: ---\n",
        "a carrot is a fruit . [0.5, 0, 0.5, 0] [25.166164961077946, 17.786323620289302, 21.799588615851178, 16.49793102003586]\n",
        "---------------------------------------------\n",
        "In getCandidate question is a snowy field is an environment in which a white rabbit would be best protected from predators .\n",
        "In getCandidate question is a grassy lawn is an environment in which a white rabbit would be best protected from predators ."
       ]
      },
      {
       "output_type": "stream",
       "stream": "stdout",
       "text": [
        "\n",
        "In getCandidate question is a muddy riverbank is an environment in which a white rabbit would be best protected from predators ."
       ]
      },
      {
       "output_type": "stream",
       "stream": "stdout",
       "text": [
        "\n",
        "In getCandidate question is a shady forest is an environment in which a white rabbit would be best protected from predators ."
       ]
      },
      {
       "output_type": "stream",
       "stream": "stdout",
       "text": [
        "\n",
        "[('Humans have changed their environment by developing communities in areas where living things had to struggle to survive;464', 1), ('If they find new homes, the animals could have difficulty finding food, could be in danger of predators, or might not adapt to the new environment;449', 2), ('If you were to place a magnet under a piece of paper and sprinkle iron filings on the paper you would be able to see the magnetic field of the magnet;607', 2), ('Dogs cannot have kittens and rabbits cannot have guppies;335', 1), ('You would feel tired and not want to do anything;519', 1), ('Humans are dependent upon the environment for food, shelter, and energy;431', 1), ('rabbits have rabbits;329', 1), ('The white sheet of paper would become a pile of black ashes;513', 2), ('Plants also take in carbon dioxide from the environment and return oxygen to the air for animals to use;392', 1), ('The space around the magnet is called the magnetic field;606', 1), ('These protected areas are all over the United States in deserts, forests, prairies, tropical areas, and arctic regions;400', 2), ('A scientist would use a graduated cylinder to measure the volume of a liquid;1072', 1), ('When a new community is built in the desert, humans may bring in plants that are not familiar to that environment;465', 1)]"
       ]
      },
      {
       "output_type": "stream",
       "stream": "stdout",
       "text": [
        "\n",
        "best answer is: ---\n"
       ]
      },
      {
       "output_type": "stream",
       "stream": "stdout",
       "text": [
        "a snowy field is an environment in which a white rabbit would be best protected from predators . [1.5, 0, 0, 0] [17.195297822059608, 7.5899089535711735, 14.432056367645194, 15.368612033733687]\n",
        "---------------------------------------------\n",
        "In getCandidate question is Frogs lay eggs that develop into tadpoles and then into adult frogs . this sequence of changes is an example of how living things go through a life cycle .\n",
        "In getCandidate question is Frogs lay eggs that develop into tadpoles and then into adult frogs . this sequence of changes is an example of how living things act as a source of food ."
       ]
      },
      {
       "output_type": "stream",
       "stream": "stdout",
       "text": [
        "\n",
        "In getCandidate question is Frogs lay eggs that develop into tadpoles and then into adult frogs . this sequence of changes is an example of how living things form a food web ."
       ]
      },
      {
       "output_type": "stream",
       "stream": "stdout",
       "text": [
        "\n",
        "In getCandidate question is Frogs lay eggs that develop into tadpoles and then into adult frogs . this sequence of changes is an example of how living things affect other parts of the ecosystem ."
       ]
      },
      {
       "output_type": "stream",
       "stream": "stdout",
       "text": [
        "\n",
        "[('Some offspring are born as one form and change over time into an adult form;63', 3), ('An ecosystem is a community of all the living and nonliving parts of an environment;388', 3), ('All animals need to sense their surroundings, respond to environmental changes, know where and how to find food, care for their young, and many other things;176', 3), ('Living things need specific resources for survival such as air, food, and water;390', 2), ('DNA tells all living things what it should look like;315', 2), ('Decomposers are living things that break down dead organisms and recycle their nutrients into the soil;426', 2), ('All living things grow and have a life cycle;41', 4), ('Life cycle stages go in a certain order and occur throughout the life span of the organism;262', 3), ('All living things have specific patterns of reproduction, growth, and development that are called stages in its life cycle;261', 4), ('Plants have life cycles that may include beginning of life, development into an adult, reproduction as an adult, and eventually death;132', 3), ('The way that humans treat the environment has a large effect on the survival of all living and nonliving things;446', 2), ('All living things are able to go through certain life processes;36', 4), ('Humans have changed their environment by developing communities in areas where living things had to struggle to survive;464', 2), ('Tadpoles change into frogs, caterpillars change into butterflies, and mealworms turn into beetles;43', 2), ('The changes frogs and butterflies go through are called metamorphosis;915', 3), ('Many things in our living environment go through cycles;413', 4), ('Air and water are two nonliving things that all living things need to survive;913', 2), (\"Producers are living things that change the sun's energy to make their own food;420\", 4), ('All animals depend on plants either as a direct source of food and energy or because plants are food for another animal that they eat;414', 2), ('The world around us is made up of both living and nonliving things;1', 2), (\"Producers are living things that change the sun's energy to make their own food;420\", 3), ('The major stages in the life cycle of humans are: Baby, toddler, child, teenager, adult, and elderly;1004', 3), ('This sequence is called a food chain;418', 2), ('All living things are constantly going through some form of growth and repair;281', 3), ('Living things need food, water, and air to survive;1172', 2), ('All living things go through different stages in its life;253', 4), ('Other plants develop outgrowths that can grow into adult plants;48', 2)]"
       ]
      },
      {
       "output_type": "stream",
       "stream": "stdout",
       "text": [
        "\n",
        "best answer is: ---\n"
       ]
      },
      {
       "output_type": "stream",
       "stream": "stdout",
       "text": [
        "Frogs lay eggs that develop into tadpoles and then into adult frogs . this sequence of changes is an example of how living things go through a life cycle . [16.5, 6.5, 5, 3.0] [2.4200768423785268, 1.9742370055896423, 1.9198747403704211, 1.8382381283332405]\n",
        "---------------------------------------------\n",
        "In getCandidate question is A mother hen clucks loudly when danger is near and her chicks quickly gather around her . sound helps the chicks receive this warning about danger from their mother .\n",
        "In getCandidate question is A mother hen clucks loudly when danger is near and her chicks quickly gather around her . sight helps the chicks receive this warning about danger from their mother ."
       ]
      },
      {
       "output_type": "stream",
       "stream": "stdout",
       "text": [
        "\n",
        "In getCandidate question is A mother hen clucks loudly when danger is near and her chicks quickly gather around her . smell helps the chicks receive this warning about danger from their mother ."
       ]
      },
      {
       "output_type": "stream",
       "stream": "stdout",
       "text": [
        "\n",
        "In getCandidate question is A mother hen clucks loudly when danger is near and her chicks quickly gather around her . taste helps the chicks receive this warning about danger from their mother ."
       ]
      },
      {
       "output_type": "stream",
       "stream": "stdout",
       "text": [
        "\n",
        "[('Often the force we need in order to do the work is too much for one person and we need help;623', 1), ('Brushing our teeth removes the food and helps keep them strong;352', 1), ('A dog is living;920', 1), ('A fruit can be found near the seeds of a plant, usually in the flower;962', 2), ('These colors and smells attract birds and insects to visit them and help with the reproduction process;109', 2), ('A beak helps the bird capture and take in food;243', 2), ('Skunks are able to give off a very foul smell when in danger;203', 2), ('A screw is another type of inclined plane that is wrapped around a cylinder;641', 2), ('A fish has a flipper or fin that helps them swim;1000', 2), ('A nonliving thing does not need anything to exist;30', 1), ('A spring scale measures weight;848', 1), ('These smells and sounds can attract other animals so that they can mate or they can help them fight an enemy;202', 2), ('A pulley is composed of a wheel with a piece of rope or chain around it;632', 2)]"
       ]
      },
      {
       "output_type": "stream",
       "stream": "stdout",
       "text": [
        "\n",
        "best answer is: ---\n"
       ]
      },
      {
       "output_type": "stream",
       "stream": "stdout",
       "text": [
        "A mother hen clucks loudly when danger is near and her chicks quickly gather around her . taste helps the chicks receive this warning about danger from their mother . [5, 4, 16.5, 4] [143.76991800062814, 137.03202372244155, 120.84438053102247, 152.23120177756718]\n",
        "---------------------------------------------\n",
        "In getCandidate question is Temperatures below freezing are expected overnight . covering them might be done to protect plants growing outside .\n",
        "In getCandidate question is Temperatures below freezing are expected overnight . giving them plant food might be done to protect plants growing outside ."
       ]
      },
      {
       "output_type": "stream",
       "stream": "stdout",
       "text": [
        "\n",
        "In getCandidate question is Temperatures below freezing are expected overnight . weeding them might be done to protect plants growing outside ."
       ]
      },
      {
       "output_type": "stream",
       "stream": "stdout",
       "text": [
        "\n",
        "In getCandidate question is Temperatures below freezing are expected overnight . trimming the leaves might be done to protect plants growing outside ."
       ]
      },
      {
       "output_type": "stream",
       "stream": "stdout",
       "text": [
        "\n",
        "[('Once the outside temperature drops below the freezing point of water it is more likely that the precipitation will be in the form of snow;732', 2), ('An example of a plant responding to a change in its environment is leaves falling off trees in fall;968', 2), ('Seeds contain stored food that aids in germination (sprouting) and the growth of new young plants;123', 2), ('A plant in a food chain is called the producer;1163', 2), ('Plants can also break down rocks by the action of their roots, which are constantly growing to secure the plant and seek water;814', 2), ('The leaves of the plants take in carbon dioxide from the environment;84', 2), ('The leaves contain chlorophyll and are able to move toward the sun to collect light for the plant to perform photosynthesis;952', 2), ('The leaves are the part of the plant that is responsible for making food;1186', 2), ('This can be done through the action of different forces including water and plant life;809', 2), ('Animals can use plants for food;938', 2), ('A seed growing into a plant is a form of reproduction;929', 2), ('Photosynthesis takes place in the leaves of the plant;1178', 2), ('Thorns on stems to protect the plant from being eaten;126', 2), ('Rain can occur anytime during the year as long as the outside temperature is above the freezing point of water;731', 2), ('Leaves and stems develop tough outer coatings to protect the plant from the environment;130', 2), ('While plants are able to make their own food by photosynthesis they need sunlight and water to do so;391', 2), ('Water is used by the plant to move materials up from the roots to make food;19', 2), ('All animals depend on plants either as a direct source of food and energy or because plants are food for another animal that they eat;414', 2), ('This waste, when mixed into the soil, can be very helpful to growing plants;69', 2), ('This healing is done by the body growing new bone cells to repair the break;287', 2), ('Some plant adaptations might include:;125', 2), ('The leaves of the plant absorb carbon dioxide;945', 2)]"
       ]
      },
      {
       "output_type": "stream",
       "stream": "stdout",
       "text": [
        "\n",
        "best answer is: ---\n"
       ]
      },
      {
       "output_type": "stream",
       "stream": "stdout",
       "text": [
        "Temperatures below freezing are expected overnight . giving them plant food might be done to protect plants growing outside . [4, 7.0, 4, 0] [2.1903194633524228, 2.7248783566570918, 2.1878308270603584, 1.5453227993356715]\n",
        "---------------------------------------------\n",
        "In getCandidate question is A student reaches one hand into a bag filled with smooth objects . The student feels the objects but does not look into the bag . the student can most likely identify ability to conduct electricity .\n",
        "In getCandidate question is A student reaches one hand into a bag filled with smooth objects . The student feels the objects but does not look into the bag . the student can most likely identify color ."
       ]
      },
      {
       "output_type": "stream",
       "stream": "stdout",
       "text": [
        "\n",
        "In getCandidate question is A student reaches one hand into a bag filled with smooth objects . The student feels the objects but does not look into the bag . the student can most likely identify shape ."
       ]
      },
      {
       "output_type": "stream",
       "stream": "stdout",
       "text": [
        "\n",
        "In getCandidate question is A student reaches one hand into a bag filled with smooth objects . The student feels the objects but does not look into the bag . the student can most likely identify ability to reflect light ."
       ]
      },
      {
       "output_type": "stream",
       "stream": "stdout",
       "text": [
        "\n",
        "[('The amount of friction that an object encounters depends on its smoothness;597', 2), ('A simple circuit generally involves a battery, or other source of electrons, wires through which the energy can flow, and the object that needs the energy to work, such as a light bulb;580', 3), ('Heat energy can be transferred from one object to another object;545', 2), ('The distance between two magnets or a magnet and another metal object has an effect on the force of attraction;612', 2), ('A graph such as this might be used to show the number of students with different eye color for your entire class;903', 3), ('The sun is considered the center of our solar system and all objects move around the sun;648', 2), ('When an object joins two wires and a bulb lights, the object is able to conduct electricity;1169', 3), ('A hand lens used to view objects in more detail;851', 3), ('A snowball melting in your hand is an example of heat energy;1081', 2), ('The particles of matter have the most definite shape in the solid phase;1074', 2), ('The sun, stars, moon, planets, and comets are all celestial objects;644', 2), ('A graph such as this might be used to show the number of students with different eye color for your entire class;903', 2), ('Mechanical energy exerted by one object can push or pull another object;544', 2), ('The sense of taste is one sense that we typically do not use in a science laboratory or during a science experiment;841', 2), ('The leaves contain chlorophyll and are able to move toward the sun to collect light for the plant to perform photosynthesis;952', 2)]"
       ]
      },
      {
       "output_type": "stream",
       "stream": "stdout",
       "text": [
        "\n",
        "best answer is: ---\n"
       ]
      },
      {
       "output_type": "stream",
       "stream": "stdout",
       "text": [
        "A student reaches one hand into a bag filled with smooth objects . The student feels the objects but does not look into the bag . the student can most likely identify shape . [5, 5, 6.5, 5] [3.4658280122830556, 3.4533569051396715, 7.0087718074144103, 3.5617924686344056]\n",
        "---------------------------------------------\n",
        "In getCandidate question is A student has a ball of clay that sinks when placed in a pan of water . he should change shape to make the clay float .\n",
        "In getCandidate question is A student has a ball of clay that sinks when placed in a pan of water . he should change color to make the clay float ."
       ]
      },
      {
       "output_type": "stream",
       "stream": "stdout",
       "text": [
        "\n",
        "In getCandidate question is A student has a ball of clay that sinks when placed in a pan of water . he should change mass to make the clay float ."
       ]
      },
      {
       "output_type": "stream",
       "stream": "stdout",
       "text": [
        "\n",
        "In getCandidate question is A student has a ball of clay that sinks when placed in a pan of water . he should change texture to make the clay float ."
       ]
      },
      {
       "output_type": "stream",
       "stream": "stdout",
       "text": [
        "\n",
        "[('A trait could be the color of your hair, skin, and eyes, your height, and the shape of your face, ears, and nose;295', 8), ('A graph such as this might be used to show the number of students with different eye color for your entire class;903', 9), ('Skiers and surfers often apply wax to their skis and boards in order to make them smoother so they will glide along the surface of the snow or water faster;599', 2), ('A force is what makes it possible to change the position of an object;588', 3), ('Surface waters are heated by the radiation from the sun, which causes the phase change;1133', 2), (\"Producers are living things that change the sun's energy to make their own food;420\", 2), ('When water vapor changes to liquid water it is called condensation;1130', 2), ('A hurricane can exist for many days as it moves across water and land;749', 2), ('A balance measures mass;1076', 8), ('A metric ruler and a balance will measure the size and mass of an object;1148', 8), ('A balance is used to determine the mass of an object;1140', 8), ('When liquid water changes to water vapor it is called evaporation;1129', 2), ('While plants are able to make their own food by photosynthesis they need sunlight and water to do so;391', 2), ('Animals that change color or are of a color similar to their environment can camouflage themselves so that they cannot be easily seen;996', 2), ('A balance measures mass;490', 8), ('A graph such as this might be used to show the number of students with different eye color for your entire class;903', 2), ('The energy from the sun heated the water and caused it to evaporate - change from liquid water to water vapor;788', 2), ('A balance measures mass;847', 8)]"
       ]
      },
      {
       "output_type": "stream",
       "stream": "stdout",
       "text": [
        "\n",
        "best answer is: ---\n"
       ]
      },
      {
       "output_type": "stream",
       "stream": "stdout",
       "text": [
        "A student has a ball of clay that sinks when placed in a pan of water . he should change mass to make the clay float . [6.5, 6.5, 6.5, 0] [16.717690311758876, 18.286574765747694, 18.565855752703541, 8.7251342730138504]\n",
        "---------------------------------------------\n",
        "In getCandidate question is A girl signals her friend by shining a flashlight on a mirror . her friend can see the signal because mechanical energy can be transferred from one object to another .\n",
        "In getCandidate question is A girl signals her friend by shining a flashlight on a mirror . her friend can see the signal because light energy can be reflected from one object to another ."
       ]
      },
      {
       "output_type": "stream",
       "stream": "stdout",
       "text": [
        "\n",
        "In getCandidate question is A girl signals her friend by shining a flashlight on a mirror . her friend can see the signal because sound energy can be reflected from one object to another ."
       ]
      },
      {
       "output_type": "stream",
       "stream": "stdout",
       "text": [
        "\n",
        "In getCandidate question is A girl signals her friend by shining a flashlight on a mirror . her friend can see the signal because heat energy can be transferred from one object to another ."
       ]
      },
      {
       "output_type": "stream",
       "stream": "stdout",
       "text": [
        "\n",
        "[('A wedge is a type of inclined plane that can be forced into another object;639', 3), ('When two objects slide over one another friction can occur;1098', 3), ('A simple circuit generally involves a battery, or other source of electrons, wires through which the energy can flow, and the object that needs the energy to work, such as a light bulb;580', 3), ('A snowball melting in your hand is an example of heat energy;1081', 3), ('Much of this interaction results in energy changing from one form to another;550', 3), ('A blender is an example of electrical energy changing to mechanical energy;1087', 3), ('The amount of energy transferred during a flow of electrical energy depends on the energy source and the properties of the object;577', 3), ('Sound waves and light energy are similar because they move energy from one place to another;1168', 4), ('Energy can be transferred from one place to another and one object to another;536', 4), ('Heat energy can be transferred from one object to another object;545', 5), (\"We are able to see the moon in the sky because the sun's light is reflected off of the moon;1102\", 3), ('Energy can move from one object to another through different materials and through space;568', 3), ('A simple circuit generally involves a battery, or other source of electrons, wires through which the energy can flow, and the object that needs the energy to work, such as a light bulb;580', 4), (\"Because of the moon's movement and the reflected light from the sun we see different portions of the moon at different times during the 29 1/2 days;681\", 3), ('Sound waves and light energy are similar because they move energy from one place to another;1168', 3), ('Light can be reflected from one object to another;547', 3), ('Mechanical energy exerted by one object can push or pull another object;544', 4), ('Energy can be transferred from one place to another and one object to another;536', 3), ('A car engine is an example of chemical energy changing to mechanical energy;1088', 3), ('Heat energy can be transferred from one object to another object;545', 4), ('Light can be reflected from one object to another;547', 4)]"
       ]
      },
      {
       "output_type": "stream",
       "stream": "stdout",
       "text": [
        "\n",
        "best answer is: ---\n"
       ]
      },
      {
       "output_type": "stream",
       "stream": "stdout",
       "text": [
        "A girl signals her friend by shining a flashlight on a mirror . her friend can see the signal because heat energy can be transferred from one object to another . [22.5, 21.5, 21.0, 29.0] [1.9718050443973527, 1.8762012939773762, 1.8276181642137548, 2.7211660230422732]\n",
        "---------------------------------------------\n",
        "In getCandidate question is a flower produces the seeds .\n",
        "In getCandidate question is roots produces the seeds ."
       ]
      },
      {
       "output_type": "stream",
       "stream": "stdout",
       "text": [
        "\n",
        "In getCandidate question is a stem produces the seeds ."
       ]
      },
      {
       "output_type": "stream",
       "stream": "stdout",
       "text": [
        "\n",
        "In getCandidate question is leaves produces the seeds ."
       ]
      },
      {
       "output_type": "stream",
       "stream": "stdout",
       "text": [
        "\n",
        "[('The stem provides support for the plant;970', 4), ('The stem is the pathway of water and nutrients from roots to leaves and flower;97', 4), ('The stem transports extra food (glucose) made in the leaves to the roots to be stored for later use;100', 4), ('The part of a plant that is responsible for reproduction is the flower;969', 4), ('Plants reproduce by forming seeds from the male (pollen) and female (eggs) cells found in the flower;961', 1), ('The stem also supports the plant;950', 4), ('A plant that lives in the desert might have a large root system to find water deep within the ground;963', 4), ('Stem, stalk, or trunk - extends from the roots up to the leaves and flower;96', 4), ('The leaves contain chlorophyll and are able to move toward the sun to collect light for the plant to perform photosynthesis;952', 1), ('The stem is the pathway of water and nutrients from the roots to the leaves;949', 1), ('Some traits that can be inherited are color of flowers, shape of leaves, shape os seeds, and color of seeds;1025', 2), ('Water is used by the plant to move materials up from the roots to make food;19', 1), ('Nutrients from the soil enter the plant through its roots;20', 1), ('A fruit can be found near the seeds of a plant, usually in the flower;962', 5), ('Inherited traits for a plant are flower color, leaf shape, seed shape and color, and overall plant height;306', 5), ('Water animals produce very large numbers of eggs because there are very few young that survive;1059', 1), ('There are four major parts of a plant: roots, stem, leaves, and flower;91', 4), ('The waste leaves the body in the form of feces;68', 1), ('A fruit can be found near the seeds of a plant, usually in the flower;962', 1), ('Large leaves to increase surface area for photosynthesis;127', 1), ('The stem is the pathway for transporting (carrying) water and nutrients;99', 4), ('In addition to food, shelter, and energy, humans manufacture (produce) goods that make life more comfortable;458', 1), ('Fruit develops around the seed and comes from a flower;956', 5), ('The stem supports and holds up the plant;98', 4), (\"The best instrument to measure the growth of a plant's stem is a ruler;1150\", 4), ('The flower is the part of the plant responsible for the production of seeds;1177', 5), ('It is absorbed (taken in) by the leaves and is necessary for the plant to produce food;89', 2), ('The stem is the pathway of water and nutrients from the roots to the leaves;949', 4), ('Plants can grow from a seed into a flower, tree, or bush;45', 5), ('The male organ of the flower is called the stamen (containing pollen);111', 4), ('Leaves extend from the stem;101', 4), ('Stem, stalk, or trunk - extends from the roots up to the leaves and flower;96', 1), ('Plants reproduce by forming seeds from the male (pollen) and female (eggs) cells found in the flower;961', 5), ('The female organ of the flower is called the pistil (containing eggs);112', 4), ('Water is taken in from the environment through the roots in the ground and is necessary for the plant to produce food;86', 2)]"
       ]
      },
      {
       "output_type": "stream",
       "stream": "stdout",
       "text": [
        "\n",
        "best answer is: ---\n"
       ]
      },
      {
       "output_type": "stream",
       "stream": "stdout",
       "text": [
        "a flower produces the seeds . [11.5, 6.5, 6.5, 11.5] [2.6427080734737229, 1.7374090032979266, 1.7306981719071968, 2.5378654277531822]\n",
        "---------------------------------------------\n",
        "In getCandidate question is Fourth graders are planning a roller-skate race . grass would be the best for this race .\n",
        "In getCandidate question is Fourth graders are planning a roller-skate race . blacktop would be the best for this race ."
       ]
      },
      {
       "output_type": "stream",
       "stream": "stdout",
       "text": [
        "\n",
        "In getCandidate question is Fourth graders are planning a roller-skate race . sand would be the best for this race ."
       ]
      },
      {
       "output_type": "stream",
       "stream": "stdout",
       "text": [
        "\n",
        "In getCandidate question is Fourth graders are planning a roller-skate race . gravel would be the best for this race ."
       ]
      },
      {
       "output_type": "stream",
       "stream": "stdout",
       "text": [
        "\n",
        "[('If the box were empty and you gave it a push it would easily move across the floor;593', 1), ('For example, if you fall and get a deep cut that leaves a scar, you would not pass the scar to your offspring;337', 1), ('You would feel tired and not want to do anything;519', 1), ('Wave action can move sand along a beach;825', 1), ('If you were to put a wooden spoon in the same pot and then tried to touch it, the wooden spoon would not be hot;540', 1), ('movement of sand along a beach by wave action;824', 1), ('It would be because you have no energy;520', 1), ('What would happen if we were to try and push the box along the sand?;602', 2), ('One way to change the paper would be to burn it;512', 1), ('A scientist would use a graduated cylinder to measure the volume of a liquid;1072', 1), ('What would happen if we were to try and push the box along the sand?;602', 1), ('On the sand it will turn a tan color and on grass it will turn green to allow it to hide from predators;200', 1), (\"The best instrument to measure the growth of a plant's stem is a ruler;1150\", 1), ('The white sheet of paper would become a pile of black ashes;513', 1)]"
       ]
      },
      {
       "output_type": "stream",
       "stream": "stdout",
       "text": [
        "\n",
        "best answer is: ---\n",
        "Fourth graders are planning a roller-skate race . sand would be the best for this race . [5.5, 0, 6.5, 0] [2.3503169978789495, 1.7499826565594676, 2.5999024537561519, 1.7523655369223019]\n",
        "---------------------------------------------\n",
        "In getCandidate question is a graduated cylinder would be best to measure the volume of a liquid .\n",
        "In getCandidate question is a thermometer would be best to measure the volume of a liquid ."
       ]
      },
      {
       "output_type": "stream",
       "stream": "stdout",
       "text": [
        "\n",
        "In getCandidate question is a stopwatch would be best to measure the volume of a liquid ."
       ]
      },
      {
       "output_type": "stream",
       "stream": "stdout",
       "text": [
        "\n",
        "In getCandidate question is a pan balance would be best to measure the volume of a liquid ."
       ]
      },
      {
       "output_type": "stream",
       "stream": "stdout",
       "text": [
        "\n",
        "[('A scientist would use a graduated cylinder to measure the volume of a liquid;1072', 12), ('To determine the volume of milk used in a recipe you would use a graduated cylinder;1069', 10), ('A balance measures mass;490', 2), ('A thermometer measures temperature;705', 5), ('A thermometer measures temperature;849', 5), ('A thermometer is the instrument used to measure temperature;720', 5), ('A thermometer measures temperature;491', 5), ('To determine the volume of a book you would use a ruler;1068', 2), ('The tool that is used to measure the volume of a liquid is a graduated cylinder;1161', 3), ('A graduated Cylinder measures volume;492', 3), ('A scientist would use a graduated cylinder to measure the volume of a liquid;1072', 4), ('To measure mass scientists use a balance;476', 2), ('A balance measures mass;847', 2), ('The tool that is used to measure the volume of a liquid is a graduated cylinder;1161', 11), ('A thermometer is used to measure heat energy;1176', 5), ('In a glass of water that contains ice cubes we find two phases of matter: liquid and solid;1066', 1), ('To determine the volume of milk used in a recipe you would use a graduated cylinder;1069', 2), ('To measure liquid volume scientists use a graduated cylinder;478', 11), ('The best tool to use to measure temperature is a thermometer;1145', 2), ('A balance measures mass;1076', 2), ('To measure the volume of a solid scientists use a ruler;479', 2), ('A graduated Cylinder measures volume;492', 2), (\"The best instrument to measure the growth of a plant's stem is a ruler;1150\", 2), ('A thermometer is used to measure air temperature;1146', 5), ('The best tool to use to measure temperature is a thermometer;1145', 6), ('To measure liquid volume scientists use a graduated cylinder;478', 3)]"
       ]
      },
      {
       "output_type": "stream",
       "stream": "stdout",
       "text": [
        "\n",
        "best answer is: ---\n"
       ]
      },
      {
       "output_type": "stream",
       "stream": "stdout",
       "text": [
        "a graduated cylinder would be best to measure the volume of a liquid . [28.0, 11.5, 5, 5] [2.2287219875248994, 1.9879851159126889, 1.9143685066391563, 1.9163153857852022]\n",
        "---------------------------------------------\n",
        "In getCandidate question is sleeping all day is one way that humans can maintain good health .\n",
        "In getCandidate question is exercising daily is one way that humans can maintain good health ."
       ]
      },
      {
       "output_type": "stream",
       "stream": "stdout",
       "text": [
        "\n",
        "In getCandidate question is eating snacks often is one way that humans can maintain good health ."
       ]
      },
      {
       "output_type": "stream",
       "stream": "stdout",
       "text": [
        "\n",
        "In getCandidate question is staying up late is one way that humans can maintain good health ."
       ]
      },
      {
       "output_type": "stream",
       "stream": "stdout",
       "text": [
        "\n",
        "[('Often the force we need in order to do the work is too much for one person and we need help;623', 1), ('Being healthy also includes good health habits;345', 2), ('Brushing your teeth in the morning and before going to bed is another important part of having good health;350', 2), ('The sense of taste is one sense that we typically do not use in a science laboratory or during a science experiment;841', 1), ('In addition to food, shelter, and energy, humans manufacture (produce) goods that make life more comfortable;458', 2), ('The best way to do this, in addition to eating healthfully, exercising, and getting rest is to avoid (do not take or try) harmful substances;357', 2), ('The way that humans treat the environment has a large effect on the survival of all living and nonliving things;446', 2), ('The processes of weathering and erosion change the landscape of the Earth on a daily basis;807', 1), ('Humans developed various means of transportation so that they could live in one place and bring food, energy, and other goods to them rather than living at the site where they are made;460', 2), ('Eating a balanced diet is one of the most important steps toward having good heath;367', 2), ('Building shelters, using energy, manufacturing goods, and the various forms of transportation are some of the ways humans have created pollution;462', 3), ('You have only one chance to live a healthy life style;356', 1)]"
       ]
      },
      {
       "output_type": "stream",
       "stream": "stdout",
       "text": [
        "\n",
        "best answer is: ---\n"
       ]
      },
      {
       "output_type": "stream",
       "stream": "stdout",
       "text": [
        "sleeping all day is one way that humans can maintain good health . [10, 5, 1.5, 5] [2.8048526231114357, 2.2329367741385742, 2.1259108099265749, 1.6591745126862185]\n",
        "---------------------------------------------\n",
        "In getCandidate question is the length of daylight in New York State changes from summer to fall by remaining the same .\n",
        "In getCandidate question is the length of daylight in New York State changes from summer to fall by increasing ."
       ]
      },
      {
       "output_type": "stream",
       "stream": "stdout",
       "text": [
        "\n",
        "In getCandidate question is the length of daylight in New York State changes from summer to fall by decreasing ."
       ]
      },
      {
       "output_type": "stream",
       "stream": "stdout",
       "text": [
        "\n",
        "[('A southwest wind would bring warm air to New York from the south, but a northeast wind would most likely bring cold, wet winds;714', 2), ('The shortest number of daylight hours in New York State occurs during December;1103', 4), ('The water that falls can be in liquid form, such as rain, or in solid form, such as snow;796', 1), ('Each season that occurs in New York state experiences specific climate conditions;763', 2), ('Tadpoles change into frogs, caterpillars change into butterflies, and mealworms turn into beetles;43', 1), ('An example of a plant responding to a change in its environment is leaves falling off trees in fall;968', 2), ('Many animals are able to change their body with the seasons;214', 1), ('The processes of weathering and erosion change the landscape of the Earth on a daily basis;807', 1), ('In the northern hemisphere, where New York State is located, the seasons are divided as follows:;667', 3), (\"Because of the tilt and the Earth's position around the sun during its revolution the Earth experiences four distinct seasons: winter, spring, summer, and fall;666\", 2)]"
       ]
      },
      {
       "output_type": "stream",
       "stream": "stdout",
       "text": [
        "\n",
        "best answer is: ---\n",
        "the length of daylight in New York State changes from summer to fall by remaining the same . [5, 5, 0] [2.480130499091358, 2.4801304931358783, 1.5801304931358784]\n",
        "---------------------------------------------\n",
        "In getCandidate question is temperature and sky conditions are both used to describe weather .\n",
        "In getCandidate question is wind speed and erosion are both used to describe weather ."
       ]
      },
      {
       "output_type": "stream",
       "stream": "stdout",
       "text": [
        "\n",
        "In getCandidate question is precipitation and runoff are both used to describe weather ."
       ]
      },
      {
       "output_type": "stream",
       "stream": "stdout",
       "text": [
        "\n",
        "In getCandidate question is types of clouds and deposition are both used to describe weather ."
       ]
      },
      {
       "output_type": "stream",
       "stream": "stdout",
       "text": [
        "\n",
        "[('Water, wind, and gravity are all forces involved in erosion;822', 2), ('Water is used to break down and move materials throughout the body;11', 1), ('Precipitation is the term used to describe water falling from the sky;1114', 3), ('Other conditions used to describe the weather include humidity and cloud cover;733', 3), ('Precipitation is the term used to describe water (moisture) that falls from the sky;723', 2), ('Some animals protect themselves by sending o ut special sounds or smells, which is another type of defense mechanism;201', 1), ('Climate describes the weather conditions in an area over time;699', 2), ('A pie graph is often used to show percentages of variables that equal 100;904', 1), ('A graph such as this might be used to show the number of students with different eye color for your entire class;903', 1), ('The processes of weathering and erosion change the landscape of the Earth on a daily basis;807', 1), ('A thermometer is used to measure air temperature;1146', 2), ('The information provided by these weather instruments is very useful in determining current or future weather conditions;722', 2), ('A gentle breeze might be measured at a speed of 2 miles per hour whereas the winds from a hurricane could be measured at 100 miles per hour;712', 2), ('Precipitation is the term used to describe water falling from the sky;1114', 2), ('Other conditions used to describe the weather include humidity and cloud cover;733', 4), ('Precipitation is the term used to describe water (moisture) that falls from the sky;723', 3), ('Each season has its distinct weather conditions, which will be discussed in the next chapter;672', 2), ('Scientists use an anemometer to determine wind speed;710', 2), ('Have you ever watched the news and seen the weatherperson in front of a map explaining the weather?;740', 1), ('Hail is a form of precipitation;1180', 1), ('Different clouds are associated with different weather conditions;737', 2), ('Examples of erosion include:;823', 1), ('An anemometer measures wind speed;703', 2), ('Different forms of precipitation include:;724', 1), ('The type of air that plants take in and use is carbon dioxide;16', 1), ('He or she usually gives the temperature, sky conditions, and precipitation;741', 3), ('Fog is not a form of precipitation;1128', 1), ('A thermometer is the instrument used to measure temperature;720', 2)]"
       ]
      },
      {
       "output_type": "stream",
       "stream": "stdout",
       "text": [
        "\n",
        "best answer is: ---\n"
       ]
      },
      {
       "output_type": "stream",
       "stream": "stdout",
       "text": [
        "temperature and sky conditions are both used to describe weather . [18.5, 5, 4, 5] [2.3557317327411105, 1.9091096461834547, 1.8710985745959299, 1.9810316275533324]\n",
        "---------------------------------------------\n",
        "In getCandidate question is It rained on a hot summer afternoon and a puddle formed . After several hours , the puddle was gone . precipitation followed by evaporation made the puddle form and then disappear .\n",
        "In getCandidate question is It rained on a hot summer afternoon and a puddle formed . After several hours , the puddle was gone . precipitation followed by runoff made the puddle form and then disappear ."
       ]
      },
      {
       "output_type": "stream",
       "stream": "stdout",
       "text": [
        "\n",
        "In getCandidate question is It rained on a hot summer afternoon and a puddle formed . After several hours , the puddle was gone . deposition followed by evaporation made the puddle form and then disappear ."
       ]
      },
      {
       "output_type": "stream",
       "stream": "stdout",
       "text": [
        "\n",
        "In getCandidate question is It rained on a hot summer afternoon and a puddle formed . After several hours , the puddle was gone . deposition followed by runoff made the puddle form and then disappear ."
       ]
      },
      {
       "output_type": "stream",
       "stream": "stdout",
       "text": [
        "\n",
        "[('Fog is not a form of precipitation;1128', 2), ('Hail is a form of precipitation;1180', 2), ('The water that falls can be in liquid form, such as rain, or in solid form, such as snow;796', 1), ('In everyday life different forms of energy interact with matter;549', 1), ('Different forms of precipitation include:;724', 2), ('Snow is a form of precipitation;1115', 2), ('After a few hours or days those puddles disappear;786', 4), ('Fog is not a form of precipitation;1128', 1), ('Most severe thunderstorms occur in summer when air is hot and moist;754', 2), ('It gets hot;538', 2), ('Imagine the puddles that form on your street after a heavy rain;785', 2), ('When the humidity reaches 100 percent it is very likely that some form of precipitation will occur, depending on the temperature;735', 2), ('Different forms of precipitation include:;724', 1), ('Think back to a hot summer day, when you poured yourself a glass of cold water and took it outside;791', 2), ('The food made by the plant is a form of sugar called glucose;81', 2)]"
       ]
      },
      {
       "output_type": "stream",
       "stream": "stdout",
       "text": [
        "\n",
        "best answer is: ---\n"
       ]
      },
      {
       "output_type": "stream",
       "stream": "stdout",
       "text": [
        "It rained on a hot summer afternoon and a puddle formed . After several hours , the puddle was gone . precipitation followed by evaporation made the puddle form and then disappear . [8.0, 3.0, 8.0, 3.0] [9.7787488795683437, 8.9446117792653297, 5.3193023896711153, 4.4851652893682425]\n",
        "---------------------------------------------\n",
        "In getCandidate question is gravity causes rocks to roll downhill .\n",
        "In getCandidate question is erosion causes rocks to roll downhill ."
       ]
      },
      {
       "output_type": "stream",
       "stream": "stdout",
       "text": [
        "\n",
        "In getCandidate question is magnetism causes rocks to roll downhill ."
       ]
      },
      {
       "output_type": "stream",
       "stream": "stdout",
       "text": [
        "\n",
        "In getCandidate question is friction causes rocks to roll downhill ."
       ]
      },
      {
       "output_type": "stream",
       "stream": "stdout",
       "text": [
        "\n",
        "[('Examples of erosion include:;823', 4), ('Weathering, erosion, and deposition result from the interactions between air, land, and water;806', 4), ('The box pushed across the floor will eventually stop because of the force, or friction, the floor has on the box;596', 4), ('Rocks are weathered, broken down, and then carried away through the action of erosion;829', 4), ('The chemicals from smoking can also cause very serious diseases such as lung cancer;361', 1), ('Objects being pushed over a smooth surface will move easier due to less friction;1165', 4), ('Water trapped inside the cracks of rocks may freeze and cause the rocks to break apart;1136', 2), ('When an object travels slowly over a bumpy surface and fast over a smooth surface the difference is due to friction;1189', 4), ('Eventually, the particles that are being moved by water, wind, and/or gravity will stop moving;830', 4), ('The amount of friction that an object encounters depends on its smoothness;597', 4), ('The force that pulls objects toward the Earth is gravity;1166', 4), (\"If an object is thrown into the air, the force used will only allow it to travel a certain distance before the gravitational attraction between the object and the Earth causes it to fall back down to Earth 's surface;618\", 1), ('Weathering is the process that breaks down rocks into small pieces;1137', 1), ('The astronaut does not experience gravity while in outer space;1198', 4), ('This process continues over long periods of time, breaking down rocks;813', 1), ('Another type of force is magnetism;603', 4), ('It is gravity that keeps everything from flying away;617', 4), ('The smoother the surface, the less friction against an object, so the faster it will move;598', 4), ('When you jump up in the air, you come back down to the ground due to gravity;1158', 4), ('The processes of weathering and erosion change the landscape of the Earth on a daily basis;807', 4), ('However, powerful earthquakes can cause damage to landscapes and buildings;835', 1), ('The force of magnetism decreases as the magnets are pulled apart;1185', 4), ('Water, wind, and gravity are all forces involved in erosion;822', 4), ('The processes of weathering and erosion work together over time;828', 4), ('When two objects slide over one another friction can occur;1098', 4), ('The force identified by a north and south pole is magnetism;1167', 4), ('Surface waters are heated by the radiation from the sun, which causes the phase change;1133', 1)]"
       ]
      },
      {
       "output_type": "stream",
       "stream": "stdout",
       "text": [
        "\n",
        "best answer is: ---\n"
       ]
      },
      {
       "output_type": "stream",
       "stream": "stdout",
       "text": [
        "gravity causes rocks to roll downhill . [6.5, 6.5, 6.5, 6.5] [inf, inf, inf, inf]\n",
        "---------------------------------------------\n",
        "In getCandidate question is a meter describes an object 's length .\n",
        "In getCandidate question is a degree describes an object 's length ."
       ]
      },
      {
       "output_type": "stream",
       "stream": "stdout",
       "text": [
        "\n",
        "In getCandidate question is a liter describes an object 's length ."
       ]
      },
      {
       "output_type": "stream",
       "stream": "stdout",
       "text": [
        "\n",
        "In getCandidate question is a kilogram describes an object 's length ."
       ]
      },
      {
       "output_type": "stream",
       "stream": "stdout",
       "text": [
        "\n",
        "[('There are a number of different objects, called celestial objects, that appear in the sky each day and night;643', 1), ('Heat energy can be transferred from one object to another object;545', 1), ('Mechanical energy is the energy produced when two objects move together;620', 1), ('The sun, stars, moon, planets, and comets are all celestial objects;644', 1), ('Gravity is also a force that acts on objects here on Earth;615', 1), ('A meter stick measures length;846', 1), ('A meter stick measures length;846', 2), ('Mechanical energy exerted by one object can push or pull another object;544', 1), ('The sun is considered the center of our solar system and all objects move around the sun;648', 1), ('A ruler measures length;845', 1), ('The amount of friction that an object encounters depends on its smoothness;597', 1)]"
       ]
      },
      {
       "output_type": "stream",
       "stream": "stdout",
       "text": [
        "\n",
        "best answer is: ---\n",
        "a meter describes an object 's length . [1.5, 1.5, 1.5, 1.5] [inf, inf, inf, inf]\n",
        "---------------------------------------------\n",
        "In getCandidate question is touch is used to determine an object 's texture .\n",
        "In getCandidate question is smell is used to determine an object 's texture ."
       ]
      },
      {
       "output_type": "stream",
       "stream": "stdout",
       "text": [
        "\n",
        "In getCandidate question is hearing is used to determine an object 's texture ."
       ]
      },
      {
       "output_type": "stream",
       "stream": "stdout",
       "text": [
        "\n",
        "In getCandidate question is taste is used to determine an object 's texture ."
       ]
      },
      {
       "output_type": "stream",
       "stream": "stdout",
       "text": [
        "\n",
        "[('Pulleys are used to lift objects;633', 2), ('Water is used to break down and move materials throughout the body;11', 1), ('The amount of force put on an object will determine how far and fast the object will move;590', 2), (\"If an object is thrown into the air, the force used will only allow it to travel a certain distance before the gravitational attraction between the object and the Earth causes it to fall back down to Earth 's surface;618\", 2), ('A hand lens used to view objects in more detail;851', 2), ('Precipitation is the term used to describe water falling from the sky;1114', 1), ('The four senses that can be used to observe an orange are: sight, smell, touch, and taste;1019', 2), ('A microscope is used to view small objects;850', 2), ('To determine the volume of milk used in a recipe you would use a graduated cylinder;1069', 2), ('A balance is used to determine the mass of an object;1140', 3), (\"You can observe an orange's texture with your sense of touch;1143\", 2), ('Physical properties include: color, hardness, odor, sound, taste, texture, and size;495', 2), ('A force can also be used to change the direction that an object is moving;589', 2)]"
       ]
      },
      {
       "output_type": "stream",
       "stream": "stdout",
       "text": [
        "\n",
        "best answer is: ---\n"
       ]
      },
      {
       "output_type": "stream",
       "stream": "stdout",
       "text": [
        "taste is used to determine an object 's texture . [10.5, 11.5, 11.5, 11.5] [28.699425471383197, 22.863054826211275, 24.758416088343253, 29.912199749761584]\n",
        "---------------------------------------------\n",
        "In getCandidate question is chemical energy is found in food .\n",
        "In getCandidate question is electrical energy is found in food ."
       ]
      },
      {
       "output_type": "stream",
       "stream": "stdout",
       "text": [
        "\n",
        "In getCandidate question is sound is found in food ."
       ]
      },
      {
       "output_type": "stream",
       "stream": "stdout",
       "text": [
        "\n",
        "In getCandidate question is mechanical energy is found in food ."
       ]
      },
      {
       "output_type": "stream",
       "stream": "stdout",
       "text": [
        "\n",
        "[('The urinary system is responsible for getting rid of chemical waste and water;980', 4), ('Playing a guitar is an example of mechanical energy changing to sound energy;1086', 5), ('The energy transformation that occurs when you ring a door bell is electrical energy to sound;1091', 5), ('A complete circuit allows electrical energy to flow;576', 5), ('The ashes are chemically different from the paper so this is considered a chemical change;514', 4), ('The amount of energy transferred during a flow of electrical energy depends on the energy source and the properties of the object;577', 5), ('An example of the transfer of chemical energy to electrical energy is between battery and light bulb;1188', 5), ('Electrical energy changes to mechanical energy in a food mixer;562', 6), ('Chemical energy is energy that is released when a chemical reaction takes place;533', 5), ('Playing a guitar is an example of mechanical energy changing to sound energy;1086', 4), ('A battery is an example of chemical energy changing to electrical energy;1085', 5), ('Pounding a fist on a table is an example of mechanical energy changing to to sound energy;1083', 4), ('After the blood carries nutrients and oxygen throughout the body we need to get rid of the chemical waste;171', 4), ('A blender is an example of electrical energy changing to mechanical energy;1087', 5), ('Mechanical energy changes to sound in a piano;559', 4), ('The simplest way to observe matter is to use your senses: sight, sound, taste, touch, and hearing;486', 4), ('Banging a drum is an example of mechanical energy;1082', 5), ('Pounding a fist on a table is an example of mechanical energy changing to to sound energy;1083', 5), ('Rusting is an example of a chemical property;1073', 4), ('Light energy changes to electrical energy in a solar calculator;552', 5), ('A car engine is an example of chemical energy changing to mechanical energy;1088', 5), ('Heat, electric, sound, chemical, mechanical, and light are all examples of different forms of energy;528', 4), ('Chemical energy changes to electrical energy in a battery;564', 5), ('Drying clothes in a clothes dryer is an example of electrical energy changing to heat energy;1084', 5), ('In addition to food, shelter, and energy, humans manufacture (produce) goods that make life more comfortable;458', 2), ('Magnetic energy changes to mechanical energy in a magnetic door latch;566', 5), ('Electrical energy changes to sound energy in a door buzzer;554', 4), ('When you turn on your television, electrical energy is transferred into sound and light energy;1175', 5), ('Chemical energy changes to mechanical energy in a gasoline engine;565', 5), ('Heat changes to sound in a tea kettle;560', 4), ('Heat, electric, sound, chemical, mechanical, and light are all examples of different forms of energy;528', 5), ('Just as we can describe physical and chemical properties of matter we can describe the physical and chemical changes to matter;499', 4), ('Light changes to electrical energy in solar path lights;567', 5), ('Physical properties include: color, hardness, odor, sound, taste, texture, and size;495', 4), ('The energy transformation that occurs when you ring a door bell is electrical energy to sound;1091', 4), ('Mechanical energy changes to sound energy by playing a musical instrument;555', 4)]"
       ]
      },
      {
       "output_type": "stream",
       "stream": "stdout",
       "text": [
        "\n",
        "best answer is: ---\n"
       ]
      },
      {
       "output_type": "stream",
       "stream": "stdout",
       "text": [
        "mechanical energy is found in food . [6.5, 6.5, 6.5, 11.5] [1.9646403182876142, 1.9605162034771508, 1.9035573806525501, 3.0271828701438181]\n",
        "---------------------------------------------\n",
        "In getCandidate question is A student crumples up a sheet of paper . color has changed .\n",
        "In getCandidate question is A student crumples up a sheet of paper . state has changed ."
       ]
      },
      {
       "output_type": "stream",
       "stream": "stdout",
       "text": [
        "\n",
        "In getCandidate question is A student crumples up a sheet of paper . shape has changed ."
       ]
      },
      {
       "output_type": "stream",
       "stream": "stdout",
       "text": [
        "\n",
        "In getCandidate question is A student crumples up a sheet of paper . mass has changed ."
       ]
      },
      {
       "output_type": "stream",
       "stream": "stdout",
       "text": [
        "\n",
        "[('A trait could be the color of your hair, skin, and eyes, your height, and the shape of your face, ears, and nose;295', 8), ('A graph such as this might be used to show the number of students with different eye color for your entire class;903', 9), ('Humans have changed their environment by developing communities in areas where living things had to struggle to survive;464', 1), ('A dog is living;920', 1), ('A mountain is a nonliving thing that occurs in nature;912', 1), ('A balance is used to determine the mass of an object;1140', 8), ('Hibernation is going into a dormant state for the winter;984', 1), ('A nonliving thing does not need anything to exist;30', 1), ('A balance measures mass;1076', 8), ('A metric ruler and a balance will measure the size and mass of an object;1148', 8), ('Their bodies slow down and go into a dormant (inactive) state;224', 1), ('A spring scale measures weight;848', 1), ('We can describe the paper in terms of its color (white) and its size (21 centimeters wide and 27 centimeters long);503', 2), ('The white sheet of paper would become a pile of black ashes;513', 2), ('We can color the paper using crayons or markers;506', 2), ('The water vapor cooled and changed from its gaseous state to a liquid state (droplets) on your glass;794', 2), ('A balance measures mass;490', 8), ('A graph such as this might be used to show the number of students with different eye color for your entire class;903', 2), ('A rock is not a living thing;1179', 1), ('A mountain is nonliving;922', 1), ('A balance measures mass;847', 8)]"
       ]
      },
      {
       "output_type": "stream",
       "stream": "stdout",
       "text": [
        "\n",
        "best answer is: ---\n"
       ]
      },
      {
       "output_type": "stream",
       "stream": "stdout",
       "text": [
        "A student crumples up a sheet of paper . state has changed . [1.5, 11.5, 6.5, 6.5] [1.6561974762968412, 2.5646839080442358, 2.0561974762968411, 2.0519896444829167]\n",
        "---------------------------------------------\n",
        "In getCandidate question is A student riding a bicycle observes that it moves faster on a smooth road than on a rough road . this happens because the smooth road has less friction .\n",
        "In getCandidate question is A student riding a bicycle observes that it moves faster on a smooth road than on a rough road . this happens because the smooth road has less gravity ."
       ]
      },
      {
       "output_type": "stream",
       "stream": "stdout",
       "text": [
        "\n",
        "In getCandidate question is A student riding a bicycle observes that it moves faster on a smooth road than on a rough road . this happens because the smooth road has more friction ."
       ]
      },
      {
       "output_type": "stream",
       "stream": "stdout",
       "text": [
        "\n",
        "In getCandidate question is A student riding a bicycle observes that it moves faster on a smooth road than on a rough road . this happens because the smooth road has more gravity ."
       ]
      },
      {
       "output_type": "stream",
       "stream": "stdout",
       "text": [
        "\n",
        "[('The smoother the surface, the less friction against an object, so the faster it will move;598', 2), ('Water is used to break down and move materials throughout the body;11', 1), ('A dog is living;920', 1), ('When an object travels slowly over a bumpy surface and fast over a smooth surface the difference is due to friction;1189', 2), ('Objects being pushed over a smooth surface will move easier due to less friction;1165', 2), ('Objects being pushed over a smooth surface will move easier due to less friction;1165', 4), ('A pulley is a simple machine that moves a sail up the mast of a ship;1170', 2), ('A hurricane can exist for many days as it moves across water and land;749', 2), ('A nonliving thing does not need anything to exist;30', 1), ('The smoother the surface, the less friction against an object, so the faster it will move;598', 3), ('A spring scale measures weight;848', 1), ('The smoother the surface, the less friction against an object, so the faster it will move;598', 4), ('Objects being pushed over a smooth surface will move easier due to less friction;1165', 3), ('A graph such as this might be used to show the number of students with different eye color for your entire class;903', 2), ('A rock is not a living thing;1179', 1)]"
       ]
      },
      {
       "output_type": "stream",
       "stream": "stdout",
       "text": [
        "\n",
        "best answer is: ---\n"
       ]
      },
      {
       "output_type": "stream",
       "stream": "stdout",
       "text": [
        "A student riding a bicycle observes that it moves faster on a smooth road than on a rough road . this happens because the smooth road has less friction . [4.0, 0, 6.5, 0] [5.6344400330771354, 4.4935522088649407, 3.39987287324097, 1.9331194685807109]\n",
        "---------------------------------------------\n",
        "In getCandidate question is a butterfly is nonliving .\n",
        "In getCandidate question is a bicycle is nonliving ."
       ]
      },
      {
       "output_type": "stream",
       "stream": "stdout",
       "text": [
        "\n",
        "In getCandidate question is a bird is nonliving ."
       ]
      },
      {
       "output_type": "stream",
       "stream": "stdout",
       "text": [
        "\n",
        "In getCandidate question is a bear is nonliving ."
       ]
      },
      {
       "output_type": "stream",
       "stream": "stdout",
       "text": [
        "\n",
        "[('Mechanical energy changes to heat in bicycle brakes;558', 4), ('The way that humans treat the environment has a large effect on the survival of all living and nonliving things;446', 1), ('A bear would hibernate during the winter season;1157', 4), ('The shape, strength, and design of the beak varies depending on whether it is a bird of prey, a seed-eater, or a fish-eater;245', 4), ('A mountain is a nonliving thing that occurs in nature;912', 1), ('The butterfly is a consumer;1048', 4), ('Tadpoles change into frogs, caterpillars change into butterflies, and mealworms turn into beetles;43', 1), ('A butterfly is living;923', 4), ('A beak helps the bird capture and take in food;243', 4), ('Some nutrients can also be considered nonliving;934', 1), ('Air and water are two nonliving things that all living things need to survive;913', 1), ('A nonliving thing does not need anything to exist;30', 1), ('Examples of animals using plants for shelter are birds building a nest on tree branches and squirrels living inside a tree trunk;941', 1), ('The world around us is made up of both living and nonliving things;1', 1), ('A bird or snake is a predator;1056', 4), ('Friction is also the force exerted by brakes on a bicycle or car in order to stop;600', 4), ('As humans construct new homes and buildings they change the landscape of the nonliving environment;452', 1), ('Friction is the force that slows down or stops the motion of a bicycle;1094', 4), ('Compare the various beaks shown below and think about what type of food each bird eats;244', 4), ('A mountain is nonliving;922', 1), ('An ecosystem is a community of all the living and nonliving parts of an environment;388', 1)]"
       ]
      },
      {
       "output_type": "stream",
       "stream": "stdout",
       "text": [
        "\n",
        "best answer is: ---\n",
        "a butterfly is nonliving . [6.5, 6.5, 6.5, 6.5] [inf, inf, inf, inf]\n",
        "---------------------------------------------\n",
        "In getCandidate question is an example of a learned trait is being able to read .\n",
        "In getCandidate question is an example of a learned trait is having a scar ."
       ]
      },
      {
       "output_type": "stream",
       "stream": "stdout",
       "text": [
        "\n",
        "In getCandidate question is an example of a learned trait is having brown eyes ."
       ]
      },
      {
       "output_type": "stream",
       "stream": "stdout",
       "text": [
        "\n",
        "In getCandidate question is an example of a learned trait is being able to breathe ."
       ]
      },
      {
       "output_type": "stream",
       "stream": "stdout",
       "text": [
        "\n",
        "[('Characteristics that are passed from a parent to child are called traits;1021', 1), ('Plants are able to make their own food by a process called photosynthesis;928', 1), ('While plants are able to make their own food by photosynthesis they need sunlight and water to do so;391', 1), ('For example, if you fall and get a deep cut that leaves a scar, you would not pass the scar to your offspring;337', 5), ('An example of the transfer of chemical energy to electrical energy is between battery and light bulb;1188', 1), ('A snowball melting in your hand is an example of heat energy;1081', 1), ('You cannot pass these traits to your offspring through your genes;341', 1), ('A graph such as this might be used to show the number of students with different eye color for your entire class;903', 1), ('Mendel researched how pea plants pass on their traits from one generation of plant to the next;305', 1), (\"We are able to see the moon in the sky because the sun's light is reflected off of the moon;1102\", 1), ('Being able to read a book is not an inherited characteristic;1155', 8), ('In the previous chapter we learned about work and energy;619', 1), ('Usually your body can heal from a cut without any scar remaining;289', 4), ('Many animals are able to change their body with the seasons;214', 1), ('A trait could be the color of your hair, skin, and eyes, your height, and the shape of your face, ears, and nose;295', 2), ('Some traits that can be inherited are color of hair, color of skin, color of eyes, and height;1023', 2), ('The leaves contain chlorophyll and are able to move toward the sun to collect light for the plant to perform photosynthesis;952', 1), ('Using your eyes to see that a banana is yellow is an example of using your senses to make an observation;1075', 2), ('Some traits that can be inherited are color of hair, color of skin, color of eyes, and height;1023', 1), ('Some examples are the frog, beetle, and ladybug;266', 1)]"
       ]
      },
      {
       "output_type": "stream",
       "stream": "stdout",
       "text": [
        "\n",
        "best answer is: ---\n"
       ]
      },
      {
       "output_type": "stream",
       "stream": "stdout",
       "text": [
        "an example of a learned trait is being able to read . [13.0, 11.5, 6.5, 1.5] [2.3041815831343726, 2.2391773782063078, 2.0087700357486149, 1.6515061157769559]\n",
        "---------------------------------------------\n",
        "In getCandidate question is grow and reproduce are carried out by all species of living things .\n",
        "In getCandidate question is hibernate and take in nutrients are carried out by all species of living things ."
       ]
      },
      {
       "output_type": "stream",
       "stream": "stdout",
       "text": [
        "\n",
        "In getCandidate question is make food and eliminate waste are carried out by all species of living things ."
       ]
      },
      {
       "output_type": "stream",
       "stream": "stdout",
       "text": [
        "\n",
        "In getCandidate question is migrate and seek shelter are carried out by all species of living things ."
       ]
      },
      {
       "output_type": "stream",
       "stream": "stdout",
       "text": [
        "\n",
        "[('Growth, taking in nutrients, breathing, and reproduction are the life processes of all living things;1187', 3), ('Living things need specific resources for survival such as air, food, and water;390', 2), ('Humans have changed their environment by developing communities in areas where living things had to struggle to survive;464', 2), ('Living things need to take in nutrients so that they can grow and create energy;916', 3), ('It does not grow or reproduce and it is not alive;31', 8), ('Plants make their own food by a process called photosynthesis;18', 2), ('In addition to food, shelter, and energy, humans manufacture (produce) goods that make life more comfortable;458', 2), (\"Producers are living things that change the sun's energy to make their own food;420\", 2), ('Decomposers are living things that break down dead organisms and recycle their nutrients into the soil;426', 3), ('Examples of animals using plants for shelter are birds building a nest on tree branches and squirrels living inside a tree trunk;941', 2), ('The way that humans treat the environment has a large effect on the survival of all living and nonliving things;446', 2), ('Living things must reproduce and have babies so that their species will continue;258', 2), ('They can grow, take in nutrients, breathe, reproduce, eliminate waste, and die;37', 8), ('DNA tells all living things what it should look like;315', 2), ('All animals grow, take in nutrients, breathe, reproduce, eliminate waste, and die;138', 8), ('Plants are the only living organism that can make its own food;76', 3), ('All living things need nutrients to survive;49', 3), (\"Producers are living things that change the sun's energy to make their own food;420\", 4), ('All living things grow and have a life cycle;41', 2), ('Fecal wastes are made from unused foods that an animal has eaten;918', 2), ('All living things must be able to get rid of the solid waste that they produce;64', 3), ('All living things grow and have a life cycle;41', 3), ('Decomposers are living things that break down dead organisms and recycle their nutrients into the soil;426', 2), ('Air and water are two nonliving things that all living things need to survive;913', 2), ('Living things need food, water, and air to survive;1172', 2), ('The world around us is made up of both living and nonliving things;1', 2), ('Living things must reproduce and have babies so that their species will continue;258', 3)]"
       ]
      },
      {
       "output_type": "stream",
       "stream": "stdout",
       "text": [
        "\n",
        "best answer is: ---\n"
       ]
      },
      {
       "output_type": "stream",
       "stream": "stdout",
       "text": [
        "grow and reproduce are carried out by all species of living things . [13.0, 1.5, 3.0, 0.5] [2.4017483940743403, 1.9523066153941575, 2.0181598222642392, 1.7981026219234462]\n",
        "---------------------------------------------\n",
        "In getCandidate question is A fox grows thicker fur as a season changes . this adaptation helps the fox to keep warmer .\n",
        "In getCandidate question is A fox grows thicker fur as a season changes . this adaptation helps the fox to grow stronger ."
       ]
      },
      {
       "output_type": "stream",
       "stream": "stdout",
       "text": [
        "\n",
        "In getCandidate question is A fox grows thicker fur as a season changes . this adaptation helps the fox to escape from predators ."
       ]
      },
      {
       "output_type": "stream",
       "stream": "stdout",
       "text": [
        "\n",
        "In getCandidate question is A fox grows thicker fur as a season changes . this adaptation helps the fox to find food ."
       ]
      },
      {
       "output_type": "stream",
       "stream": "stdout",
       "text": [
        "\n",
        "[('Brushing our teeth removes the food and helps keep them strong;352', 2), ('Lobsters and crabs protect themselves with their claws, turtles have shells, porcupines have spines, birds use their feathers, and others have fur or scales to help protect them from predators;195', 2), ('A beak helps the bird capture and take in food;243', 2), ('Animals take in food as a nutrient to give them energy and help them grow;50', 2), ('A plant in a food chain is called the producer;1163', 2), ('Many animals are able to change their body with the seasons;214', 2), ('Some animals grow thicker fur in the winter and shed it in the warmer months;216', 3), ('A fish has a flipper or fin that helps them swim;1000', 2), (\"Producers are living things that change the sun's energy to make their own food;420\", 2), ('They were made by humans but cannot change or grow on their own;34', 2), ('When animals move to a warmer climate to avoid the change in seasons, we call this migration;989', 3), (\"Think of a lion's golden fur, which helps it blend into the desert landscape;198\", 2), ('Lobsters and crabs protect themselves with their claws, turtles have shells, porcupines have spines, birds use their feathers, and others have fur or scales to help protect them from predators;195', 3), ('Ways that animals respond to changes in their environment, such as seasonal changes include hibernation, migration, growing thick fur, or shivering;983', 2), ('Plants get their nutrients from the soil, which helps them grow and perform photosynthesis;51', 2), ('Some animals grow thick fur in winter to stay warm;986', 2), ('A beak helps the bird capture and take in food;243', 3), ('Some animals grow thicker fur in the winter and shed it in the warmer months;216', 2), ('When animals move to a warmer climate to avoid the change in seasons, we call this migration;989', 2), (\"A giraffe's long neck is a trait that can be considered an adaptation;997\", 2), ('All animals need to sense their surroundings, respond to environmental changes, know where and how to find food, care for their young, and many other things;176', 3), ('A bird or snake is a predator;1056', 2)]"
       ]
      },
      {
       "output_type": "stream",
       "stream": "stdout",
       "text": [
        "\n",
        "best answer is: ---\n"
       ]
      },
      {
       "output_type": "stream",
       "stream": "stdout",
       "text": [
        "A fox grows thicker fur as a season changes . this adaptation helps the fox to find food . [1.5, 0.5, 0, 18.0] [2.0406953678599464, 1.9189610087535252, 1.9025618125874759, 2.2175681654262327]\n",
        "---------------------------------------------\n",
        "In getCandidate question is exercising every day is an example of a good health habit .\n",
        "In getCandidate question is eating candy is an example of a good health habit ."
       ]
      },
      {
       "output_type": "stream",
       "stream": "stdout",
       "text": [
        "\n",
        "In getCandidate question is smoking cigarettes is an example of a good health habit ."
       ]
      },
      {
       "output_type": "stream",
       "stream": "stdout",
       "text": [
        "\n",
        "In getCandidate question is watching television is an example of a good health habit ."
       ]
      },
      {
       "output_type": "stream",
       "stream": "stdout",
       "text": [
        "\n",
        "[('For example, when it is winter in the northern hemisphere the southern hemisphere experiences summer;774', 1), ('Eating candy for diner is an example of a poor health habit;1164', 4), ('An example of the transfer of chemical energy to electrical energy is between battery and light bulb;1188', 1), ('A snowball melting in your hand is an example of heat energy;1081', 1), ('The sun, moon, and certain stars can be seen every day and night in our sky;646', 2), ('Eating candy for dinner is an example of a poor health habit;1045', 3), ('Brushing your teeth in the morning and before going to bed is another important part of having good health;350', 2), ('Plant growth was measured every day for two weeks after the first appearance of a seedling;876', 2), ('The chemicals from smoking can also cause very serious diseases such as lung cancer;361', 1), ('The moon makes a complete orbit around the Earth once every 29 1/2 days;679', 2), ('Being healthy also includes good health habits;345', 3), ('In addition to food, shelter, and energy, humans manufacture (produce) goods that make life more comfortable;458', 1), ('Eating candy for dinner is an example of a poor health habit;1045', 4), (\"When we get a good night's sleep we are able to better concentrate in school and find it easier to complete our work;385\", 1), ('Eating candy for diner is an example of a poor health habit;1164', 3), ('Earthquakes occur every day all over Earth;833', 2), ('Some examples are the frog, beetle, and ladybug;266', 1)]"
       ]
      },
      {
       "output_type": "stream",
       "stream": "stdout",
       "text": [
        "\n",
        "best answer is: ---\n"
       ]
      },
      {
       "output_type": "stream",
       "stream": "stdout",
       "text": [
        "eating candy is an example of a good health habit . [10, 23.0, 4, 5] [1.9864400635708717, 2.3144156669038818, 1.8794707941825646, 1.8973784771949322]\n",
        "---------------------------------------------\n",
        "In getCandidate question is a decomposer is an organism that breaks down dead plants and animals .\n",
        "In getCandidate question is a decomposer is an organism that migrates for the winter ."
       ]
      },
      {
       "output_type": "stream",
       "stream": "stdout",
       "text": [
        "\n",
        "In getCandidate question is a decomposer is an organism that uses water and sunlight to make food ."
       ]
      },
      {
       "output_type": "stream",
       "stream": "stdout",
       "text": [
        "\n",
        "In getCandidate question is a decomposer is an organism that hunts and eats animals ."
       ]
      },
      {
       "output_type": "stream",
       "stream": "stdout",
       "text": [
        "\n",
        "[('For example, when it is winter in the northern hemisphere the southern hemisphere experiences summer;774', 1), ('When a fruit is moved by an animal or falls to the ground and breaks open the seeds can fall out and grow into new plants;958', 3), ('Examples of animals using plants for shelter are birds building a nest on tree branches and squirrels living inside a tree trunk;941', 2), ('All animals depend on plants either as a direct source of food and energy or because plants are food for another animal that they eat;414', 2), ('Plants need water, light, air, and food to survive;960', 2), ('Growth is the process by which plants and animals increase in size;280', 2), ('Other living organisms depend on plants to survive;78', 2), ('Some animals are born as one type of organism and as they grow they go into a changing stage called metamorphosis;42', 2), ('Decomposers are living things that break down dead organisms and recycle their nutrients into the soil;426', 3), ('Decomposers are living things that break down dead organisms and recycle their nutrients into the soil;426', 1), ('Air and water are necessary for both plants and animals to survive;911', 2), ('The health, growth, and development of organisms are affected by environmental conditions such as the availability of food, air, water, space, shelter, heat, and sunlight;279', 4), (\"An organism's pattern of behavior is related to the nature of that organism's environment;405\", 1), ('Hibernation is going into a dormant state for the winter;984', 1), ('As the physical environment changes over time, plants and animals change and so do the relationships within the ecosystem;404', 2), ('Examples of animals using plants for shelter are birds building a nest on tree branches and squirrels living inside a tree trunk;941', 1), ('This is evident by how tall or big the organism grows;283', 1), ('Problems arise when the balance between the organisms and the available resources and space changes;402', 1), ('Leaves make food using water, sunlight, nutrients, and chlorophyll;103', 4), ('Fecal wastes are made from unused foods that an animal has eaten;918', 1), ('All animals depend on plants either as a direct source of food and energy or because plants are food for another animal that they eat;414', 1), ('Provided there are enough resources for plants and animals they can survive in a successful (balanced) ecosystem community for long periods of time;398', 2), ('Plants are the only living organism that can make its own food;76', 3), ('Many organisms look very similar to other organisms because they may be from the same species;322', 1), ('If the living organism does not get the air, water, food, nutrients, or light it needs to survive it will die;24', 3), ('Growth is the process by which plants and animals increase in size;280', 1), ('Many animals are able to change their body with the seasons;214', 1), ('In addition to food, shelter, and energy, humans manufacture (produce) goods that make life more comfortable;458', 2), ('When plants make food, they give off oxygen and water;943', 3), ('Changes in the weather, too much rainfall, and severe cold or heat affect plants and animals;407', 2), ('While plants are able to make their own food by photosynthesis they need sunlight and water to do so;391', 4), ('Other living organisms depend on plants to survive;78', 1), ('Some animals are born as one type of organism and as they grow they go into a changing stage called metamorphosis;265', 2), ('When some animals prepare for the long winters by storing food and going dormant it is called hibernation;1190', 1), ('Plants and animals closely resemble their parents and other individuals in their species because of their DNA;1194', 1), ('Photosynthesis is a process by which plants make their own food and give off oxygen and water that they are not using;80', 3), ('Living things need food, water, and air to survive;1172', 2), ('Ecology is the science that studies the relationships between organisms and their environments;386', 1)]"
       ]
      },
      {
       "output_type": "stream",
       "stream": "stdout",
       "text": [
        "\n",
        "best answer is: ---\n"
       ]
      },
      {
       "output_type": "stream",
       "stream": "stdout",
       "text": [
        "a decomposer is an organism that uses water and sunlight to make food . [0, 0, 9.5, 0] [1.9272304973487895, 1.9033328928358784, 2.5006312120636522, 1.9060752270987169]\n",
        "---------------------------------------------\n",
        "In getCandidate question is sunlight is the main source of energy for the water cycle .\n",
        "In getCandidate question is electricity is the main source of energy for the water cycle ."
       ]
      },
      {
       "output_type": "stream",
       "stream": "stdout",
       "text": [
        "\n",
        "In getCandidate question is erosion is the main source of energy for the water cycle ."
       ]
      },
      {
       "output_type": "stream",
       "stream": "stdout",
       "text": [
        "\n",
        "In getCandidate question is gravity is the main source of energy for the water cycle ."
       ]
      },
      {
       "output_type": "stream",
       "stream": "stdout",
       "text": [
        "\n",
        "[('Examples of erosion include:;823', 4), ('Adaptation examples can include: roses have thorns for protection, cactus hold water to survive in the desert, and palm trees have wide leaves to absorb extra sunlight;959', 5), (\"The Earth's main source of energy is the sun;1156\", 3), ('For example, some metal objects allow heat and electricity to transfer better than do plastic or rubber objects;570', 4), ('As the Earth revolves around the sun, its position changes and the amount of sunlight received by Earth also changes;661', 4), ('A simple circuit generally involves a battery, or other source of electrons, wires through which the energy can flow, and the object that needs the energy to work, such as a light bulb;580', 2), ('Rocks are weathered, broken down, and then carried away through the action of erosion;829', 4), ('When you jump up in the air, you come back down to the ground due to gravity;1158', 4), ('The sun is the ultimate source of energy for all life and physical cycles on Earth;1046', 3), ('While plants are able to make their own food by photosynthesis they need sunlight and water to do so;391', 5), ('The health, growth, and development of organisms are affected by environmental conditions such as the availability of food, air, water, space, shelter, heat, and sunlight;279', 5), ('The sun is the ultimate source of energy for all life and physical cycles on Earth;394', 3), ('The astronaut does not experience gravity while in outer space;1198', 4), ('Weathering, erosion, and deposition result from the interactions between air, land, and water;806', 5), ('The plant gets the energy to go through photosynthesis from sunlight;944', 5), (\"Half of the moon's surface is continually lit by reflected sunlight;678\", 4), ('The leaves of the plant absorb sunlight;947', 4), ('Leaves make food using water, sunlight, nutrients, and chlorophyll;103', 5), ('It is gravity that keeps everything from flying away;617', 4), ('The force that pulls objects toward the Earth is gravity;1166', 4), ('The processes of weathering and erosion change the landscape of the Earth on a daily basis;807', 4), ('All animals depend on plants either as a direct source of food and energy or because plants are food for another animal that they eat;414', 2), ('The movement of water between the ground, surface, and air is referred to as the water cycle;798', 2), ('Water, wind, and gravity are all forces involved in erosion;822', 4), ('The processes of weathering and erosion work together over time;828', 4), ('Eventually, the particles that are being moved by water, wind, and/or gravity will stop moving;830', 5), ('When an object joins two wires and a bulb lights, the object is able to conduct electricity;1169', 4), ('The energy from the sun heated the water and caused it to evaporate - change from liquid water to water vapor;788', 2), ('The water cycle involves movement of water between air and land;1127', 2)]"
       ]
      },
      {
       "output_type": "stream",
       "stream": "stdout",
       "text": [
        "\n",
        "best answer is: ---\n"
       ]
      },
      {
       "output_type": "stream",
       "stream": "stdout",
       "text": [
        "electricity is the main source of energy for the water cycle . [11.5, 5, 6.5, 6.5] [10.643224881142746, 19.403334534861187, 14.135936154814774, 13.657862542245624]\n",
        "---------------------------------------------\n",
        "In getCandidate question is using solar energy is most harmful to the natural environment .\n",
        "In getCandidate question is swimming in a lake is most harmful to the natural environment ."
       ]
      },
      {
       "output_type": "stream",
       "stream": "stdout",
       "text": [
        "\n",
        "In getCandidate question is cutting down a rain forest is most harmful to the natural environment ."
       ]
      },
      {
       "output_type": "stream",
       "stream": "stdout",
       "text": [
        "\n",
        "In getCandidate question is riding a bicycle is most harmful to the natural environment ."
       ]
      },
      {
       "output_type": "stream",
       "stream": "stdout",
       "text": [
        "\n",
        "[('Humans use resources from the environment to create shelters and energy;436', 2), ('The way that humans treat the environment has a large effect on the survival of all living and nonliving things;446', 1), ('Humans have changed their environment by developing communities in areas where living things had to struggle to survive;464', 1), ('The water that falls can be in liquid form, such as rain, or in solid form, such as snow;796', 1), ('By using materials that are found naturally in the environment humans must be responsible and make sure that they do not create problems for nature;437', 2), ('Humans are dependent upon their environment for food, shelter, and energy;1061', 2), ('Building shelters, using energy, manufacturing goods, and the various forms of transportation are some of the ways humans have created pollution;462', 2), ('Sleet is freezing rain falling from the sky;726', 1), ('Humans are dependent upon the environment for food, shelter, and energy;431', 1), ('Feeding animals that have lost their natural resources due to the development of stores and homes;469', 1), ('Light changes to electrical energy in solar path lights;567', 2), ('Plants also take in carbon dioxide from the environment and return oxygen to the air for animals to use;392', 1), ('Energy from the sun is called solar energy;1090', 2), ('Humans depend on natural and constructed environments;445', 2), ('As humans construct new homes and buildings they change the landscape of the nonliving environment;452', 1), ('An object could have potential energy, which is stored or kinetic energy, meaning that the object is in motion while using its energy;524', 2), ('Drinking alcohol and/or taking illicit (not prescribed ) drugs are also very harmful to your body;363', 1), ('Light energy changes to electrical energy in a solar calculator;552', 2), ('Cigarettes are harmful to the human body;1193', 1), ('Humans are dependent upon the environment for food, shelter, and energy;431', 2), ('When a new community is built in the desert, humans may bring in plants that are not familiar to that environment;465', 1)]"
       ]
      },
      {
       "output_type": "stream",
       "stream": "stdout",
       "text": [
        "\n",
        "best answer is: ---\n"
       ]
      },
      {
       "output_type": "stream",
       "stream": "stdout",
       "text": [
        "cutting down a rain forest is most harmful to the natural environment . [0, 0, 1.5, 0] [3.5670293265926851, 3.453669978475836, 7.0167759670540262, 3.453282315258877]\n",
        "---------------------------------------------\n",
        "In getCandidate question is windy , cloudy , rainy , and cold are words that help describe weather .\n",
        "In getCandidate question is windy , cloudy , rainy , and cold are words that help describe matter ."
       ]
      },
      {
       "output_type": "stream",
       "stream": "stdout",
       "text": [
        "\n",
        "In getCandidate question is windy , cloudy , rainy , and cold are words that help describe evaporation ."
       ]
      },
      {
       "output_type": "stream",
       "stream": "stdout",
       "text": [
        "\n",
        "In getCandidate question is windy , cloudy , rainy , and cold are words that help describe deposition ."
       ]
      },
      {
       "output_type": "stream",
       "stream": "stdout",
       "text": [
        "\n",
        "[('Often the force we need in order to do the work is too much for one person and we need help;623', 1), ('Brushing our teeth removes the food and helps keep them strong;352', 1), ('Other conditions used to describe the weather include humidity and cloud cover;733', 5), ('Water from the oceans enters the atmosphere through evaporation;1132', 4), ('Some animals live a very different life in the warm weather than in the cold weather;222', 5), ('It has mass as well as volume, therefore it is considered matter;481', 4), ('Climate describes the weather conditions in an area over time;699', 4), ('Humans can help the environment in many ways:;468', 1), ('Erosion and deposition result from the interaction between air, water, and land;1197', 4), ('We wear winter coats, gloves, and hats when the weather is cold;215', 5), ('The phases of matter are solid, liquid, gas;1182', 4), ('Just as we can describe physical and chemical properties of matter we can describe the physical and chemical changes to matter;499', 5), ('When liquid water changes to water vapor it is called evaporation;1129', 4), ('Precipitation is the term used to describe water falling from the sky;1114', 1), ('This helps to regulate their body heat;217', 1), ('They also have very large ear flaps that help them hear;247', 1), ('Changes in the weather, too much rainfall, and severe cold or heat affect plants and animals;407', 5), ('In everyday life different forms of energy interact with matter;549', 4), ('Liquid water changing to water vapor is evaporation;1119', 4), ('The simplest way to observe matter is to use your senses: sight, sound, taste, touch, and hearing;486', 4), ('Each season has its distinct weather conditions, which will be discussed in the next chapter;672', 4), ('Weathering, erosion, and deposition result from the interactions between air, land, and water;806', 4), ('The particles of matter have the most definite shape in the solid phase;1074', 4), ('A meteorologist is a scientist who studies weather;1116', 4), ('Some weather instruments include:;701', 4), ('Have you ever watched the news and seen the weatherperson in front of a map explaining the weather?;740', 4), ('In addition to their senses, scientists often use tools and/or instruments to observe matter;487', 4), ('Physical changes are those that involve changing one or more of the physical properties of matter;500', 4), ('Dogs have legs to help them move;991', 1), ('Moving to a warmer climate in the cold months is another way some animals deal with changes in the weather;227', 5), ('In a glass of water that contains ice cubes we find two phases of matter: liquid and solid;1066', 4), ('Plants get their nutrients from the soil, which helps them grow and perform photosynthesis;51', 1), ('Sound is energy (noise) that we hear when matter vibrates and the particles in the matter hit each other;532', 4)]"
       ]
      },
      {
       "output_type": "stream",
       "stream": "stdout",
       "text": [
        "\n",
        "best answer is: ---\n"
       ]
      },
      {
       "output_type": "stream",
       "stream": "stdout",
       "text": [
        "windy , cloudy , rainy , and cold are words that help describe weather . [11.5, 11.5, 6.5, 6.5] [2.6089955444709996, 2.5993883700098079, 1.7194239267098892, 1.7194239267098892]\n",
        "---------------------------------------------\n",
        "In getCandidate question is sight can be used to determine an object 's ability to reflect light .\n",
        "In getCandidate question is hearing can be used to determine an object 's ability to reflect light ."
       ]
      },
      {
       "output_type": "stream",
       "stream": "stdout",
       "text": [
        "\n",
        "In getCandidate question is smell can be used to determine an object 's ability to reflect light ."
       ]
      },
      {
       "output_type": "stream",
       "stream": "stdout",
       "text": [
        "\n",
        "In getCandidate question is taste can be used to determine an object 's ability to reflect light ."
       ]
      },
      {
       "output_type": "stream",
       "stream": "stdout",
       "text": [
        "\n",
        "[('Pulleys are used to lift objects;633', 2), ('When an object joins two wires and a bulb lights, the object is able to conduct electricity;1169', 2), ('A microscope is used to view small objects;850', 2), ('The amount of force put on an object will determine how far and fast the object will move;590', 2), (\"If an object is thrown into the air, the force used will only allow it to travel a certain distance before the gravitational attraction between the object and the Earth causes it to fall back down to Earth 's surface;618\", 2), ('A hand lens used to view objects in more detail;851', 2), ('A simple circuit generally involves a battery, or other source of electrons, wires through which the energy can flow, and the object that needs the energy to work, such as a light bulb;580', 2), ('A balance is used to determine the mass of an object;1140', 3), (\"Clouds can block the Earth's ability to absorb light and heat from the sun and therefore can affect temperature;738\", 2), ('A force can also be used to change the direction that an object is moving;589', 2)]"
       ]
      },
      {
       "output_type": "stream",
       "stream": "stdout",
       "text": [
        "\n",
        "best answer is: ---\n",
        "sight can be used to determine an object 's ability to reflect light . [11.5, 11.5, 11.5, 11.5] [inf, inf, inf, inf]\n",
        "---------------------------------------------\n",
        "In getCandidate question is A student drops a ball . gravity causes the ball to fall to the ground .\n",
        "In getCandidate question is A student drops a ball . electricity causes the ball to fall to the ground ."
       ]
      },
      {
       "output_type": "stream",
       "stream": "stdout",
       "text": [
        "\n",
        "In getCandidate question is A student drops a ball . magnetism causes the ball to fall to the ground ."
       ]
      },
      {
       "output_type": "stream",
       "stream": "stdout",
       "text": [
        "\n",
        "In getCandidate question is A student drops a ball . friction causes the ball to fall to the ground ."
       ]
      },
      {
       "output_type": "stream",
       "stream": "stdout",
       "text": [
        "\n",
        "[('A spring scale measures weight;848', 1), ('A dog is living;920', 1), (\"If an object is thrown into the air, the force used will only allow it to travel a certain distance before the gravitational attraction between the object and the Earth causes it to fall back down to Earth 's surface;618\", 2), ('When a fruit is moved by an animal or falls to the ground and breaks open the seeds can fall out and grow into new plants;958', 2), ('Pulling down on the rope at side A will cause the box on the end of the rope at side B to be raised;636', 2), ('A graph such as this might be used to show the number of students with different eye color for your entire class;903', 2), ('A ball rolling down a hill is an example of kinetic energy;1089', 2), ('When the molecules become too heavy to stay in the air they fall to the ground in the form of precipitation;1135', 2), ('When you jump up in the air, you come back down to the ground due to gravity;1158', 2), ('A plant that lives in the desert might have a large root system to find water deep within the ground;963', 2), ('When precipitation falls to the Earth the water is eventually absorbed (taken in) by the ground;801', 2)]"
       ]
      },
      {
       "output_type": "stream",
       "stream": "stdout",
       "text": [
        "\n",
        "best answer is: ---\n"
       ]
      },
      {
       "output_type": "stream",
       "stream": "stdout",
       "text": [
        "A student drops a ball . electricity causes the ball to fall to the ground . [10.5, 5, 0, 0] [26.492528705652241, 27.266977717551867, 25.93392521438042, 15.563616602657094]\n",
        "---------------------------------------------\n",
        "In getCandidate question is when an ice cube melts , its state of matter changes from a liquid to a solid .\n",
        "In getCandidate question is when an ice cube melts , its state of matter changes from a solid to a gas ."
       ]
      },
      {
       "output_type": "stream",
       "stream": "stdout",
       "text": [
        "\n",
        "In getCandidate question is when an ice cube melts , its state of matter changes from a solid to a liquid ."
       ]
      },
      {
       "output_type": "stream",
       "stream": "stdout",
       "text": [
        "\n",
        "In getCandidate question is when an ice cube melts , its state of matter changes from a gas to a liquid ."
       ]
      },
      {
       "output_type": "stream",
       "stream": "stdout",
       "text": [
        "\n",
        "[('Water in the solid phase is often called ice;777', 2), ('Physical changes are those that involve changing one or more of the physical properties of matter;500', 2), ('The water that falls can be in liquid form, such as rain, or in solid form, such as snow;796', 8), ('The phases of matter are solid, liquid, gas;1182', 9), ('Freezing involves changing water from its liquid state to its solid state (ice) by the removal of heat;782', 3), ('Melting is the opposite of freezing and involves changing water from its solid state (ice) to a liquid state by the addition of heat;783', 3), ('Freezing involves changing water from its liquid state to its solid state (ice) by the removal of heat;782', 10), ('Melting is the opposite of freezing and involves changing water from its solid state (ice) to a liquid state by the addition of heat;783', 10), ('When water vapor changes to liquid water it is called condensation;1130', 2), ('Condensation is defined as the phase change from gas (vapor) to liquid;1124', 9), ('Matter exists in three phases: solid, liquid, and gas;482', 8), ('Water exists in three phases: solid, liquid, and gas;776', 8), ('The particles of matter have the most definite shape in the solid phase;1074', 2), ('In a glass of water that contains ice cubes we find two phases of matter: liquid and solid;1066', 11), ('Water is found in nature as a solid, liquid, and gas;1173', 8), ('To change an object from a solid to a liquid you must increase the temperature;1174', 9), ('In a glass of water that contains ice cubes we find two phases of matter: liquid and solid;1066', 4)]"
       ]
      },
      {
       "output_type": "stream",
       "stream": "stdout",
       "text": [
        "\n",
        "best answer is: ---\n"
       ]
      },
      {
       "output_type": "stream",
       "stream": "stdout",
       "text": [
        "when an ice cube melts , its state of matter changes from a liquid to a solid . [11.0, 4.5, 11.0, 8.0] [2.5122889318090902, 1.5263275856448359, 2.5122889318090902, 2.0132591694930611]\n",
        "---------------------------------------------\n",
        "In getCandidate question is meters can be used to describe an object 's length .\n",
        "In getCandidate question is minutes can be used to describe an object 's length ."
       ]
      },
      {
       "output_type": "stream",
       "stream": "stdout",
       "text": [
        "\n",
        "In getCandidate question is grams can be used to describe an object 's length ."
       ]
      },
      {
       "output_type": "stream",
       "stream": "stdout",
       "text": [
        "\n",
        "In getCandidate question is liters can be used to describe an object 's length ."
       ]
      },
      {
       "output_type": "stream",
       "stream": "stdout",
       "text": [
        "\n",
        "[('Pulleys are used to lift objects;633', 2), ('A microscope is used to view small objects;850', 2), ('Precipitation is the term used to describe water falling from the sky;1114', 2), (\"If an object is thrown into the air, the force used will only allow it to travel a certain distance before the gravitational attraction between the object and the Earth causes it to fall back down to Earth 's surface;618\", 2), ('A hand lens used to view objects in more detail;851', 2), ('Other conditions used to describe the weather include humidity and cloud cover;733', 2), ('A metric ruler can be used to measure the length of a stick;1147', 2), ('A ruler is used to measure the length of a piece of wood;1196', 2), ('A meter stick measures length;846', 2), ('A balance is used to determine the mass of an object;1140', 2), ('A force can also be used to change the direction that an object is moving;589', 2)]"
       ]
      },
      {
       "output_type": "stream",
       "stream": "stdout",
       "text": [
        "\n",
        "best answer is: ---\n"
       ]
      },
      {
       "output_type": "stream",
       "stream": "stdout",
       "text": [
        "meters can be used to describe an object 's length . [11.5, 11.5, 11.5, 11.5] [inf, inf, inf, inf]\n",
        "---------------------------------------------\n",
        "In getCandidate question is it takes one day for Earth to rotate on its axis seven times .\n",
        "In getCandidate question is it takes one month for Earth to rotate on its axis seven times ."
       ]
      },
      {
       "output_type": "stream",
       "stream": "stdout",
       "text": [
        "\n",
        "In getCandidate question is it takes one year for Earth to rotate on its axis seven times ."
       ]
      },
      {
       "output_type": "stream",
       "stream": "stdout",
       "text": [
        "\n",
        "In getCandidate question is it takes one week for Earth to rotate on its axis seven times ."
       ]
      },
      {
       "output_type": "stream",
       "stream": "stdout",
       "text": [
        "\n",
        "[('The Earth makes a complete rotation on its axis once every 24 hours;1100', 2), ('The Earth rotates, or spins, on its axis once every 24 hours;651', 2), ('Erosion is the process by which soil and or other Earth materials are moved from one place to another;821', 2), ('One complete revolution of the moon around the Earth takes approximately one month;1106', 3), ('This means that it takes approximately one month for the moon to completely revolve around the Earth;680', 3), ('The Earth takes one year to completely revolve around the sun;1110', 4), ('We see different planets throughout the year because of the motion of the Earth and the movement of the planets around the sun;647', 2), ('The moon makes a complete orbit around the Earth once every 29 1/2 days;679', 2), ('It takes the moon 1 month to circle the Earth;1199', 3), ('The Earth takes one year to completely revolve around the sun;1110', 3), ('Day and year, both units of time, are based on the motion of the Earth;1105', 2), ('As a result, one part of the Earth is always pointed toward the sun;665', 2), ('Because of the tilt and position of the Earth around the sun at different times of the year the two hemispheres experience opposite seasons;773', 2), ('It is the rotation of the Earth that makes the sun appear to move through the sky during the day, rising in the east and setting in the west;653', 2), ('Time units, such as seconds, minutes, hours, weeks, and months are based on the natural motions of the Earth;1184', 2), ('Because of the tilt and position of the Earth around the sun at different times of the year the two hemispheres experience opposite seasons;773', 3), ('This means that it takes approximately one month for the moon to completely revolve around the Earth;680', 4), ('The Earth is tilted on its axis;664', 2), ('One complete revolution of the moon around the Earth takes approximately one month;1106', 4), ('Earthquakes occur every day all over Earth;833', 2), ('It can take thousands of years for certain fossil fuels to be created;443', 2), ('This could be air temperature at different times of the day or the temperature of water as it is heated;899', 2)]"
       ]
      },
      {
       "output_type": "stream",
       "stream": "stdout",
       "text": [
        "\n",
        "best answer is: ---\n"
       ]
      },
      {
       "output_type": "stream",
       "stream": "stdout",
       "text": [
        "it takes one month for Earth to rotate on its axis seven times . [6.5, 24.5, 24.5, 12.0] [1.823175749419595, 2.2232758395998826, 2.1144630996561458, 1.912595827387662]\n",
        "---------------------------------------------\n",
        "In getCandidate question is mechanical energy is being used when a person pushes a wooden block across the floor .\n",
        "In getCandidate question is electrical energy is being used when a person pushes a wooden block across the floor ."
       ]
      },
      {
       "output_type": "stream",
       "stream": "stdout",
       "text": [
        "\n",
        "In getCandidate question is magnetic energy is being used when a person pushes a wooden block across the floor ."
       ]
      },
      {
       "output_type": "stream",
       "stream": "stdout",
       "text": [
        "\n",
        "In getCandidate question is sound is being used when a person pushes a wooden block across the floor ."
       ]
      },
      {
       "output_type": "stream",
       "stream": "stdout",
       "text": [
        "\n",
        "[('The energy transformation that occurs when you ring a door bell is electrical energy to sound;1091', 4), ('Mechanical energy changes to sound in a piano;559', 4), ('When you turn on your television, electrical energy is transferred into sound and light energy;1175', 5), ('The amount of energy transferred during a flow of electrical energy depends on the energy source and the properties of the object;577', 5), ('An example of the transfer of chemical energy to electrical energy is between battery and light bulb;1188', 5), ('A complete circuit allows electrical energy to flow;576', 5), ('The simplest way to observe matter is to use your senses: sight, sound, taste, touch, and hearing;486', 4), ('Electrical energy changes to sound energy in a door buzzer;554', 4), ('Playing a guitar is an example of mechanical energy changing to sound energy;1086', 4), ('The space around the magnet is called the magnetic field;606', 4), ('Pounding a fist on a table is an example of mechanical energy changing to to sound energy;1083', 4), ('Heat, electric, sound, chemical, mechanical, and light are all examples of different forms of energy;528', 5), ('A blender is an example of electrical energy changing to mechanical energy;1087', 5), ('The energy transformation that occurs when you ring a door bell is electrical energy to sound;1091', 5), ('If you were to place a magnet under a piece of paper and sprinkle iron filings on the paper you would be able to see the magnetic field of the magnet;607', 4), ('Banging a drum is an example of mechanical energy;1082', 5), ('As the distance between the objects increases the magnetic force of attraction decreases;614', 4), ('Mechanical energy changes to sound energy by playing a musical instrument;555', 4), ('Light energy changes to electrical energy in a solar calculator;552', 5), ('A car engine is an example of chemical energy changing to mechanical energy;1088', 5), ('Drying clothes in a clothes dryer is an example of electrical energy changing to heat energy;1084', 5), ('Iron and steel are more magnetic than wood or plastic;571', 4), ('Heat, electric, sound, chemical, mechanical, and light are all examples of different forms of energy;528', 4), ('Chemical energy changes to electrical energy in a battery;564', 5), ('The box pushed across the floor will eventually stop because of the force, or friction, the floor has on the box;596', 2), ('Chemical energy changes to mechanical energy in a gasoline engine;565', 5), ('Magnetic energy changes to mechanical energy in a magnetic door latch;566', 5), ('If the box were empty and you gave it a push it would easily move across the floor;593', 3), ('Playing a guitar is an example of mechanical energy changing to sound energy;1086', 5), ('Mechanical energy exerted by one object can push or pull another object;544', 2), ('Heat changes to sound in a tea kettle;560', 4), ('Electrical energy changes to mechanical energy in a food mixer;562', 5), ('Pounding a fist on a table is an example of mechanical energy changing to to sound energy;1083', 5), ('Light changes to electrical energy in solar path lights;567', 5), ('Physical properties include: color, hardness, odor, sound, taste, texture, and size;495', 4), ('Think about moving a box across a wood floor;592', 2), ('A magnet detects magnetic properties;852', 4)]"
       ]
      },
      {
       "output_type": "stream",
       "stream": "stdout",
       "text": [
        "\n",
        "best answer is: ---\n"
       ]
      },
      {
       "output_type": "stream",
       "stream": "stdout",
       "text": [
        "sound is being used when a person pushes a wooden block across the floor . [6.5, 5.5, 6.5, 10.5] [21.651957534519497, 21.380771093841531, 21.651957534519497, 33.645113111802317]\n",
        "---------------------------------------------\n",
        "In getCandidate question is A student measured the volume of water in a pan . The student boiled the water for thirty minutes and then measured the volume of the water again . the volume of water most likely remained the same .\n",
        "In getCandidate question is A student measured the volume of water in a pan . The student boiled the water for thirty minutes and then measured the volume of the water again . the volume of water most likely increased ."
       ]
      },
      {
       "output_type": "stream",
       "stream": "stdout",
       "text": [
        "\n",
        "In getCandidate question is A student measured the volume of water in a pan . The student boiled the water for thirty minutes and then measured the volume of the water again . the volume of water most likely decreased ."
       ]
      },
      {
       "output_type": "stream",
       "stream": "stdout",
       "text": [
        "\n",
        "[('The roots of the plant take in water and nutrients;1160', 2), ('The water that falls can be in liquid form, such as rain, or in solid form, such as snow;796', 2), ('A scientist would use a graduated cylinder to measure the volume of a liquid;1072', 2), ('The tool that is used to measure the volume of a liquid is a graduated cylinder;1161', 2), ('After a few minutes water droplets appeared on the outside of your glass;792', 2), ('A graph such as this might be used to show the number of students with different eye color for your entire class;903', 2), ('The urinary system is responsible for getting rid of chemical waste and water;980', 2), ('A graduated Cylinder measures volume;492', 2), ('The water cycle involves movement of water between air and land;1127', 2), ('The stem is the pathway of water and nutrients from the roots to the leaves;949', 2)]"
       ]
      },
      {
       "output_type": "stream",
       "stream": "stdout",
       "text": [
        "\n",
        "best answer is: ---\n",
        "A student measured the volume of water in a pan . The student boiled the water for thirty minutes and then measured the volume of the water again . the volume of water most likely remained the same . [0, 0, 0] [1.0001260518277828, 1.0001260479720833, 1.0001260479720833]\n",
        "---------------------------------------------\n",
        "In getCandidate question is a thick fur would best help a bear to survive a winter in New York State .\n",
        "In getCandidate question is brown eyes would best help a bear to survive a winter in New York State ."
       ]
      },
      {
       "output_type": "stream",
       "stream": "stdout",
       "text": [
        "\n",
        "In getCandidate question is big ears would best help a bear to survive a winter in New York State ."
       ]
      },
      {
       "output_type": "stream",
       "stream": "stdout",
       "text": [
        "\n",
        "In getCandidate question is a black nose would best help a bear to survive a winter in New York State ."
       ]
      },
      {
       "output_type": "stream",
       "stream": "stdout",
       "text": [
        "\n",
        "[(\"A bear's fur would be thickest during winter;1015\", 3), ('A southwest wind would bring warm air to New York from the south, but a northeast wind would most likely bring cold, wet winds;714', 3), ('Some animals grow thick fur in winter to stay warm;986', 3), ('The body systems work like a machine and each system works to help the animal grow, create energy, and survive;148', 2), (\"A bear's fur would be thickest during winter;1015\", 4), (\"Think of a lion's golden fur, which helps it blend into the desert landscape;198\", 2), ('A bear would hibernate during the winter season;1157', 3), ('Ways that animals respond to changes in their environment, such as seasonal changes include hibernation, migration, growing thick fur, or shivering;983', 2), ('The white sheet of paper would become a pile of black ashes;513', 2), ('They also have very large ear flaps that help them hear;247', 2), ('Each organ system has a specific function that helps the organism to survive;147', 2), ('Depending on how the organism lives, their arm and/or wing adapted to help it survive;241', 2), ('Nutrients are taken in through the roots from the soil and help the plant survive;87', 2), ('In the northern hemisphere, where New York State is located, the seasons are divided as follows:;667', 3), ('The saying, \"survival of the fittest\", means that those who are best adapted will survive over those who are not;233', 2), ('The shortest number of daylight hours in New York State occurs during December;1103', 3)]"
       ]
      },
      {
       "output_type": "stream",
       "stream": "stdout",
       "text": [
        "\n",
        "best answer is: ---\n"
       ]
      },
      {
       "output_type": "stream",
       "stream": "stdout",
       "text": [
        "a thick fur would best help a bear to survive a winter in New York State . [18.0, 5, 5, 5] [2.3897041159498853, 1.9037714540224984, 1.9329789560219615, 1.9036161983919191]\n",
        "---------------------------------------------\n",
        "In getCandidate question is all animals do need water , air , and food in order to survive .\n",
        "In getCandidate question is all animals do need food , soil , and sunlight in order to survive ."
       ]
      },
      {
       "output_type": "stream",
       "stream": "stdout",
       "text": [
        "\n",
        "In getCandidate question is all animals do need air , rocks , and sunlight in order to survive ."
       ]
      },
      {
       "output_type": "stream",
       "stream": "stdout",
       "text": [
        "\n",
        "In getCandidate question is all animals do need rocks , water , and soil in order to survive ."
       ]
      },
      {
       "output_type": "stream",
       "stream": "stdout",
       "text": [
        "\n",
        "[('All animals need to take in food, water, and nutrients (vitamins and minerals) to survive;149', 4), ('Plants need air, water, nutrients, and light to live and survive;14', 3), ('Plants need air, water, nutrients, and light to grow and survive;925', 3), ('Living things need food, water, and air to survive;1172', 14), ('Animals need air, food, and water to live and survive;927', 14), ('While plants are able to make their own food by photosynthesis they need sunlight and water to do so;391', 3), ('Animals need air, food, and water to live and survive;927', 3), ('Animals need air, water, and food to live and survive;6', 3), ('Living things need food, water, and air to survive;1172', 3), ('Air and water are two nonliving things that all living things need to survive;913', 3), ('Living things need specific resources for survival such as air, food, and water;390', 13), ('If the living organism does not get the air, water, food, nutrients, or light it needs to survive it will die;24', 14), ('Three things that you need to live and survive are air, water, and food;907', 14), ('Animals require air, water, and food in order to live and survive;137', 14), ('Animals need air, water, and food to live and survive;6', 14), ('Plants need water, light, air, and food to survive;960', 3), ('If the living organism does not get the air, water, food, nutrients, or light it needs to survive it will die;24', 3), ('All animals need to take in oxygen in order to survive;157', 4), ('Air and water are necessary for both plants and animals to survive;911', 3), ('Animals need air, water, and food to survive;978', 14), ('Plants need water, light, air, and food to survive;960', 14), ('Oxygen allows the animal to make and use energy, which it needs to survive;9', 3), ('The health, growth, and development of organisms are affected by environmental conditions such as the availability of food, air, water, space, shelter, heat, and sunlight;279', 12), ('They give off oxygen, which animals need to survive;85', 3)]"
       ]
      },
      {
       "output_type": "stream",
       "stream": "stdout",
       "text": [
        "\n",
        "best answer is: ---\n"
       ]
      },
      {
       "output_type": "stream",
       "stream": "stdout",
       "text": [
        "all animals do need water , air , and food in order to survive . [29.5, 8.0, 6.5, 6.5] [2.2282681801461801, 1.9491074615197572, 1.9327477270567286, 1.9340018042735156]\n",
        "---------------------------------------------\n",
        "In getCandidate question is During winter , the white fur of an arctic fox blends in with the snow . this adaptation is called camouflage .\n",
        "In getCandidate question is During winter , the white fur of an arctic fox blends in with the snow . this adaptation is called migration ."
       ]
      },
      {
       "output_type": "stream",
       "stream": "stdout",
       "text": [
        "\n",
        "In getCandidate question is During winter , the white fur of an arctic fox blends in with the snow . this adaptation is called movement ."
       ]
      },
      {
       "output_type": "stream",
       "stream": "stdout",
       "text": [
        "\n",
        "In getCandidate question is During winter , the white fur of an arctic fox blends in with the snow . this adaptation is called hibernation ."
       ]
      },
      {
       "output_type": "stream",
       "stream": "stdout",
       "text": [
        "\n",
        "[('Different organs working together are called organ systems;145', 1), ('The water that falls can be in liquid form, such as rain, or in solid form, such as snow;796', 1), ('Sleet and snow are more common in the winter months when the temperature is cold enough to freeze water;729', 2), ('When some animals prepare for the long winters by storing food and going dormant it is called hibernation;1190', 2), ('Hibernation is going into a dormant state for the winter;984', 1), ('Genetic information is organized on very tiny structures in the cell called DNA (DeoxyriboNucleic Acid);311', 1), (\"Think of a lion's golden fur, which helps it blend into the desert landscape;198\", 2), ('This is called migration;228', 2), ('Ways that animals respond to changes in their environment, such as seasonal changes include hibernation, migration, growing thick fur, or shivering;983', 2), (\"A bear's fur would be thickest during winter;1015\", 2), ('Some animals prepare for the long winter by going into hibernation;990', 2), ('Some animals grow thick fur in winter to stay warm;986', 2), ('Some animals grow thicker fur in the winter and shed it in the warmer months;216', 2), ('When some animals prepare for the long winters by storing food and going dormant it is called hibernation;1190', 3), ('The movement of the moon around the Earth is called revolution;675', 2)]"
       ]
      },
      {
       "output_type": "stream",
       "stream": "stdout",
       "text": [
        "\n",
        "best answer is: ---\n",
        "During winter , the white fur of an arctic fox blends in with the snow . this adaptation is called hibernation . [0, 11.5, 11.5, 11.5] [1.6568479436044072, 2.1471470485317745, 2.1192641144775752, 2.2494200350862004]\n",
        "---------------------------------------------\n",
        "In getCandidate question is since green plants make their own food , they are called producers .\n",
        "In getCandidate question is since green plants make their own food , they are called decomposers ."
       ]
      },
      {
       "output_type": "stream",
       "stream": "stdout",
       "text": [
        "\n",
        "In getCandidate question is since green plants make their own food , they are called predators ."
       ]
      },
      {
       "output_type": "stream",
       "stream": "stdout",
       "text": [
        "\n",
        "In getCandidate question is since green plants make their own food , they are called prey ."
       ]
      },
      {
       "output_type": "stream",
       "stream": "stdout",
       "text": [
        "\n",
        "[('Green plants are called producers because they provide the basic food supply for themselves and animals;393', 3), ('The shape, strength, and design of the beak varies depending on whether it is a bird of prey, a seed-eater, or a fish-eater;245', 4), ('The cactus is a producer;1047', 4), ('Water is used by the plant to move materials up from the roots to make food;19', 3), ('While plants are able to make their own food by photosynthesis they need sunlight and water to do so;391', 3), ('Photosynthesis is the process by which plants make their own food;52', 3), ('A plant in a food chain is called the producer;1163', 7), ('Chlorophyll is used for photosynthesis, the process by which plants make food;77', 3), ('Green plants are called producers because they provide the basic food supply for themselves and animals;393', 4), ('A rabbit, frog, or fish is a prey;1057', 4), ('The snake is a predator;1049', 4), ('Plants make their own food by a process called photosynthesis;18', 3), ('Some animals (predators) eat other animals (prey);415', 4), ('A bird or snake is a predator;1056', 4), ('A plant in a food chain is called the producer;1163', 3), ('The food made by the plant is a form of sugar called glucose;81', 3), ('Plants are able to make their own food by a process called photosynthesis;928', 3), ('An example of a predator and prey is a hawk and a mouse;1181', 4), ('In the photo below, the cat is considered a predator and the fish is its prey;416', 4), ('Photosynthesis is a process by which plants make their own food and give off oxygen and water that they are not using;80', 3)]"
       ]
      },
      {
       "output_type": "stream",
       "stream": "stdout",
       "text": [
        "\n",
        "best answer is: ---\n"
       ]
      },
      {
       "output_type": "stream",
       "stream": "stdout",
       "text": [
        "since green plants make their own food , they are called producers . [15, 10, 10, 10] [3.0948067418988914, 1.9173187303073824, 1.9237561558540122, 1.9258896969933224]\n",
        "---------------------------------------------\n",
        "In getCandidate question is a wings for eliminating waste is correctly paired with its function .\n",
        "In getCandidate question is eyes for growing is correctly paired with its function ."
       ]
      },
      {
       "output_type": "stream",
       "stream": "stdout",
       "text": [
        "\n",
        "In getCandidate question is a claws for obtaining food is correctly paired with its function ."
       ]
      },
      {
       "output_type": "stream",
       "stream": "stdout",
       "text": [
        "\n",
        "In getCandidate question is feathers for breathing is correctly paired with its function ."
       ]
      },
      {
       "output_type": "stream",
       "stream": "stdout",
       "text": [
        "\n",
        "[('All living things do some type of breathing;53', 1), ('Ways that animals respond to changes in their environment, such as seasonal changes include hibernation, migration, growing thick fur, or shivering;983', 1), ('Brushing our teeth removes the food and helps keep them strong;352', 1), ('Fecal wastes are made from unused foods that an animal has eaten;918', 1), ('The body needs to be cleaned regularly to prevent germs and bacteria from growing and making us sick;349', 1), ('All animals depend on plants either as a direct source of food and energy or because plants are food for another animal that they eat;414', 1), (\"Look at the similarities and differences between animals' arms and/or wings;240\", 1), (\"The main function of a turtle's shell is to protect the turtle;1154\", 1), ('A trait could be the color of your hair, skin, and eyes, your height, and the shape of your face, ears, and nose;295', 1), ('The two functions of the roots are to anchor and absorb;948', 1), ('Animals get rid of their gaseous waste by exhaling carbon dioxide through their mouth and nose;70', 1), ('Animals take in air by breathing;7', 1), ('This is their way of growing and changing;44', 1), ('The waste leaves the body in the form of feces;68', 1), ('We do this by breathing;158', 1), ('Birds have wings that are long and angled to help them fly;1001', 1), ('A graph such as this might be used to show the number of students with different eye color for your entire class;903', 1), ('The respiratory system is responsible for breathing;973', 1), ('Plants make their own food by a process called photosynthesis;18', 1), ('Some traits that can be inherited are color of hair, color of skin, color of eyes, and height;1023', 1), ('Living things need food, water, and air to survive;1172', 1), ('Birds use their wings, fish use their fins, and others use their legs;193', 1), ('When young the overall body is growing and developing;282', 1), ('Each organ system has a specific function that helps the organism to survive;147', 1), ('Seeds contain stored food that aids in germination (sprouting) and the growth of new young plants;123', 1), ('The urinary system is responsible for getting rid of chemical waste and water;980', 1), ('All animals have different structures that have different jobs or functions to help in growth, survival, and reproduction;982', 1), ('Recycling and reusing papers, plastics, and metals to reduce the amount of waste in landfills;471', 1), ('Living things need specific resources for survival such as air, food, and water;390', 1), ('Lobsters and crabs protect themselves with their claws, turtles have shells, porcupines have spines, birds use their feathers, and others have fur or scales to help protect them from predators;195', 1), ('Plants need water, light, air, and food to survive;960', 1), ('When some animals prepare for the long winters by storing food and going dormant it is called hibernation;1190', 1), ('The eyes take in light through the lenses and transmit the shapes and images through the optic nerve to the brain;186', 1), ('In addition to food, shelter, and energy, humans manufacture (produce) goods that make life more comfortable;458', 1), ('All animals have different structures that have different jobs or functions to help with growth, survival, and reproduction;191', 1)]"
       ]
      },
      {
       "output_type": "stream",
       "stream": "stdout",
       "text": [
        "\n",
        "best answer is: ---\n"
       ]
      },
      {
       "output_type": "stream",
       "stream": "stdout",
       "text": [
        "a claws for obtaining food is correctly paired with its function . [0, 1.5, 1.5, 0] [4.8614879508010675, 4.9820857381396193, 5.3858733866152271, 4.0503328338892253]\n",
        "---------------------------------------------\n",
        "In getCandidate question is humans depend on water from the environment .\n",
        "In getCandidate question is humans depend on roads from the environment ."
       ]
      },
      {
       "output_type": "stream",
       "stream": "stdout",
       "text": [
        "\n",
        "In getCandidate question is humans depend on electricity from the environment ."
       ]
      },
      {
       "output_type": "stream",
       "stream": "stdout",
       "text": [
        "\n",
        "In getCandidate question is humans depend on houses from the environment ."
       ]
      },
      {
       "output_type": "stream",
       "stream": "stdout",
       "text": [
        "\n",
        "[('Living things need specific resources for survival such as air, food, and water;390', 4), ('For example, some metal objects allow heat and electricity to transfer better than do plastic or rubber objects;570', 4), ('As humans construct new homes and buildings they change the landscape of the nonliving environment;452', 2), ('The environment that animals with gills live in is water;999', 5), ('By using materials that are found naturally in the environment humans must be responsible and make sure that they do not create problems for nature;437', 2), ('These changes (adaptations) depend on the environment;231', 2), ('Floods can result from altering the flow of water in the environment;453', 5), ('Plants need water, light, air, and food to survive;960', 4), ('Individuals in a species may compete with each other for food, mates, space, water, and shelter within their environment;401', 5), ('The way that humans treat the environment has a large effect on the survival of all living and nonliving things;446', 2), ('The water that falls can be in liquid form, such as rain, or in solid form, such as snow;796', 4), ('Plants and animals depend on each other and the nonliving environment for survival;389', 2), ('When a new community is built in the desert, humans may bring in plants that are not familiar to that environment;465', 2), ('In addition to food, shelter, and energy, humans manufacture (produce) goods that make life more comfortable;458', 1), ('Humans depend on natural and constructed environments;445', 2), ('A house is nonliving;919', 4), ('Living things depend upon each other and the nonliving environment to survive;2', 2), ('Other living organisms depend on plants to survive;78', 1), ('Plants depend on the sun for energy, and on the water and soil for nutrients to survive and perform photosynthesis;1050', 5), ('Living things need food, water, and air to survive;1172', 4), ('Precipitation is the term used to describe water falling from the sky;1114', 4), ('In a glass of water that contains ice cubes we find two phases of matter: liquid and solid;1066', 4), ('When an object joins two wires and a bulb lights, the object is able to conduct electricity;1169', 4)]"
       ]
      },
      {
       "output_type": "stream",
       "stream": "stdout",
       "text": [
        "\n",
        "best answer is: ---\n"
       ]
      },
      {
       "output_type": "stream",
       "stream": "stdout",
       "text": [
        "humans depend on water from the environment . [6.5, 0, 1.5, 0] [7.5370784248899438, 4.0885723321770051, 3.0626566892102796, 7.3745127847907526]\n",
        "---------------------------------------------\n",
        "In getCandidate question is a puppy can inherit scar on face from its parents .\n",
        "In getCandidate question is a puppy can inherit a broken foot from its parents ."
       ]
      },
      {
       "output_type": "stream",
       "stream": "stdout",
       "text": [
        "\n",
        "In getCandidate question is a puppy can inherit spotted fur from its parents ."
       ]
      },
      {
       "output_type": "stream",
       "stream": "stdout",
       "text": [
        "\n",
        "In getCandidate question is a puppy can inherit muddy paws from its parents ."
       ]
      },
      {
       "output_type": "stream",
       "stream": "stdout",
       "text": [
        "\n",
        "[('Ways that animals respond to changes in their environment, such as seasonal changes include hibernation, migration, growing thick fur, or shivering;983', 1), (\"Think of a lion's golden fur, which helps it blend into the desert landscape;198\", 1), ('An offspring grows up to look like its parents;325', 1), ('A trait could be the color of your hair, skin, and eyes, your height, and the shape of your face, ears, and nose;295', 1), ('A baby can inherit a trait from a parent;1022', 2), ('Plants and animals closely resemble their parents and other individuals in their species because of DNA;1031', 1), ('These are not traits from your parents;339', 1), ('Have you ever noticed that some children look like their parents and some may also look like their grandparents?;291', 1), ('Characteristics that are passed from a parent to child are called traits;1021', 1), ('Some offspring are born looking like their parents;62', 1), ('Plants and animals closely resemble their parents and other individuals in their species because of their DNA;326', 1), ('The food then goes through a tube called the esophagus to the stomach where it is broken down more;151', 1), ('When plants reproduce, the offspring has characteristics similar to the parents;113', 1), ('Plants and animals closely resemble their parents and other individuals in their species because of their DNA;1194', 1)]"
       ]
      },
      {
       "output_type": "stream",
       "stream": "stdout",
       "text": [
        "\n",
        "best answer is: ---\n"
       ]
      },
      {
       "output_type": "stream",
       "stream": "stdout",
       "text": [
        "a puppy can inherit scar on face from its parents . [0, 0, 0, 0] [3.033338898369951, 1.2995387116402901, 1.0815112658999497, 1.17286108787683]\n",
        "---------------------------------------------\n",
        "In getCandidate question is Many birds fly south for the winter . this adaptation is called migration .\n",
        "In getCandidate question is Many birds fly south for the winter . this adaptation is called communication ."
       ]
      },
      {
       "output_type": "stream",
       "stream": "stdout",
       "text": [
        "\n",
        "In getCandidate question is Many birds fly south for the winter . this adaptation is called hibernation ."
       ]
      },
      {
       "output_type": "stream",
       "stream": "stdout",
       "text": [
        "\n",
        "In getCandidate question is Many birds fly south for the winter . this adaptation is called germination ."
       ]
      },
      {
       "output_type": "stream",
       "stream": "stdout",
       "text": [
        "\n",
        "[('Different organs working together are called organ systems;145', 1), ('After we inhale the air it moves through a tube called the trachea to the lungs;160', 1), ('When some animals prepare for the long winters by storing food and going dormant it is called hibernation;1190', 2), ('Hibernation is going into a dormant state for the winter;984', 1), ('Genetic information is organized on very tiny structures in the cell called DNA (DeoxyriboNucleic Acid);311', 1), ('Examples of animals using plants for shelter are birds building a nest on tree branches and squirrels living inside a tree trunk;941', 1), ('Birds are known for fly ing south in the winter to avoid the cold months;229', 3), ('Seeds contain stored food that aids in germination (sprouting) and the growth of new young plants;123', 1), ('Some animals prepare for the long winter by going into hibernation;990', 2), ('Many animals are able to change their body with the seasons;214', 1), ('When some animals prepare for the long winters by storing food and going dormant it is called hibernation;1190', 3), ('Plants make their own food by a process called photosynthesis;18', 1), ('This is called migration;228', 2), ('Many organisms look very similar to other organisms because they may be from the same species;322', 1)]"
       ]
      },
      {
       "output_type": "stream",
       "stream": "stdout",
       "text": [
        "\n",
        "best answer is: ---\n",
        "Many birds fly south for the winter . this adaptation is called hibernation . [11.5, 5, 9.5, 6.5] [21.813415910753939, 29.31385814713073, 36.023201033287364, 28.170699204128606]\n",
        "---------------------------------------------\n",
        "In getCandidate question is green plants get the energy they need to make food from air .\n",
        "In getCandidate question is green plants get the energy they need to make food from water ."
       ]
      },
      {
       "output_type": "stream",
       "stream": "stdout",
       "text": [
        "\n",
        "In getCandidate question is green plants get the energy they need to make food from sunlight ."
       ]
      },
      {
       "output_type": "stream",
       "stream": "stdout",
       "text": [
        "\n",
        "In getCandidate question is green plants get the energy they need to make food from soil ."
       ]
      },
      {
       "output_type": "stream",
       "stream": "stdout",
       "text": [
        "\n",
        "[('Plants get their nutrients from the soil, which helps them grow and perform photosynthesis;51', 5), ('Photosynthesis is a process by which plants make their own food and give off oxygen and water that they are not using;80', 7), ('Nutrients from the soil enter the plant through its roots;20', 5), ('As the Earth revolves around the sun, its position changes and the amount of sunlight received by Earth also changes;661', 4), ('This waste, when mixed into the soil, can be very helpful to growing plants;69', 5), ('As they grow their bones get longer and bigger, they grow more hair, and are able to take care of themselves by getting food, shelter, and water;40', 6), ('Three things that you need to live and survive are air, water, and food;907', 6), ('While plants are able to make their own food by photosynthesis they need sunlight and water to do so;391', 4), ('Animals need air, water, and food to live and survive;6', 6), ('Plants provide animals with food and gases (oxygen) that their bodies need to grow, breathe, and make energy;79', 4), ('Living things need specific resources for survival such as air, food, and water;390', 6), ('While plants are able to make their own food by photosynthesis they need sunlight and water to do so;391', 8), ('Roots anchor the plant in the soil;94', 5), ('Nutrients are taken in through the roots from the soil and help the plant survive;87', 5), ('Roots secure the plant in the soil and bring in water and nutrients for survival;965', 5), ('Roots absorb water and nutrients from the soil into the plant;95', 5), ('Leaves make food using water, sunlight, nutrients, and chlorophyll;103', 6), ('If the living organism does not get the air, water, food, nutrients, or light it needs to survive it will die;24', 7), ('Adaptation examples can include: roses have thorns for protection, cactus hold water to survive in the desert, and palm trees have wide leaves to absorb extra sunlight;959', 4), ('When plants make food, they give off oxygen and water;943', 7), (\"Half of the moon's surface is continually lit by reflected sunlight;678\", 4), ('Animals need air, food, and water to live and survive;927', 6), ('Plants depend on the sun for energy, and on the water and soil for nutrients to survive and perform photosynthesis;1050', 5), ('The type of air that plants take in and use is carbon dioxide;16', 5), ('Plants need water, light, air, and food to survive;960', 6), ('Animals need air, water, and food to survive;978', 6), ('Living things need food, water, and air to survive;1172', 6), ('Erosion is the process by which soil and or other Earth materials are moved from one place to another;821', 4), ('The plant gets the energy to go through photosynthesis from sunlight;944', 7), ('Plants need air, water, nutrients, and light to grow and survive;925', 5), ('The leaves of the plant absorb sunlight;947', 5), ('The health, growth, and development of organisms are affected by environmental conditions such as the availability of food, air, water, space, shelter, heat, and sunlight;279', 5), ('Animals need plants for food and energy;1051', 4)]"
       ]
      },
      {
       "output_type": "stream",
       "stream": "stdout",
       "text": [
        "\n",
        "best answer is: ---\n"
       ]
      },
      {
       "output_type": "stream",
       "stream": "stdout",
       "text": [
        "green plants get the energy they need to make food from water . [16.5, 20.5, 20.5, 11.5] [3.9233393537889008, 4.4853269248097742, 1.8097371705460947, 2.502305152135702]\n",
        "---------------------------------------------\n",
        "In getCandidate question is when plants and animals die , decomposers help return nutrients to the food chain .\n",
        "In getCandidate question is when plants and animals die , producers help return nutrients to the food chain ."
       ]
      },
      {
       "output_type": "stream",
       "stream": "stdout",
       "text": [
        "\n",
        "In getCandidate question is when plants and animals die , predators help return nutrients to the food chain ."
       ]
      },
      {
       "output_type": "stream",
       "stream": "stdout",
       "text": [
        "\n",
        "In getCandidate question is when plants and animals die , prey help return nutrients to the food chain ."
       ]
      },
      {
       "output_type": "stream",
       "stream": "stdout",
       "text": [
        "\n",
        "[('When there are environmental changes, some plants and animals survive, reproduce, and increase in number, while others die or move to new locations;408', 3), (\"The sun's energy is transferred on Earth from plants to animals through the food chain;395\", 4), ('Some animals (predators) eat other animals (prey);415', 5), ('The shape, strength, and design of the beak varies depending on whether it is a bird of prey, a seed-eater, or a fish-eater;245', 4), ('A plant in a food chain is called the producer;1163', 3), ('All animals depend on plants either as a direct source of food and energy or because plants are food for another animal that they eat;414', 3), ('A plant in a food chain is called the producer;1163', 7), ('All animals grow, take in nutrients, breathe, reproduce, eliminate waste, and die;138', 3), ('Green plants are called producers because they provide the basic food supply for themselves and animals;393', 4), ('Animals that eat plants for food may in turn become food for other animals;417', 3), ('A rabbit, frog, or fish is a prey;1057', 4), ('The snake is a predator;1049', 4), ('A bird or snake is a predator;1056', 4), ('Animals take in food as a nutrient to give them energy and help them grow;50', 3), ('If the living organism does not get the air, water, food, nutrients, or light it needs to survive it will die;24', 3), ('The cactus is a producer;1047', 4), ('All animals need to take in food, water, and nutrients (vitamins and minerals) to survive;149', 3), ('With the help of animals (insects and birds), rain, and wind, flowers can be pollinated (fertilized ) so that seeds can be formed that will grow into new plants;106', 3), ('An example of a predator and prey is a hawk and a mouse;1181', 4), ('In the photo below, the cat is considered a predator and the fish is its prey;416', 4)]"
       ]
      },
      {
       "output_type": "stream",
       "stream": "stdout",
       "text": [
        "\n",
        "best answer is: ---\n"
       ]
      },
      {
       "output_type": "stream",
       "stream": "stdout",
       "text": [
        "when plants and animals die , producers help return nutrients to the food chain . [5, 10.5, 5.5, 6.5] [1.1955343271375167, 3.531294996951555, 2.3792007124483994, 3.0368399207913592]\n",
        "---------------------------------------------\n",
        "In getCandidate question is Some butterflies live an average of two weeks . this period of time is called a life span .\n",
        "In getCandidate question is Some butterflies live an average of two weeks . this period of time is called a life change ."
       ]
      },
      {
       "output_type": "stream",
       "stream": "stdout",
       "text": [
        "\n",
        "In getCandidate question is Some butterflies live an average of two weeks . this period of time is called a life cycle ."
       ]
      },
      {
       "output_type": "stream",
       "stream": "stdout",
       "text": [
        "\n",
        "In getCandidate question is Some butterflies live an average of two weeks . this period of time is called a life process ."
       ]
      },
      {
       "output_type": "stream",
       "stream": "stdout",
       "text": [
        "\n",
        "[('All living things have specific patterns of reproduction, growth, and development that are called stages in its life cycle;261', 3), (\"The length of time from an animal's birth until its death is called its life span;1191\", 4), (\"The length of time from an animal's birth to its death is called its life span;267\", 4), ('The average life span of a rabbit is 9 years;273', 3), ('Some offspring are born as one form and change over time into an adult form;63', 9), (\"The length of time from an animal's birth until its death is called its life span;1007\", 4), ('The average life span of an Amazon parrot is 80 years;277', 3), ('Some animals live a very different life in the warm weather than in the cold weather;222', 3), (\"The length of time from an animal's birth until its death is called its life span;1191\", 3), ('The length of time from the beginning of the plant to its death is called its life span;133', 4), ('The changes frogs and butterflies go through are called metamorphosis;915', 3), ('You have only one chance to live a healthy life style;356', 2), ('This process continues over long periods of time, breaking down rocks;813', 3), (\"The length of time from an animal's birth to its death is called its life span;267\", 3), ('The average life span of a human is 79 years;276', 3), ('The average life span of a turtle is 100 years;278', 3), ('The life process where animal bones get longer and bigger is called growth;914', 3), (\"The length of time from an animal's birth until its death is called its life span;1171\", 4), ('The average life span of a worker ant is 6 months;271', 3), (\"The length of time from an animal's birth until its death is called its life span;1171\", 3), ('Some animals are able to change the color of their body covering to that of their surroundings;196', 8), ('The average life span of a worker ant is 6 months;271', 2), ('The length of time from the beginning of the plant to its death is called its life span;133', 3), ('Individual organisms and species change over long periods of time;230', 3), (\"The length of time from an animal's birth until its death is called its life span;1007\", 3), ('This is called the continuity of life or life cycle;255', 3), ('As they grow and change over time it is called development;257', 3)]"
       ]
      },
      {
       "output_type": "stream",
       "stream": "stdout",
       "text": [
        "\n",
        "best answer is: ---\n"
       ]
      },
      {
       "output_type": "stream",
       "stream": "stdout",
       "text": [
        "Some butterflies live an average of two weeks . this period of time is called a life change . [11.5, 15.5, 6.5, 10.5] [2.2332743633261902, 2.5071966258788403, 1.6441525744661101, 2.0153427188834527]\n",
        "---------------------------------------------\n",
        "In getCandidate question is During an experiment , a student reports that a liquid turned green when mixed with another liquid . this is an example of an observation .\n",
        "In getCandidate question is During an experiment , a student reports that a liquid turned green when mixed with another liquid . this is an example of an explanation ."
       ]
      },
      {
       "output_type": "stream",
       "stream": "stdout",
       "text": [
        "\n",
        "In getCandidate question is During an experiment , a student reports that a liquid turned green when mixed with another liquid . this is an example of a measurement ."
       ]
      },
      {
       "output_type": "stream",
       "stream": "stdout",
       "text": [
        "\n",
        "In getCandidate question is During an experiment , a student reports that a liquid turned green when mixed with another liquid . this is an example of a prediction ."
       ]
      },
      {
       "output_type": "stream",
       "stream": "stdout",
       "text": [
        "\n",
        "[('The water that falls can be in liquid form, such as rain, or in solid form, such as snow;796', 1), ('All animals depend on plants either as a direct source of food and energy or because plants are food for another animal that they eat;414', 1), ('An example of the transfer of chemical energy to electrical energy is between battery and light bulb;1188', 1), ('In a glass of water that contains ice cubes we find two phases of matter: liquid and solid;1066', 1), ('The sense of taste is one sense that we typically do not use in a science laboratory or during a science experiment;841', 1), ('Mechanical energy exerted by one object can push or pull another object;544', 1), ('A journal is useful to a scientist to record observations made during an experiment;1149', 2), ('Heat energy can be transferred from one object to another object;545', 1), ('During ingestion food is taken into the body;154', 1), ('A scientist would use a graduated cylinder to measure the volume of a liquid;1072', 1), ('For example, a pie graph can be used to show the percentage of students in each grade in a high school;905', 2), ('Using your eyes to see that a banana is yellow is an example of using your senses to make an observation;1075', 2)]"
       ]
      },
      {
       "output_type": "stream",
       "stream": "stdout",
       "text": [
        "\n",
        "best answer is: ---\n"
       ]
      },
      {
       "output_type": "stream",
       "stream": "stdout",
       "text": [
        "During an experiment , a student reports that a liquid turned green when mixed with another liquid . this is an example of a measurement . [10.5, 0, 0, 0] [15.406346734292047, 14.745350665822947, 18.597649335705171, 8.7927962277492266]\n",
        "---------------------------------------------\n"
       ]
      }
     ],
     "prompt_number": 21
    },
    {
     "cell_type": "code",
     "collapsed": false,
     "input": [
      "numCorrectPredictions"
     ],
     "language": "python",
     "metadata": {},
     "outputs": [
      {
       "metadata": {},
       "output_type": "pyout",
       "prompt_number": 15,
       "text": [
        "54"
       ]
      }
     ],
     "prompt_number": 15
    },
    {
     "cell_type": "code",
     "collapsed": false,
     "input": [
      "sentence"
     ],
     "language": "python",
     "metadata": {},
     "outputs": [
      {
       "ename": "NameError",
       "evalue": "name 'sentence' is not defined",
       "output_type": "pyerr",
       "traceback": [
        "\u001b[0;31m---------------------------------------------------------------------------\u001b[0m",
        "\u001b[0;31mNameError\u001b[0m                                 Traceback (most recent call last)",
        "\u001b[0;32m<ipython-input-16-ce77a86a22b0>\u001b[0m in \u001b[0;36m<module>\u001b[0;34m()\u001b[0m\n\u001b[0;32m----> 1\u001b[0;31m \u001b[0msentence\u001b[0m\u001b[0;34m\u001b[0m\u001b[0m\n\u001b[0m",
        "\u001b[0;31mNameError\u001b[0m: name 'sentence' is not defined"
       ]
      }
     ],
     "prompt_number": 16
    },
    {
     "cell_type": "code",
     "collapsed": false,
     "input": [
      "rightAnswers[75]"
     ],
     "language": "python",
     "metadata": {},
     "outputs": [],
     "prompt_number": null
    },
    {
     "cell_type": "code",
     "collapsed": false,
     "input": [
      "correctAnswerList"
     ],
     "language": "python",
     "metadata": {},
     "outputs": [],
     "prompt_number": null
    },
    {
     "cell_type": "code",
     "collapsed": false,
     "input": [
      "print \"Number of correct predictions are\", numCorrectPredictions\n",
      "print \"Accuracy is\", float(numCorrectPredictions)/float(len(rightAnswers))"
     ],
     "language": "python",
     "metadata": {},
     "outputs": [
      {
       "output_type": "stream",
       "stream": "stdout",
       "text": [
        "Number of correct predictions are 54\n",
        "Accuracy is 0.5\n"
       ]
      }
     ],
     "prompt_number": 17
    },
    {
     "cell_type": "code",
     "collapsed": false,
     "input": [
      "#migration, precipitation and hibernation"
     ],
     "language": "python",
     "metadata": {},
     "outputs": [],
     "prompt_number": null
    },
    {
     "cell_type": "code",
     "collapsed": false,
     "input": [
      "\"Hi there\".lower()"
     ],
     "language": "python",
     "metadata": {},
     "outputs": [
      {
       "metadata": {},
       "output_type": "pyout",
       "prompt_number": 53,
       "text": [
        "'hi there'"
       ]
      }
     ],
     "prompt_number": 53
    },
    {
     "cell_type": "code",
     "collapsed": true,
     "input": [
      "from nltk.stem import WordNetLemmatizer\n",
      "from nltk.corpus import wordnet as wn\n",
      "from nltk.corpus import wordnet_ic\n",
      "def lexical_compare(lemma_text,lemma_hypothesis):\n",
      "\n",
      "    similarity_score = 0\n",
      "    brown_ic = wordnet_ic.ic('ic-brown.dat')\n",
      "    if re.search(lemma_text,lemma_hypothesis,re.M|re.I):\n",
      "        return 50\n",
      "    hypo_synset = wn.synsets(lemma_hypothesis)\n",
      "    print \"HYPO SYNSSET\"\n",
      "    if len(hypo_synset) == 0:\n",
      "        return 0\n",
      "    posName = str(hypo_synset[0].name()).split(\".\")[1]\n",
      "    if posName == 's':\n",
      "        posName = 'a'\n",
      "    text_synset = wn.synsets(lemma_text,pos=posName)\n",
      " \n",
      "    if len(text_synset) == 0:\n",
      "        return 0\n",
      "  \n",
      "    if len(hypo_synset) > 0 and len(text_synset) > 0:\n",
      "        #print \"Computing similarity between\", hypo_synset[synset_index], \"and\", text_synset[0]\n",
      "        similarity_score = hypo_synset[0].path_similarity(text_synset[0],brown_ic)\n",
      "#         if similarity_score != None:\n",
      "#             wupSimilarity = hypo_synset[0].wup_similarity(text_synset[0],brown_ic)\n",
      "#             if wupSimilarity != None:\n",
      "#                 similarity_score += wupSimilarity\n",
      "\n",
      "    if similarity_score == None:\n",
      "        similarity_score = 0\n",
      "    print similarity_score\n",
      "    return similarity_score"
     ],
     "language": "python",
     "metadata": {},
     "outputs": [],
     "prompt_number": 82
    },
    {
     "cell_type": "code",
     "collapsed": false,
     "input": [
      "lexical_compare(\"life\",\"live\")"
     ],
     "language": "python",
     "metadata": {},
     "outputs": [
      {
       "metadata": {},
       "output_type": "pyout",
       "prompt_number": 36,
       "text": [
        "0"
       ]
      }
     ],
     "prompt_number": 36
    },
    {
     "cell_type": "code",
     "collapsed": true,
     "input": [],
     "language": "python",
     "metadata": {},
     "outputs": [],
     "prompt_number": null
    }
   ],
   "metadata": {}
  }
 ]
}