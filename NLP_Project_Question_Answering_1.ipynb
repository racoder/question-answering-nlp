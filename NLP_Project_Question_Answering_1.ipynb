{
 "metadata": {
  "name": "",
  "signature": "sha256:e87d70af9361114558fc3dca07d5baffa454228610b5b5a2cde463a46dde0753"
 },
 "nbformat": 3,
 "nbformat_minor": 0,
 "worksheets": [
  {
   "cells": [
    {
     "cell_type": "markdown",
     "metadata": {},
     "source": [
      "#<center>Question Answering using Textual Entailment</center>"
     ]
    },
    {
     "cell_type": "markdown",
     "metadata": {},
     "source": [
      "###Importing required libraries"
     ]
    },
    {
     "cell_type": "code",
     "collapsed": false,
     "input": [
      "import string\n",
      "import operator\n",
      "import re\n",
      "from nltk.stem import WordNetLemmatizer\n",
      "from nltk.corpus import wordnet as wn\n",
      "from nltk.corpus import wordnet_ic\n",
      "from nltk.corpus import stopwords\n",
      "import xlrd"
     ],
     "language": "python",
     "metadata": {},
     "outputs": [],
     "prompt_number": 1
    },
    {
     "cell_type": "markdown",
     "metadata": {},
     "source": [
      "###Parse xls data to build lists of questions and answers"
     ]
    },
    {
     "cell_type": "code",
     "collapsed": false,
     "input": [
      "workbook = xlrd.open_workbook('108-decomposed-questions.xlsx')\n",
      "worksheet = workbook.sheet_by_index(0)\n",
      "questionList = []\n",
      "answerList = []\n",
      "questionAnswerDict = {}\n",
      "for i in xrange(0, worksheet.nrows, 4):\n",
      "    questionWithOptions = worksheet.cell(i, 2).value\n",
      "    #print questionWithOptions\n",
      "    questionSplit = re.split(\".(A)\",questionWithOptions)\n",
      "    #split2 = re.split(\".\\(B\\)\",questionSplit[2])\n",
      "    questionList.append(questionSplit[0][:-1])\n",
      "    \n",
      "for i in range(0, worksheet.nrows):\n",
      "    answerList.append(worksheet.cell(i, 4).value)\n",
      "    \n",
      "brown_ic = wordnet_ic.ic('ic-brown.dat')"
     ],
     "language": "python",
     "metadata": {},
     "outputs": [],
     "prompt_number": 2
    },
    {
     "cell_type": "code",
     "collapsed": false,
     "input": [
      "# decomposed_answers = []\n",
      "\n",
      "# with open('decomposed-answers.txt') as f:\n",
      "#     for line in f:\n",
      "#         decomposed_answers.append(line)"
     ],
     "language": "python",
     "metadata": {},
     "outputs": [],
     "prompt_number": 3
    },
    {
     "cell_type": "code",
     "collapsed": false,
     "input": [
      "#decomposed_answers"
     ],
     "language": "python",
     "metadata": {},
     "outputs": [],
     "prompt_number": 4
    },
    {
     "cell_type": "markdown",
     "metadata": {},
     "source": [
      "###Dataset - Barron's corpus"
     ]
    },
    {
     "cell_type": "code",
     "collapsed": false,
     "input": [
      "textList = []\n",
      "\n",
      "with open('Barrons-Grade-4-Science-sentences.tsv') as f:\n",
      "    for line in f:\n",
      "        text = line.split(\"\\t\")[1]\n",
      "        text = text.strip()\n",
      "        if text[-1] == '.':\n",
      "            text = text[:-1]\n",
      "        textList.append(text)"
     ],
     "language": "python",
     "metadata": {},
     "outputs": [],
     "prompt_number": 5
    },
    {
     "cell_type": "code",
     "collapsed": false,
     "input": [
      "#textList"
     ],
     "language": "python",
     "metadata": {},
     "outputs": [],
     "prompt_number": 6
    },
    {
     "cell_type": "markdown",
     "metadata": {},
     "source": [
      "This is the method to compute the similarity score between two sentences"
     ]
    },
    {
     "cell_type": "code",
     "collapsed": false,
     "input": [
      "def getSimilarityScore(hypothesis_list,text_list):\n",
      "    wordnet_lemmatizer = WordNetLemmatizer()\n",
      "    stop_word_list = stopwords.words('english')\n",
      "    for punct in string.punctuation:\n",
      "        stop_word_list.append(punct)\n",
      "    i = 0\n",
      "    while i < len(hypothesis_list):\n",
      "        if hypothesis_list[i] in stop_word_list:\n",
      "            del hypothesis_list[i]\n",
      "            i = i - 1\n",
      "        i = i  + 1\n",
      "    if len(hypothesis_list) == 0:\n",
      "        return 0\n",
      "    i = 0    \n",
      "    while i < len(text_list):\n",
      "        if text_list[i] in stop_word_list:\n",
      "            del text_list[i]\n",
      "            i = i - 1\n",
      "        i = i + 1\n",
      "    if len(text_list) == 0:\n",
      "        return 0\n",
      "    ## Stop words removed up until here\n",
      "    \n",
      "    #print \"Hyp list is\", hypothesis_list\n",
      "    #print \"text list is\", text_list\n",
      "\n",
      "    score = 0    \n",
      "    for word_text in text_list:\n",
      "        lemma_text = wordnet_lemmatizer.lemmatize(word_text)\n",
      "        for word_hypothesis in hypothesis_list:\n",
      "            lemma_hypothesis = wordnet_lemmatizer.lemmatize(word_hypothesis)\n",
      "            #print lemma_hypothesis\n",
      "            #print lemma_text\n",
      "            score += lexical_compare(lemma_text,lemma_hypothesis)\n",
      "            print str(score)\n",
      "    return score"
     ],
     "language": "python",
     "metadata": {},
     "outputs": [],
     "prompt_number": 7
    },
    {
     "cell_type": "code",
     "collapsed": false,
     "input": [
      "def get_index(synset1,synset2):\n",
      "    i = 0\n",
      "    A = [(str(synset.name())) for synset in synset1]             \n",
      "    for word in A:\n",
      "        if word.split('.')[1] == str(synset2[0].name()).split('.')[1]:\n",
      "            return i\n",
      "        i +=1\n",
      "    return -1"
     ],
     "language": "python",
     "metadata": {},
     "outputs": [],
     "prompt_number": 8
    },
    {
     "cell_type": "code",
     "collapsed": false,
     "input": [
      "def lexical_compare(lemma_text,lemma_hypothesis):\n",
      "    similarity_score = 0\n",
      "    brown_ic = wordnet_ic.ic('ic-brown.dat')\n",
      "    if re.search(lemma_text,lemma_hypothesis,re.M|re.I):\n",
      "        return 50\n",
      "    hypo_synset = wn.synsets(lemma_hypothesis)\n",
      "    if len(hypo_synset) == 0:\n",
      "        return 0\n",
      "    posName = str(hypo_synset[0].name()).split(\".\")[1]\n",
      "    if posName == 's':\n",
      "        posName = 'a'\n",
      "    text_synset = wn.synsets(lemma_text,pos=posName)\n",
      "    #print \"hypo synset is\", hypo_synset\n",
      "    #print \"text synset is\", text_synset\n",
      "    if len(text_synset) == 0:\n",
      "        return 0\n",
      "    #synset_index = get_index(hypo_synset, text_synset)\n",
      "    #if synset_index == -1:\n",
      "        #return 0    \n",
      "    if len(hypo_synset) > 0 and len(text_synset) > 0:\n",
      "        #print \"Computing similarity between\", hypo_synset[synset_index], \"and\", text_synset[0]\n",
      "        similarity_score = hypo_synset[0].path_similarity(text_synset[0],brown_ic)\n",
      "        if similarity_score != None:\n",
      "            wupSimilarity = hypo_synset[0].wup_similarity(text_synset[0],brown_ic)\n",
      "            if wupSimilarity != None:\n",
      "                similarity_score += wupSimilarity\n",
      "#             linSimilarity = hypo_synset[0].lin_similarity(text_synset[0],brown_ic)\n",
      "#             if linSimilarity != None:\n",
      "#                 similarity_score += linSimilarity\n",
      "#             resSimilarity = hypo_synset[0].res_similarity(text_synset[0],brown_ic)\n",
      "#             if resSimilarity != None:\n",
      "#                 similarity_score += resSimilarity  \n",
      "    if similarity_score == None:\n",
      "        similarity_score = 0\n",
      "    return similarity_score"
     ],
     "language": "python",
     "metadata": {},
     "outputs": [],
     "prompt_number": 14
    },
    {
     "cell_type": "code",
     "collapsed": false,
     "input": [
      "def removeStopWords(sentence):\n",
      "    retList = []\n",
      "    stop = stopwords.words('english')\n",
      "    for punct in string.punctuation:\n",
      "        stop.append(punct)\n",
      "    for i in sentence.split():\n",
      "        if i not in stop:\n",
      "            word = str(i)\n",
      "            if word[-1] == ',':\n",
      "                word = word[:-1]\n",
      "            retList.append(word)\n",
      "    #return [str(i) for i in sentence.split() if i not in stop]\n",
      "    return retList"
     ],
     "language": "python",
     "metadata": {},
     "outputs": [],
     "prompt_number": 15
    },
    {
     "cell_type": "markdown",
     "metadata": {},
     "source": [
      "Method that selects the candidate sentences for the given question (using just word matching)"
     ]
    },
    {
     "cell_type": "code",
     "collapsed": false,
     "input": [
      "def getCandidateSentences(questionText):\n",
      "    textScoreMap = {}\n",
      "    print 'question is ' + questionText\n",
      "    wordnet_lemmatizer = WordNetLemmatizer()\n",
      "    questionTextWithoutStopWords = list(set(removeStopWords(questionText)))\n",
      "    for text in textList:\n",
      "        textWithoutStopWords = list(set(removeStopWords(text)))\n",
      "        #print textWithoutStopWords\n",
      "        #print \"Comparing\", textWithoutStopWords, \"and\", questionTextWithoutStopWords\n",
      "        textWithoutStopWords = [wordnet_lemmatizer.lemmatize(iter_word) for iter_word in textWithoutStopWords]\n",
      "        questionWithoutStopWords = [wordnet_lemmatizer.lemmatize(iter_word) for iter_word in questionTextWithoutStopWords]\n",
      "        \n",
      "        text_question_similarity = len(list(set(textWithoutStopWords) & set(questionWithoutStopWords)))\n",
      "        textScoreMap[text] = text_question_similarity\n",
      "        #similarityScore = getSimilarityScore(textWithoutStopWords, questionTextWithoutStopWords)\n",
      "        #print \"Similarity Score is\", similarityScore\n",
      "        #textScoreMap[text] = similarityScore\n",
      "    sorted_textScoreMap = sorted(textScoreMap.items(), key=operator.itemgetter(1))\n",
      "    sorted_textScoreMap.reverse()\n",
      "    #print sorted_textScoreMap[:5]\n",
      "    top5SentenceMap = sorted_textScoreMap[:5]\n",
      "    top5Sentences = []\n",
      "    for sentence,value in top5SentenceMap:\n",
      "        top5Sentences.append(sentence)\n",
      "    #print top5Sentences\n",
      "    return top5Sentences"
     ],
     "language": "python",
     "metadata": {},
     "outputs": [],
     "prompt_number": 16
    },
    {
     "cell_type": "markdown",
     "metadata": {},
     "source": [
      "Select the best answer by choosing the answer with the maximum entailment score among the candidate sentences"
     ]
    },
    {
     "cell_type": "code",
     "collapsed": false,
     "input": [
      "correctAnswerList = []\n",
      "for i in range(0, len(questionList)):\n",
      "    questionWithoutStopWords = list(set(removeStopWords(questionList[i])))\n",
      "    candidateSentences = getCandidateSentences(questionList[i])\n",
      "    print \"candidate sentences are\", candidateSentences\n",
      "    currentAnswers = answerList[i:i+4]\n",
      "    maxEntailmentScore = 0\n",
      "    bestAnswer = currentAnswers[0]\n",
      "    \n",
      "    for sentence in candidateSentences:\n",
      "        candidateSentWithoutStopWords = list(set(removeStopWords(sentence)))\n",
      "        for answer in currentAnswers:\n",
      "            answerWithoutStopWords = list(set(removeStopWords(answer)))\n",
      "            print \"Comparing\", candidateSentWithoutStopWords, \"-----and----\", answerWithoutStopWords\n",
      "            entailmentScore = getSimilarityScore(candidateSentWithoutStopWords, answerWithoutStopWords)\n",
      "            print \"entailment score is\", entailmentScore\n",
      "            if entailmentScore > maxEntailmentScore:\n",
      "                maxEntailmentScore = entailmentScore\n",
      "                bestAnswer = answer\n",
      "    correctAnswerList.append(bestAnswer)\n",
      "    break"
     ],
     "language": "python",
     "metadata": {},
     "outputs": [
      {
       "output_type": "stream",
       "stream": "stdout",
       "text": [
        "question is If an object is attracted to a magnet, the object is most likely made of\n",
        "candidate sentences are"
       ]
      },
      {
       "output_type": "stream",
       "stream": "stdout",
       "text": [
        " ['If you were to take two magnets, the north end of one magnet would be attracted to the south end of the other', 'Examples of objects that are attracted by magnet are a staple, an iron nail, and a pin', 'The different poles of a magnet are attracted to one another', 'If, however, you were to try and put the two north ends of two different magnets together you would feel the force that causes the magnets to be repelled (pushed away) from one another', 'The distance between two magnets or a magnet and another metal object has an effect on the force of attraction']\n",
        "Comparing ['end', 'would', 'two', 'one', 'magnet', 'attracted', 'take', 'magnets', 'north', 'south', 'If'] -----and---- ['made', 'object', 'metal', 'magnet', 'attracted', 'likely']\n",
        "0"
       ]
      },
      {
       "output_type": "stream",
       "stream": "stdout",
       "text": [
        "\n",
        "0"
       ]
      },
      {
       "output_type": "stream",
       "stream": "stdout",
       "text": [
        "\n",
        "0"
       ]
      },
      {
       "output_type": "stream",
       "stream": "stdout",
       "text": [
        "\n",
        "0"
       ]
      },
      {
       "output_type": "stream",
       "stream": "stdout",
       "text": [
        "\n",
        "0"
       ]
      },
      {
       "output_type": "stream",
       "stream": "stdout",
       "text": [
        "\n",
        "0.533333333333"
       ]
      },
      {
       "output_type": "stream",
       "stream": "stdout",
       "text": [
        "\n",
        "0.533333333333"
       ]
      },
      {
       "output_type": "stream",
       "stream": "stdout",
       "text": [
        "\n",
        "0.533333333333"
       ]
      },
      {
       "output_type": "stream",
       "stream": "stdout",
       "text": [
        "\n",
        "0.533333333333"
       ]
      },
      {
       "output_type": "stream",
       "stream": "stdout",
       "text": [
        "\n",
        "0.533333333333"
       ]
      },
      {
       "output_type": "stream",
       "stream": "stdout",
       "text": [
        "\n",
        "0.533333333333"
       ]
      },
      {
       "output_type": "stream",
       "stream": "stdout",
       "text": [
        "\n",
        "1.33333333333"
       ]
      },
      {
       "output_type": "stream",
       "stream": "stdout",
       "text": [
        "\n",
        "1.33333333333"
       ]
      },
      {
       "output_type": "stream",
       "stream": "stdout",
       "text": [
        "\n",
        "1.61515151515"
       ]
      },
      {
       "output_type": "stream",
       "stream": "stdout",
       "text": [
        "\n",
        "1.89696969697"
       ]
      },
      {
       "output_type": "stream",
       "stream": "stdout",
       "text": [
        "\n",
        "2.60909090909"
       ]
      },
      {
       "output_type": "stream",
       "stream": "stdout",
       "text": [
        "\n",
        "2.95631313131"
       ]
      },
      {
       "output_type": "stream",
       "stream": "stdout",
       "text": [
        "\n",
        "3.19349261849"
       ]
      },
      {
       "output_type": "stream",
       "stream": "stdout",
       "text": [
        "\n",
        "3.90561383061"
       ]
      },
      {
       "output_type": "stream",
       "stream": "stdout",
       "text": [
        "\n",
        "4.70561383061"
       ]
      },
      {
       "output_type": "stream",
       "stream": "stdout",
       "text": [
        "\n",
        "5.50561383061"
       ]
      },
      {
       "output_type": "stream",
       "stream": "stdout",
       "text": [
        "\n",
        "5.50561383061"
       ]
      },
      {
       "output_type": "stream",
       "stream": "stdout",
       "text": [
        "\n",
        "5.91330613831"
       ]
      },
      {
       "output_type": "stream",
       "stream": "stdout",
       "text": [
        "\n",
        "5.91330613831"
       ]
      },
      {
       "output_type": "stream",
       "stream": "stdout",
       "text": [
        "\n",
        "6.26330613831"
       ]
      },
      {
       "output_type": "stream",
       "stream": "stdout",
       "text": [
        "\n",
        "6.61330613831"
       ]
      },
      {
       "output_type": "stream",
       "stream": "stdout",
       "text": [
        "\n",
        "6.98992951493"
       ]
      },
      {
       "output_type": "stream",
       "stream": "stdout",
       "text": [
        "\n",
        "7.38278665779"
       ]
      },
      {
       "output_type": "stream",
       "stream": "stdout",
       "text": [
        "\n",
        "7.81906116759"
       ]
      },
      {
       "output_type": "stream",
       "stream": "stdout",
       "text": [
        "\n",
        "8.19568454421"
       ]
      },
      {
       "output_type": "stream",
       "stream": "stdout",
       "text": [
        "\n",
        "8.60337685191"
       ]
      },
      {
       "output_type": "stream",
       "stream": "stdout",
       "text": [
        "\n",
        "9.0110691596"
       ]
      },
      {
       "output_type": "stream",
       "stream": "stdout",
       "text": [
        "\n",
        "9.0110691596"
       ]
      },
      {
       "output_type": "stream",
       "stream": "stdout",
       "text": [
        "\n",
        "9.5110691596"
       ]
      },
      {
       "output_type": "stream",
       "stream": "stdout",
       "text": [
        "\n",
        "9.5110691596"
       ]
      },
      {
       "output_type": "stream",
       "stream": "stdout",
       "text": [
        "\n",
        "9.70273582627"
       ]
      },
      {
       "output_type": "stream",
       "stream": "stdout",
       "text": [
        "\n",
        "9.89440249293"
       ]
      },
      {
       "output_type": "stream",
       "stream": "stdout",
       "text": [
        "\n",
        "59.8944024929"
       ]
      },
      {
       "output_type": "stream",
       "stream": "stdout",
       "text": [
        "\n",
        "59.8944024929"
       ]
      },
      {
       "output_type": "stream",
       "stream": "stdout",
       "text": [
        "\n",
        "60.0643371335"
       ]
      },
      {
       "output_type": "stream",
       "stream": "stdout",
       "text": [
        "\n",
        "110.064337133"
       ]
      },
      {
       "output_type": "stream",
       "stream": "stdout",
       "text": [
        "\n",
        "110.564337133"
       ]
      },
      {
       "output_type": "stream",
       "stream": "stdout",
       "text": [
        "\n",
        "111.064337133"
       ]
      },
      {
       "output_type": "stream",
       "stream": "stdout",
       "text": [
        "\n",
        "111.064337133"
       ]
      },
      {
       "output_type": "stream",
       "stream": "stdout",
       "text": [
        "\n",
        "111.064337133"
       ]
      },
      {
       "output_type": "stream",
       "stream": "stdout",
       "text": [
        "\n",
        "111.064337133"
       ]
      },
      {
       "output_type": "stream",
       "stream": "stdout",
       "text": [
        "\n",
        "111.064337133"
       ]
      },
      {
       "output_type": "stream",
       "stream": "stdout",
       "text": [
        "\n",
        "111.064337133"
       ]
      },
      {
       "output_type": "stream",
       "stream": "stdout",
       "text": [
        "\n",
        "111.064337133"
       ]
      },
      {
       "output_type": "stream",
       "stream": "stdout",
       "text": [
        "\n",
        "161.064337133"
       ]
      },
      {
       "output_type": "stream",
       "stream": "stdout",
       "text": [
        "\n",
        "161.064337133"
       ]
      },
      {
       "output_type": "stream",
       "stream": "stdout",
       "text": [
        "\n",
        "161.064337133"
       ]
      },
      {
       "output_type": "stream",
       "stream": "stdout",
       "text": [
        "\n",
        "161.064337133"
       ]
      },
      {
       "output_type": "stream",
       "stream": "stdout",
       "text": [
        "\n",
        "161.064337133"
       ]
      },
      {
       "output_type": "stream",
       "stream": "stdout",
       "text": [
        "\n",
        "161.064337133"
       ]
      },
      {
       "output_type": "stream",
       "stream": "stdout",
       "text": [
        "\n",
        "161.064337133"
       ]
      },
      {
       "output_type": "stream",
       "stream": "stdout",
       "text": [
        "\n",
        "161.064337133"
       ]
      },
      {
       "output_type": "stream",
       "stream": "stdout",
       "text": [
        "\n",
        "161.064337133"
       ]
      },
      {
       "output_type": "stream",
       "stream": "stdout",
       "text": [
        "\n",
        "161.064337133"
       ]
      },
      {
       "output_type": "stream",
       "stream": "stdout",
       "text": [
        "\n",
        "161.064337133"
       ]
      },
      {
       "output_type": "stream",
       "stream": "stdout",
       "text": [
        "\n",
        "161.064337133"
       ]
      },
      {
       "output_type": "stream",
       "stream": "stdout",
       "text": [
        "\n",
        "161.064337133"
       ]
      },
      {
       "output_type": "stream",
       "stream": "stdout",
       "text": [
        "\n",
        "161.064337133"
       ]
      },
      {
       "output_type": "stream",
       "stream": "stdout",
       "text": [
        "\n",
        "161.064337133"
       ]
      },
      {
       "output_type": "stream",
       "stream": "stdout",
       "text": [
        "\n",
        "161.064337133"
       ]
      },
      {
       "output_type": "stream",
       "stream": "stdout",
       "text": [
        "\n",
        "161.064337133"
       ]
      },
      {
       "output_type": "stream",
       "stream": "stdout",
       "text": [
        "\n",
        "entailment score is 161.064337133\n",
        "Comparing ['end', 'would', 'two', 'one', 'magnet', 'attracted', 'take', 'magnets', 'north', 'south', 'If'] -----and---- ['made', 'object', 'plastic', 'magnet', 'attracted', 'likely']\n",
        "0"
       ]
      },
      {
       "output_type": "stream",
       "stream": "stdout",
       "text": [
        "\n",
        "0"
       ]
      },
      {
       "output_type": "stream",
       "stream": "stdout",
       "text": [
        "\n",
        "0"
       ]
      },
      {
       "output_type": "stream",
       "stream": "stdout",
       "text": [
        "\n",
        "0"
       ]
      },
      {
       "output_type": "stream",
       "stream": "stdout",
       "text": [
        "\n",
        "0"
       ]
      },
      {
       "output_type": "stream",
       "stream": "stdout",
       "text": [
        "\n",
        "0.533333333333"
       ]
      },
      {
       "output_type": "stream",
       "stream": "stdout",
       "text": [
        "\n",
        "0.533333333333"
       ]
      },
      {
       "output_type": "stream",
       "stream": "stdout",
       "text": [
        "\n",
        "0.533333333333"
       ]
      },
      {
       "output_type": "stream",
       "stream": "stdout",
       "text": [
        "\n",
        "0.533333333333"
       ]
      },
      {
       "output_type": "stream",
       "stream": "stdout",
       "text": [
        "\n",
        "0.533333333333"
       ]
      },
      {
       "output_type": "stream",
       "stream": "stdout",
       "text": [
        "\n",
        "0.533333333333"
       ]
      },
      {
       "output_type": "stream",
       "stream": "stdout",
       "text": [
        "\n",
        "1.33333333333"
       ]
      },
      {
       "output_type": "stream",
       "stream": "stdout",
       "text": [
        "\n",
        "1.33333333333"
       ]
      },
      {
       "output_type": "stream",
       "stream": "stdout",
       "text": [
        "\n",
        "1.61515151515"
       ]
      },
      {
       "output_type": "stream",
       "stream": "stdout",
       "text": [
        "\n",
        "1.89696969697"
       ]
      },
      {
       "output_type": "stream",
       "stream": "stdout",
       "text": [
        "\n",
        "2.60909090909"
       ]
      },
      {
       "output_type": "stream",
       "stream": "stdout",
       "text": [
        "\n",
        "2.95631313131"
       ]
      },
      {
       "output_type": "stream",
       "stream": "stdout",
       "text": [
        "\n",
        "3.19349261849"
       ]
      },
      {
       "output_type": "stream",
       "stream": "stdout",
       "text": [
        "\n",
        "3.90561383061"
       ]
      },
      {
       "output_type": "stream",
       "stream": "stdout",
       "text": [
        "\n",
        "4.70561383061"
       ]
      },
      {
       "output_type": "stream",
       "stream": "stdout",
       "text": [
        "\n",
        "5.50561383061"
       ]
      },
      {
       "output_type": "stream",
       "stream": "stdout",
       "text": [
        "\n",
        "5.50561383061"
       ]
      },
      {
       "output_type": "stream",
       "stream": "stdout",
       "text": [
        "\n",
        "5.95005827506"
       ]
      },
      {
       "output_type": "stream",
       "stream": "stdout",
       "text": [
        "\n",
        "5.95005827506"
       ]
      },
      {
       "output_type": "stream",
       "stream": "stdout",
       "text": [
        "\n",
        "6.18723776224"
       ]
      },
      {
       "output_type": "stream",
       "stream": "stdout",
       "text": [
        "\n",
        "6.42441724942"
       ]
      }
     ]
    },
    {
     "cell_type": "code",
     "collapsed": false,
     "input": [
      "bestAnswer"
     ],
     "language": "python",
     "metadata": {},
     "outputs": [
      {
       "metadata": {},
       "output_type": "pyout",
       "prompt_number": 19,
       "text": [
        "u'if an object is attracted to a magnet , the object is most likely made of cardboard .'"
       ]
      }
     ],
     "prompt_number": 19
    },
    {
     "cell_type": "code",
     "collapsed": false,
     "input": [
      "# maxEntailmentScore = 0\n",
      "# bestHypothesis = ''\n",
      "# for hypothesis in decomposed_answers:\n",
      "#     maxCandidateTextScore = 0\n",
      "#     hypothesisWords = list(set(removeStopWords(hypothesis)))\n",
      "#     print hypothesisWords\n",
      "#     for text in textList:\n",
      "#         textWithoutStopWords = list(set(removeStopWords(text)))\n",
      "#         #print textWithoutStopWords\n",
      "#         break\n",
      "#         similarityScore = getSimilarityScore(textWithoutStopWords, hypothesisWords)\n",
      "#         if similarityScore > maxCandidateTextScore:\n",
      "#             maxCandidateTextScore = similarityScore\n",
      "#     if maxCandidateTextScore > maxEntailmentScore:\n",
      "#         maxEntailmentScore = maxCandidateTextScore\n",
      "#         bestHypothesis = hypothesis"
     ],
     "language": "python",
     "metadata": {},
     "outputs": []
    }
   ],
   "metadata": {}
  }
 ]
}